{
 "cells": [
  {
   "cell_type": "code",
   "execution_count": 129,
   "id": "54501386",
   "metadata": {},
   "outputs": [],
   "source": [
    "#import libs\n",
    "import matplotlib.pyplot as plt\n",
    "\n",
    "import plotly as py\n",
    "import plotly.express as px\n",
    "\n",
    "import pandas as pd\n",
    "import numpy as np\n",
    "import sklearn\n",
    "from sklearn import linear_model\n",
    "from sklearn.utils import shuffle"
   ]
  },
  {
   "cell_type": "markdown",
   "id": "ad3eb6c3",
   "metadata": {},
   "source": [
    "Define the Problem ...\n",
    "\n",
    "Task of competition is to predict using ML whether a passenger was transported to an alternate dimension during the Spaceship Titanic's collision with the spacetime anomaly. \n",
    "\n",
    "Training data has been provided in the file train.csv - Personal records for about two-thirds (~8700) of the passengers, to be used as training data.\n",
    "\n",
    "Testing data has been provided in the file test.csv - Personal records for the remaining one-third (~4300) of the passengers, to be used as test data. \n",
    "\n",
    "Your task is to predict the value of Transported for the passengers in this set."
   ]
  },
  {
   "cell_type": "markdown",
   "id": "5c8cb94c",
   "metadata": {},
   "source": [
    "Define the type of Problem ...\n",
    "\n",
    "Given that we need to predict the total value of passengers transported, the output will be a category or label (i.e. transported (True) or not transported (False). Therefore, this is a classification type of problem to solve. \n",
    "\n",
    "Next steps ...\n",
    "1.Binary classification, as there are only two possible outcomes, True or False\n",
    "2.Are there any relationships between variables? Is there a decision boundary that seperates different classes? \n",
    "3.Evaluation metrics for classification include:- \n",
    "-accuracy\n",
    "-precision\n",
    "-recall\n",
    "-F1-score \n"
   ]
  },
  {
   "cell_type": "code",
   "execution_count": 182,
   "id": "63844b52",
   "metadata": {
    "scrolled": false
   },
   "outputs": [
    {
     "data": {
      "text/html": [
       "<div>\n",
       "<style scoped>\n",
       "    .dataframe tbody tr th:only-of-type {\n",
       "        vertical-align: middle;\n",
       "    }\n",
       "\n",
       "    .dataframe tbody tr th {\n",
       "        vertical-align: top;\n",
       "    }\n",
       "\n",
       "    .dataframe thead th {\n",
       "        text-align: right;\n",
       "    }\n",
       "</style>\n",
       "<table border=\"1\" class=\"dataframe\">\n",
       "  <thead>\n",
       "    <tr style=\"text-align: right;\">\n",
       "      <th></th>\n",
       "      <th>PassengerId</th>\n",
       "      <th>HomePlanet</th>\n",
       "      <th>CryoSleep</th>\n",
       "      <th>Cabin</th>\n",
       "      <th>Destination</th>\n",
       "      <th>Age</th>\n",
       "      <th>VIP</th>\n",
       "      <th>RoomService</th>\n",
       "      <th>FoodCourt</th>\n",
       "      <th>ShoppingMall</th>\n",
       "      <th>Spa</th>\n",
       "      <th>VRDeck</th>\n",
       "      <th>Name</th>\n",
       "      <th>Transported</th>\n",
       "    </tr>\n",
       "  </thead>\n",
       "  <tbody>\n",
       "    <tr>\n",
       "      <th>0</th>\n",
       "      <td>0001_01</td>\n",
       "      <td>Europa</td>\n",
       "      <td>False</td>\n",
       "      <td>B/0/P</td>\n",
       "      <td>TRAPPIST-1e</td>\n",
       "      <td>39.0</td>\n",
       "      <td>False</td>\n",
       "      <td>0.0</td>\n",
       "      <td>0.0</td>\n",
       "      <td>0.0</td>\n",
       "      <td>0.0</td>\n",
       "      <td>0.0</td>\n",
       "      <td>Maham Ofracculy</td>\n",
       "      <td>False</td>\n",
       "    </tr>\n",
       "    <tr>\n",
       "      <th>1</th>\n",
       "      <td>0002_01</td>\n",
       "      <td>Earth</td>\n",
       "      <td>False</td>\n",
       "      <td>F/0/S</td>\n",
       "      <td>TRAPPIST-1e</td>\n",
       "      <td>24.0</td>\n",
       "      <td>False</td>\n",
       "      <td>109.0</td>\n",
       "      <td>9.0</td>\n",
       "      <td>25.0</td>\n",
       "      <td>549.0</td>\n",
       "      <td>44.0</td>\n",
       "      <td>Juanna Vines</td>\n",
       "      <td>True</td>\n",
       "    </tr>\n",
       "    <tr>\n",
       "      <th>2</th>\n",
       "      <td>0003_01</td>\n",
       "      <td>Europa</td>\n",
       "      <td>False</td>\n",
       "      <td>A/0/S</td>\n",
       "      <td>TRAPPIST-1e</td>\n",
       "      <td>58.0</td>\n",
       "      <td>True</td>\n",
       "      <td>43.0</td>\n",
       "      <td>3576.0</td>\n",
       "      <td>0.0</td>\n",
       "      <td>6715.0</td>\n",
       "      <td>49.0</td>\n",
       "      <td>Altark Susent</td>\n",
       "      <td>False</td>\n",
       "    </tr>\n",
       "    <tr>\n",
       "      <th>3</th>\n",
       "      <td>0003_02</td>\n",
       "      <td>Europa</td>\n",
       "      <td>False</td>\n",
       "      <td>A/0/S</td>\n",
       "      <td>TRAPPIST-1e</td>\n",
       "      <td>33.0</td>\n",
       "      <td>False</td>\n",
       "      <td>0.0</td>\n",
       "      <td>1283.0</td>\n",
       "      <td>371.0</td>\n",
       "      <td>3329.0</td>\n",
       "      <td>193.0</td>\n",
       "      <td>Solam Susent</td>\n",
       "      <td>False</td>\n",
       "    </tr>\n",
       "    <tr>\n",
       "      <th>4</th>\n",
       "      <td>0004_01</td>\n",
       "      <td>Earth</td>\n",
       "      <td>False</td>\n",
       "      <td>F/1/S</td>\n",
       "      <td>TRAPPIST-1e</td>\n",
       "      <td>16.0</td>\n",
       "      <td>False</td>\n",
       "      <td>303.0</td>\n",
       "      <td>70.0</td>\n",
       "      <td>151.0</td>\n",
       "      <td>565.0</td>\n",
       "      <td>2.0</td>\n",
       "      <td>Willy Santantines</td>\n",
       "      <td>True</td>\n",
       "    </tr>\n",
       "  </tbody>\n",
       "</table>\n",
       "</div>"
      ],
      "text/plain": [
       "  PassengerId HomePlanet CryoSleep  Cabin  Destination   Age    VIP   \n",
       "0     0001_01     Europa     False  B/0/P  TRAPPIST-1e  39.0  False  \\\n",
       "1     0002_01      Earth     False  F/0/S  TRAPPIST-1e  24.0  False   \n",
       "2     0003_01     Europa     False  A/0/S  TRAPPIST-1e  58.0   True   \n",
       "3     0003_02     Europa     False  A/0/S  TRAPPIST-1e  33.0  False   \n",
       "4     0004_01      Earth     False  F/1/S  TRAPPIST-1e  16.0  False   \n",
       "\n",
       "   RoomService  FoodCourt  ShoppingMall     Spa  VRDeck               Name   \n",
       "0          0.0        0.0           0.0     0.0     0.0    Maham Ofracculy  \\\n",
       "1        109.0        9.0          25.0   549.0    44.0       Juanna Vines   \n",
       "2         43.0     3576.0           0.0  6715.0    49.0      Altark Susent   \n",
       "3          0.0     1283.0         371.0  3329.0   193.0       Solam Susent   \n",
       "4        303.0       70.0         151.0   565.0     2.0  Willy Santantines   \n",
       "\n",
       "   Transported  \n",
       "0        False  \n",
       "1         True  \n",
       "2        False  \n",
       "3        False  \n",
       "4         True  "
      ]
     },
     "execution_count": 182,
     "metadata": {},
     "output_type": "execute_result"
    }
   ],
   "source": [
    "#Gather and prepare training data (data is already split between training and test data)\n",
    "\n",
    "file_path = r\"C:\\Users\\Krupa\\Documents\\Krups Coding\\Kaggle\\ML_titanic\\train.csv\"\n",
    "train_data = pd.read_csv(file_path)\n",
    "train_data.head()"
   ]
  },
  {
   "cell_type": "code",
   "execution_count": 5,
   "id": "a2e26f73",
   "metadata": {},
   "outputs": [
    {
     "data": {
      "text/plain": [
       "Index(['PassengerId', 'HomePlanet', 'CryoSleep', 'Cabin', 'Destination', 'Age',\n",
       "       'VIP', 'RoomService', 'FoodCourt', 'ShoppingMall', 'Spa', 'VRDeck',\n",
       "       'Name', 'Transported'],\n",
       "      dtype='object')"
      ]
     },
     "execution_count": 5,
     "metadata": {},
     "output_type": "execute_result"
    }
   ],
   "source": [
    "train_data.columns"
   ]
  },
  {
   "cell_type": "code",
   "execution_count": 54,
   "id": "2151580d",
   "metadata": {},
   "outputs": [
    {
     "data": {
      "text/plain": [
       "(8693, 14)"
      ]
     },
     "execution_count": 54,
     "metadata": {},
     "output_type": "execute_result"
    }
   ],
   "source": [
    "train_data.shape"
   ]
  },
  {
   "cell_type": "code",
   "execution_count": 7,
   "id": "b2665e97",
   "metadata": {
    "scrolled": true
   },
   "outputs": [
    {
     "data": {
      "text/html": [
       "<div>\n",
       "<style scoped>\n",
       "    .dataframe tbody tr th:only-of-type {\n",
       "        vertical-align: middle;\n",
       "    }\n",
       "\n",
       "    .dataframe tbody tr th {\n",
       "        vertical-align: top;\n",
       "    }\n",
       "\n",
       "    .dataframe thead th {\n",
       "        text-align: right;\n",
       "    }\n",
       "</style>\n",
       "<table border=\"1\" class=\"dataframe\">\n",
       "  <thead>\n",
       "    <tr style=\"text-align: right;\">\n",
       "      <th></th>\n",
       "      <th>Age</th>\n",
       "      <th>RoomService</th>\n",
       "      <th>FoodCourt</th>\n",
       "      <th>ShoppingMall</th>\n",
       "      <th>Spa</th>\n",
       "      <th>VRDeck</th>\n",
       "    </tr>\n",
       "  </thead>\n",
       "  <tbody>\n",
       "    <tr>\n",
       "      <th>count</th>\n",
       "      <td>8514.000000</td>\n",
       "      <td>8512.000000</td>\n",
       "      <td>8510.000000</td>\n",
       "      <td>8485.000000</td>\n",
       "      <td>8510.000000</td>\n",
       "      <td>8505.000000</td>\n",
       "    </tr>\n",
       "    <tr>\n",
       "      <th>mean</th>\n",
       "      <td>28.827930</td>\n",
       "      <td>224.687617</td>\n",
       "      <td>458.077203</td>\n",
       "      <td>173.729169</td>\n",
       "      <td>311.138778</td>\n",
       "      <td>304.854791</td>\n",
       "    </tr>\n",
       "    <tr>\n",
       "      <th>std</th>\n",
       "      <td>14.489021</td>\n",
       "      <td>666.717663</td>\n",
       "      <td>1611.489240</td>\n",
       "      <td>604.696458</td>\n",
       "      <td>1136.705535</td>\n",
       "      <td>1145.717189</td>\n",
       "    </tr>\n",
       "    <tr>\n",
       "      <th>min</th>\n",
       "      <td>0.000000</td>\n",
       "      <td>0.000000</td>\n",
       "      <td>0.000000</td>\n",
       "      <td>0.000000</td>\n",
       "      <td>0.000000</td>\n",
       "      <td>0.000000</td>\n",
       "    </tr>\n",
       "    <tr>\n",
       "      <th>25%</th>\n",
       "      <td>19.000000</td>\n",
       "      <td>0.000000</td>\n",
       "      <td>0.000000</td>\n",
       "      <td>0.000000</td>\n",
       "      <td>0.000000</td>\n",
       "      <td>0.000000</td>\n",
       "    </tr>\n",
       "    <tr>\n",
       "      <th>50%</th>\n",
       "      <td>27.000000</td>\n",
       "      <td>0.000000</td>\n",
       "      <td>0.000000</td>\n",
       "      <td>0.000000</td>\n",
       "      <td>0.000000</td>\n",
       "      <td>0.000000</td>\n",
       "    </tr>\n",
       "    <tr>\n",
       "      <th>75%</th>\n",
       "      <td>38.000000</td>\n",
       "      <td>47.000000</td>\n",
       "      <td>76.000000</td>\n",
       "      <td>27.000000</td>\n",
       "      <td>59.000000</td>\n",
       "      <td>46.000000</td>\n",
       "    </tr>\n",
       "    <tr>\n",
       "      <th>max</th>\n",
       "      <td>79.000000</td>\n",
       "      <td>14327.000000</td>\n",
       "      <td>29813.000000</td>\n",
       "      <td>23492.000000</td>\n",
       "      <td>22408.000000</td>\n",
       "      <td>24133.000000</td>\n",
       "    </tr>\n",
       "  </tbody>\n",
       "</table>\n",
       "</div>"
      ],
      "text/plain": [
       "               Age   RoomService     FoodCourt  ShoppingMall           Spa   \n",
       "count  8514.000000   8512.000000   8510.000000   8485.000000   8510.000000  \\\n",
       "mean     28.827930    224.687617    458.077203    173.729169    311.138778   \n",
       "std      14.489021    666.717663   1611.489240    604.696458   1136.705535   \n",
       "min       0.000000      0.000000      0.000000      0.000000      0.000000   \n",
       "25%      19.000000      0.000000      0.000000      0.000000      0.000000   \n",
       "50%      27.000000      0.000000      0.000000      0.000000      0.000000   \n",
       "75%      38.000000     47.000000     76.000000     27.000000     59.000000   \n",
       "max      79.000000  14327.000000  29813.000000  23492.000000  22408.000000   \n",
       "\n",
       "             VRDeck  \n",
       "count   8505.000000  \n",
       "mean     304.854791  \n",
       "std     1145.717189  \n",
       "min        0.000000  \n",
       "25%        0.000000  \n",
       "50%        0.000000  \n",
       "75%       46.000000  \n",
       "max    24133.000000  "
      ]
     },
     "execution_count": 7,
     "metadata": {},
     "output_type": "execute_result"
    }
   ],
   "source": [
    "train_data.describe()"
   ]
  },
  {
   "cell_type": "code",
   "execution_count": 110,
   "id": "038ffb9a",
   "metadata": {
    "scrolled": true
   },
   "outputs": [
    {
     "data": {
      "text/plain": [
       "PassengerId      object\n",
       "HomePlanet       object\n",
       "CryoSleep        object\n",
       "Cabin            object\n",
       "Destination      object\n",
       "Age             float64\n",
       "VIP              object\n",
       "RoomService     float64\n",
       "FoodCourt       float64\n",
       "ShoppingMall    float64\n",
       "Spa             float64\n",
       "VRDeck          float64\n",
       "Name             object\n",
       "Transported        bool\n",
       "dtype: object"
      ]
     },
     "execution_count": 110,
     "metadata": {},
     "output_type": "execute_result"
    }
   ],
   "source": [
    "train_data.dtypes"
   ]
  },
  {
   "cell_type": "code",
   "execution_count": 159,
   "id": "f6bf3436",
   "metadata": {
    "scrolled": false
   },
   "outputs": [
    {
     "name": "stdout",
     "output_type": "stream",
     "text": [
      "missing values (%) per column: \n",
      " PassengerId     0.000000\n",
      "HomePlanet      2.312205\n",
      "CryoSleep       2.496261\n",
      "Cabin           2.289198\n",
      "Destination     2.093639\n",
      "Age             2.059128\n",
      "VIP             2.335212\n",
      "RoomService     2.082135\n",
      "FoodCourt       2.105142\n",
      "ShoppingMall    2.392730\n",
      "Spa             2.105142\n",
      "VRDeck          2.162660\n",
      "Name            2.300702\n",
      "Transported     0.000000\n",
      "dtype: float64\n"
     ]
    }
   ],
   "source": [
    "#Clean and pre-process data \n",
    "#check and handle missing values, outliers etc. \n",
    "\n",
    "print('missing values (%) per column: \\n', 100*train_data.isnull().mean())"
   ]
  },
  {
   "cell_type": "code",
   "execution_count": 160,
   "id": "981e0e1a",
   "metadata": {
    "scrolled": true
   },
   "outputs": [
    {
     "name": "stdout",
     "output_type": "stream",
     "text": [
      "Overall percentage of missing values in dataset:  1.91 %\n"
     ]
    }
   ],
   "source": [
    "#overall percentage of missing values \n",
    "total_cells = np.product(train_data.shape)\n",
    "missing_vals = train_data.isnull().sum()\n",
    "total_missing_vals = missing_vals.sum()\n",
    "percent_missing_vals = ((total_missing_vals/total_cells)*100).round(2)\n",
    "print('Overall percentage of missing values in dataset: ', percent_missing_vals,'%')\n"
   ]
  },
  {
   "cell_type": "markdown",
   "id": "ee621911",
   "metadata": {},
   "source": [
    "There is a small percentage of missing values in 12 out of 14 of the columns. The only columns without missing data are PassengerId and Transported.\n",
    "\n",
    "For the numerical columns we could impute the mean value:-\n",
    "1.Age\n",
    "2.RoomService\n",
    "3.FoodCourt\n",
    "4.ShoppingMall\n",
    "5.Spa\n",
    "6.VRDeck\n"
   ]
  },
  {
   "cell_type": "code",
   "execution_count": 161,
   "id": "6288e986",
   "metadata": {},
   "outputs": [],
   "source": [
    "#Let's fill the missing numerical values with mean values\n",
    "\n",
    "mean_age=train_data['Age'].mean()\n",
    "mean_RS=train_data['RoomService'].mean()\n",
    "mean_FC=train_data['FoodCourt'].mean()\n",
    "mean_SM=train_data['ShoppingMall'].mean()\n",
    "mean_Spa=train_data['Spa'].mean()\n",
    "mean_VRDeck=train_data['VRDeck'].mean()\n",
    "\n",
    "\n",
    "train_data['Age'].fillna(mean_age, inplace=True)\n",
    "train_data['RoomService'].fillna(mean_RS, inplace=True)\n",
    "train_data['FoodCourt'].fillna(mean_FC, inplace=True)\n",
    "train_data['ShoppingMall'].fillna(mean_SM, inplace=True)\n",
    "train_data['Spa'].fillna(mean_Spa, inplace=True)\n",
    "train_data['VRDeck'].fillna(mean_VRDeck, inplace=True)"
   ]
  },
  {
   "cell_type": "code",
   "execution_count": 162,
   "id": "c5452c22",
   "metadata": {},
   "outputs": [
    {
     "name": "stdout",
     "output_type": "stream",
     "text": [
      "Percentage of missing values following mean value update 0.99 %\n"
     ]
    }
   ],
   "source": [
    "total_cells = np.product(train_data.shape)\n",
    "missing_vals = train_data.isnull().sum()\n",
    "total_missing_vals = missing_vals.sum()\n",
    "updated_percent_missing_vals = ((total_missing_vals/total_cells)*100).round(2)\n",
    "\n",
    "\n",
    "print('Percentage of missing values following mean value update',updated_percent_missing_vals , '%')"
   ]
  },
  {
   "cell_type": "markdown",
   "id": "93014187",
   "metadata": {},
   "source": [
    "Now we are down to less than 1% of missing values in the remaining columns! Let's take a look at the category columns:-\n",
    "\n",
    "1.HomePlanet\n",
    "2.CryoSleep\n",
    "3.Cabin\n",
    "4.Destination\n",
    "5.VIP\n",
    "6.Name \n",
    "\n"
   ]
  },
  {
   "cell_type": "code",
   "execution_count": 163,
   "id": "c3408811",
   "metadata": {},
   "outputs": [
    {
     "name": "stdout",
     "output_type": "stream",
     "text": [
      "Missing Home Planet Values: 201\n",
      "Missing CryoSleep Values: 217\n",
      "Missing Cabin Values: 199\n",
      "Missing Destination Values: 182\n",
      "Missing VIP Values: 203\n",
      "Missing Name Values: 200\n"
     ]
    }
   ],
   "source": [
    "#how many values are missing in the category columns?\n",
    "\n",
    "missing_hp_val=train_data['HomePlanet'].isnull().sum()\n",
    "missing_cs_val=train_data['CryoSleep'].isnull().sum()\n",
    "missing_cab_val=train_data['Cabin'].isnull().sum()\n",
    "missing_dest_val=train_data['Destination'].isnull().sum()\n",
    "missing_vip_val=train_data['VIP'].isnull().sum()\n",
    "missing_name_val=train_data['Name'].isnull().sum()\n",
    "\n",
    "print('Missing Home Planet Values:', missing_hp_val)\n",
    "print('Missing CryoSleep Values:', missing_cs_val)\n",
    "print('Missing Cabin Values:', missing_cab_val)\n",
    "print('Missing Destination Values:', missing_dest_val)\n",
    "print('Missing VIP Values:', missing_vip_val)\n",
    "print('Missing Name Values:', missing_name_val)\n",
    "\n"
   ]
  },
  {
   "cell_type": "markdown",
   "id": "949f6892",
   "metadata": {},
   "source": [
    "The missing values in the category column seem to hover around the 200-mark. I think it would be sensible to drop the rows where the Name values are missing. \n"
   ]
  },
  {
   "cell_type": "code",
   "execution_count": 164,
   "id": "54b06a64",
   "metadata": {
    "scrolled": true
   },
   "outputs": [
    {
     "data": {
      "text/plain": [
       "(8493, 14)"
      ]
     },
     "execution_count": 164,
     "metadata": {},
     "output_type": "execute_result"
    }
   ],
   "source": [
    "train_data.dropna(subset=['Name'], inplace=True)\n",
    "train_data.shape"
   ]
  },
  {
   "cell_type": "code",
   "execution_count": 165,
   "id": "920bd79d",
   "metadata": {},
   "outputs": [
    {
     "name": "stdout",
     "output_type": "stream",
     "text": [
      "Missing Home Planet Values: 194\n",
      "Missing CryoSleep Values: 207\n",
      "Missing Cabin Values: 197\n",
      "Missing Destination Values: 178\n",
      "Missing VIP Values: 202\n",
      "Missing Name Values: 0\n"
     ]
    }
   ],
   "source": [
    "#Let's review the missing values \n",
    "\n",
    "updated_missing_hp_val=train_data['HomePlanet'].isnull().sum()\n",
    "updated_missing_cs_val=train_data['CryoSleep'].isnull().sum()\n",
    "updated_missing_cab_val=train_data['Cabin'].isnull().sum()\n",
    "updated_missing_dest_val=train_data['Destination'].isnull().sum()\n",
    "updated_missing_vip_val=train_data['VIP'].isnull().sum()\n",
    "updated_missing_name_val=train_data['Name'].isnull().sum()\n",
    "\n",
    "print('Missing Home Planet Values:', updated_missing_hp_val)\n",
    "print('Missing CryoSleep Values:', updated_missing_cs_val)\n",
    "print('Missing Cabin Values:', updated_missing_cab_val)\n",
    "print('Missing Destination Values:', updated_missing_dest_val)\n",
    "print('Missing VIP Values:', updated_missing_vip_val)\n",
    "print('Missing Name Values:', updated_missing_name_val)"
   ]
  },
  {
   "cell_type": "markdown",
   "id": "ab6f001f",
   "metadata": {},
   "source": [
    "There doesn't seem to be a relationship between the missing names and other category columns as there is a still approx. 200 rows missing in the other columns. \n"
   ]
  },
  {
   "cell_type": "code",
   "execution_count": 166,
   "id": "868993e4",
   "metadata": {},
   "outputs": [
    {
     "name": "stdout",
     "output_type": "stream",
     "text": [
      "Mode Home Planet Value: Earth\n",
      "Mode CryoSleep Value: False\n",
      "Mode Cabin Value: G/734/S\n",
      "Mode Destination Value: TRAPPIST-1e\n",
      "Mode VIP Value: False\n"
     ]
    }
   ],
   "source": [
    "#mode method returns the most frequently occurring value and iloc[o] returns the first from a series\n",
    "mode_hp=train_data['HomePlanet'].mode().iloc[0]\n",
    "mode_cs=train_data['CryoSleep'].mode().iloc[0]\n",
    "mode_cab=train_data['Cabin'].mode().iloc[0]\n",
    "mode_dest=train_data['Destination'].mode().iloc[0]\n",
    "mode_vip=train_data['VIP'].mode().iloc[0]\n",
    "\n",
    "\n",
    "print('Mode Home Planet Value:', mode_hp)\n",
    "print('Mode CryoSleep Value:', mode_cs)\n",
    "print('Mode Cabin Value:', mode_cab)\n",
    "print('Mode Destination Value:', mode_dest)\n",
    "print('Mode VIP Value:', mode_vip)\n",
    "\n"
   ]
  },
  {
   "cell_type": "code",
   "execution_count": 167,
   "id": "5ef3b1d5",
   "metadata": {},
   "outputs": [],
   "source": [
    "#Let's first fill the home planet values and destination values with the mode\n",
    "train_data['HomePlanet'].fillna(mode_hp, inplace=True)\n",
    "train_data['Destination'].fillna(mode_dest, inplace=True)\n"
   ]
  },
  {
   "cell_type": "code",
   "execution_count": 141,
   "id": "72ab65a8",
   "metadata": {},
   "outputs": [
    {
     "data": {
      "text/plain": [
       "(8493, 14)"
      ]
     },
     "execution_count": 141,
     "metadata": {},
     "output_type": "execute_result"
    }
   ],
   "source": [
    "train_data.shape"
   ]
  },
  {
   "cell_type": "code",
   "execution_count": 168,
   "id": "dfe2acce",
   "metadata": {},
   "outputs": [
    {
     "name": "stdout",
     "output_type": "stream",
     "text": [
      "Percentage of missing values following mode update 0.51 %\n"
     ]
    }
   ],
   "source": [
    "total_cells = np.product(train_data.shape)\n",
    "missing_vals = train_data.isnull().sum()\n",
    "total_missing_vals = missing_vals.sum()\n",
    "second_updated_percent_missing_vals = ((total_missing_vals/total_cells)*100).round(2)\n",
    "\n",
    "print('Percentage of missing values following mode update',second_updated_percent_missing_vals , '%')"
   ]
  },
  {
   "cell_type": "markdown",
   "id": "967d1491",
   "metadata": {},
   "source": [
    "Now the percent of missing values is around half a percent, I think it would be reasonable to drop the rows with missing values in the CryopSleep column and Cabin Value column as it would be difficult to carry out accurate imputation in these columns. "
   ]
  },
  {
   "cell_type": "code",
   "execution_count": 169,
   "id": "4aa1eb16",
   "metadata": {},
   "outputs": [
    {
     "data": {
      "text/plain": [
       "(7907, 14)"
      ]
     },
     "execution_count": 169,
     "metadata": {},
     "output_type": "execute_result"
    }
   ],
   "source": [
    "#drop missing rows in cryosleep, vip and cabin columns\n",
    "\n",
    "train_data.dropna(subset=['CryoSleep', 'Cabin', 'VIP'], inplace=True)\n",
    "\n",
    "train_data.shape"
   ]
  },
  {
   "cell_type": "code",
   "execution_count": 170,
   "id": "94451b0f",
   "metadata": {},
   "outputs": [
    {
     "name": "stdout",
     "output_type": "stream",
     "text": [
      "missing values (%) per column: \n",
      " PassengerId     0.0\n",
      "HomePlanet      0.0\n",
      "CryoSleep       0.0\n",
      "Cabin           0.0\n",
      "Destination     0.0\n",
      "Age             0.0\n",
      "VIP             0.0\n",
      "RoomService     0.0\n",
      "FoodCourt       0.0\n",
      "ShoppingMall    0.0\n",
      "Spa             0.0\n",
      "VRDeck          0.0\n",
      "Name            0.0\n",
      "Transported     0.0\n",
      "dtype: float64\n"
     ]
    }
   ],
   "source": [
    "print('missing values (%) per column: \\n', 100*train_data.isnull().mean())"
   ]
  },
  {
   "cell_type": "markdown",
   "id": "08f50a53",
   "metadata": {},
   "source": [
    "Now the missing values have been dealt with, we can move on to the next step. \n",
    "\n",
    "To identify any correlations between columns, it could be useful to map category columns data values to integers and take a deeper dive into the dataset. \n",
    "\n",
    "The cabin column provides information on the deck/number/side (i.e. Port or Starboard). \n"
   ]
  },
  {
   "cell_type": "code",
   "execution_count": 183,
   "id": "1b142a98",
   "metadata": {
    "scrolled": true
   },
   "outputs": [],
   "source": [
    "#Let's split the cabin column into three separate columns for deck, number and side.\n",
    "\n",
    "train_data[['Cabin Deck', 'Cabin Number', 'Cabin Side']] = train_data['Cabin'].str.split('/', expand=True)\n"
   ]
  },
  {
   "cell_type": "code",
   "execution_count": 184,
   "id": "a1180cdd",
   "metadata": {},
   "outputs": [
    {
     "data": {
      "text/html": [
       "<div>\n",
       "<style scoped>\n",
       "    .dataframe tbody tr th:only-of-type {\n",
       "        vertical-align: middle;\n",
       "    }\n",
       "\n",
       "    .dataframe tbody tr th {\n",
       "        vertical-align: top;\n",
       "    }\n",
       "\n",
       "    .dataframe thead th {\n",
       "        text-align: right;\n",
       "    }\n",
       "</style>\n",
       "<table border=\"1\" class=\"dataframe\">\n",
       "  <thead>\n",
       "    <tr style=\"text-align: right;\">\n",
       "      <th></th>\n",
       "      <th>PassengerId</th>\n",
       "      <th>HomePlanet</th>\n",
       "      <th>CryoSleep</th>\n",
       "      <th>Cabin</th>\n",
       "      <th>Destination</th>\n",
       "      <th>Age</th>\n",
       "      <th>VIP</th>\n",
       "      <th>RoomService</th>\n",
       "      <th>FoodCourt</th>\n",
       "      <th>ShoppingMall</th>\n",
       "      <th>Spa</th>\n",
       "      <th>VRDeck</th>\n",
       "      <th>Name</th>\n",
       "      <th>Transported</th>\n",
       "      <th>Cabin Deck</th>\n",
       "      <th>Cabin Number</th>\n",
       "      <th>Cabin Side</th>\n",
       "    </tr>\n",
       "  </thead>\n",
       "  <tbody>\n",
       "    <tr>\n",
       "      <th>0</th>\n",
       "      <td>0001_01</td>\n",
       "      <td>Europa</td>\n",
       "      <td>False</td>\n",
       "      <td>B/0/P</td>\n",
       "      <td>TRAPPIST-1e</td>\n",
       "      <td>39.0</td>\n",
       "      <td>False</td>\n",
       "      <td>0.0</td>\n",
       "      <td>0.0</td>\n",
       "      <td>0.0</td>\n",
       "      <td>0.0</td>\n",
       "      <td>0.0</td>\n",
       "      <td>Maham Ofracculy</td>\n",
       "      <td>False</td>\n",
       "      <td>B</td>\n",
       "      <td>0</td>\n",
       "      <td>P</td>\n",
       "    </tr>\n",
       "    <tr>\n",
       "      <th>1</th>\n",
       "      <td>0002_01</td>\n",
       "      <td>Earth</td>\n",
       "      <td>False</td>\n",
       "      <td>F/0/S</td>\n",
       "      <td>TRAPPIST-1e</td>\n",
       "      <td>24.0</td>\n",
       "      <td>False</td>\n",
       "      <td>109.0</td>\n",
       "      <td>9.0</td>\n",
       "      <td>25.0</td>\n",
       "      <td>549.0</td>\n",
       "      <td>44.0</td>\n",
       "      <td>Juanna Vines</td>\n",
       "      <td>True</td>\n",
       "      <td>F</td>\n",
       "      <td>0</td>\n",
       "      <td>S</td>\n",
       "    </tr>\n",
       "    <tr>\n",
       "      <th>2</th>\n",
       "      <td>0003_01</td>\n",
       "      <td>Europa</td>\n",
       "      <td>False</td>\n",
       "      <td>A/0/S</td>\n",
       "      <td>TRAPPIST-1e</td>\n",
       "      <td>58.0</td>\n",
       "      <td>True</td>\n",
       "      <td>43.0</td>\n",
       "      <td>3576.0</td>\n",
       "      <td>0.0</td>\n",
       "      <td>6715.0</td>\n",
       "      <td>49.0</td>\n",
       "      <td>Altark Susent</td>\n",
       "      <td>False</td>\n",
       "      <td>A</td>\n",
       "      <td>0</td>\n",
       "      <td>S</td>\n",
       "    </tr>\n",
       "    <tr>\n",
       "      <th>3</th>\n",
       "      <td>0003_02</td>\n",
       "      <td>Europa</td>\n",
       "      <td>False</td>\n",
       "      <td>A/0/S</td>\n",
       "      <td>TRAPPIST-1e</td>\n",
       "      <td>33.0</td>\n",
       "      <td>False</td>\n",
       "      <td>0.0</td>\n",
       "      <td>1283.0</td>\n",
       "      <td>371.0</td>\n",
       "      <td>3329.0</td>\n",
       "      <td>193.0</td>\n",
       "      <td>Solam Susent</td>\n",
       "      <td>False</td>\n",
       "      <td>A</td>\n",
       "      <td>0</td>\n",
       "      <td>S</td>\n",
       "    </tr>\n",
       "    <tr>\n",
       "      <th>4</th>\n",
       "      <td>0004_01</td>\n",
       "      <td>Earth</td>\n",
       "      <td>False</td>\n",
       "      <td>F/1/S</td>\n",
       "      <td>TRAPPIST-1e</td>\n",
       "      <td>16.0</td>\n",
       "      <td>False</td>\n",
       "      <td>303.0</td>\n",
       "      <td>70.0</td>\n",
       "      <td>151.0</td>\n",
       "      <td>565.0</td>\n",
       "      <td>2.0</td>\n",
       "      <td>Willy Santantines</td>\n",
       "      <td>True</td>\n",
       "      <td>F</td>\n",
       "      <td>1</td>\n",
       "      <td>S</td>\n",
       "    </tr>\n",
       "  </tbody>\n",
       "</table>\n",
       "</div>"
      ],
      "text/plain": [
       "  PassengerId HomePlanet CryoSleep  Cabin  Destination   Age    VIP   \n",
       "0     0001_01     Europa     False  B/0/P  TRAPPIST-1e  39.0  False  \\\n",
       "1     0002_01      Earth     False  F/0/S  TRAPPIST-1e  24.0  False   \n",
       "2     0003_01     Europa     False  A/0/S  TRAPPIST-1e  58.0   True   \n",
       "3     0003_02     Europa     False  A/0/S  TRAPPIST-1e  33.0  False   \n",
       "4     0004_01      Earth     False  F/1/S  TRAPPIST-1e  16.0  False   \n",
       "\n",
       "   RoomService  FoodCourt  ShoppingMall     Spa  VRDeck               Name   \n",
       "0          0.0        0.0           0.0     0.0     0.0    Maham Ofracculy  \\\n",
       "1        109.0        9.0          25.0   549.0    44.0       Juanna Vines   \n",
       "2         43.0     3576.0           0.0  6715.0    49.0      Altark Susent   \n",
       "3          0.0     1283.0         371.0  3329.0   193.0       Solam Susent   \n",
       "4        303.0       70.0         151.0   565.0     2.0  Willy Santantines   \n",
       "\n",
       "   Transported Cabin Deck Cabin Number Cabin Side  \n",
       "0        False          B            0          P  \n",
       "1         True          F            0          S  \n",
       "2        False          A            0          S  \n",
       "3        False          A            0          S  \n",
       "4         True          F            1          S  "
      ]
     },
     "execution_count": 184,
     "metadata": {},
     "output_type": "execute_result"
    }
   ],
   "source": [
    "train_data.head()"
   ]
  },
  {
   "cell_type": "code",
   "execution_count": 185,
   "id": "5bdc09f0",
   "metadata": {},
   "outputs": [],
   "source": [
    "#map data in Home Planet and Destination columns \n",
    "mapping_dict1 = {'Earth':1, 'Europa':2, 'Mars':3}\n",
    "train_data['HomePlanet'] = train_data['HomePlanet'].map(mapping_dict1)\n",
    "\n",
    "mapping_dict2 = {'P':1, 'S':2}\n",
    "train_data['Cabin Side'] = train_data['Cabin Side'].map(mapping_dict2)\n",
    "\n",
    "mapping_dict3 = {'TRAPPIST-1e': 1, 'PSO J318.5-22': 2, '55 Cancri e': 3}\n",
    "train_data['Destination'] = train_data['Destination'].map(mapping_dict3)\n",
    "\n",
    "mapping_dict4 = {'A': 1, 'B': 2, 'C': 3, 'D':4, 'E':5, 'F':6, 'G':7, 'T':8}\n",
    "train_data['Cabin Deck'] = train_data['Cabin Deck'].map(mapping_dict4)"
   ]
  },
  {
   "cell_type": "code",
   "execution_count": 186,
   "id": "40575035",
   "metadata": {
    "scrolled": true
   },
   "outputs": [
    {
     "data": {
      "text/plain": [
       "Cabin Deck\n",
       "6.0    2794\n",
       "7.0    2559\n",
       "5.0     876\n",
       "2.0     779\n",
       "3.0     747\n",
       "4.0     478\n",
       "1.0     256\n",
       "8.0       5\n",
       "Name: count, dtype: int64"
      ]
     },
     "execution_count": 186,
     "metadata": {},
     "output_type": "execute_result"
    }
   ],
   "source": [
    "train_data['Cabin Deck'].value_counts()"
   ]
  },
  {
   "cell_type": "code",
   "execution_count": 92,
   "id": "51c470f9",
   "metadata": {},
   "outputs": [],
   "source": [
    "#map columns with bool values to floating ints.\n",
    "\n",
    "#train_data['CryoSleep'] = train_data['CryoSleep'].astype('float32')\n",
    "#train_data['VIP'] = train_data['VIP'].astype('float32')"
   ]
  },
  {
   "cell_type": "code",
   "execution_count": 187,
   "id": "52af7d8b",
   "metadata": {
    "scrolled": true
   },
   "outputs": [
    {
     "data": {
      "text/html": [
       "<div>\n",
       "<style scoped>\n",
       "    .dataframe tbody tr th:only-of-type {\n",
       "        vertical-align: middle;\n",
       "    }\n",
       "\n",
       "    .dataframe tbody tr th {\n",
       "        vertical-align: top;\n",
       "    }\n",
       "\n",
       "    .dataframe thead th {\n",
       "        text-align: right;\n",
       "    }\n",
       "</style>\n",
       "<table border=\"1\" class=\"dataframe\">\n",
       "  <thead>\n",
       "    <tr style=\"text-align: right;\">\n",
       "      <th></th>\n",
       "      <th>PassengerId</th>\n",
       "      <th>HomePlanet</th>\n",
       "      <th>CryoSleep</th>\n",
       "      <th>Cabin</th>\n",
       "      <th>Destination</th>\n",
       "      <th>Age</th>\n",
       "      <th>VIP</th>\n",
       "      <th>RoomService</th>\n",
       "      <th>FoodCourt</th>\n",
       "      <th>ShoppingMall</th>\n",
       "      <th>Spa</th>\n",
       "      <th>VRDeck</th>\n",
       "      <th>Name</th>\n",
       "      <th>Transported</th>\n",
       "      <th>Cabin Deck</th>\n",
       "      <th>Cabin Number</th>\n",
       "      <th>Cabin Side</th>\n",
       "    </tr>\n",
       "  </thead>\n",
       "  <tbody>\n",
       "    <tr>\n",
       "      <th>0</th>\n",
       "      <td>0001_01</td>\n",
       "      <td>2.0</td>\n",
       "      <td>False</td>\n",
       "      <td>B/0/P</td>\n",
       "      <td>1.0</td>\n",
       "      <td>39.0</td>\n",
       "      <td>False</td>\n",
       "      <td>0.0</td>\n",
       "      <td>0.0</td>\n",
       "      <td>0.0</td>\n",
       "      <td>0.0</td>\n",
       "      <td>0.0</td>\n",
       "      <td>Maham Ofracculy</td>\n",
       "      <td>False</td>\n",
       "      <td>2.0</td>\n",
       "      <td>0</td>\n",
       "      <td>1.0</td>\n",
       "    </tr>\n",
       "    <tr>\n",
       "      <th>1</th>\n",
       "      <td>0002_01</td>\n",
       "      <td>1.0</td>\n",
       "      <td>False</td>\n",
       "      <td>F/0/S</td>\n",
       "      <td>1.0</td>\n",
       "      <td>24.0</td>\n",
       "      <td>False</td>\n",
       "      <td>109.0</td>\n",
       "      <td>9.0</td>\n",
       "      <td>25.0</td>\n",
       "      <td>549.0</td>\n",
       "      <td>44.0</td>\n",
       "      <td>Juanna Vines</td>\n",
       "      <td>True</td>\n",
       "      <td>6.0</td>\n",
       "      <td>0</td>\n",
       "      <td>2.0</td>\n",
       "    </tr>\n",
       "    <tr>\n",
       "      <th>2</th>\n",
       "      <td>0003_01</td>\n",
       "      <td>2.0</td>\n",
       "      <td>False</td>\n",
       "      <td>A/0/S</td>\n",
       "      <td>1.0</td>\n",
       "      <td>58.0</td>\n",
       "      <td>True</td>\n",
       "      <td>43.0</td>\n",
       "      <td>3576.0</td>\n",
       "      <td>0.0</td>\n",
       "      <td>6715.0</td>\n",
       "      <td>49.0</td>\n",
       "      <td>Altark Susent</td>\n",
       "      <td>False</td>\n",
       "      <td>1.0</td>\n",
       "      <td>0</td>\n",
       "      <td>2.0</td>\n",
       "    </tr>\n",
       "    <tr>\n",
       "      <th>3</th>\n",
       "      <td>0003_02</td>\n",
       "      <td>2.0</td>\n",
       "      <td>False</td>\n",
       "      <td>A/0/S</td>\n",
       "      <td>1.0</td>\n",
       "      <td>33.0</td>\n",
       "      <td>False</td>\n",
       "      <td>0.0</td>\n",
       "      <td>1283.0</td>\n",
       "      <td>371.0</td>\n",
       "      <td>3329.0</td>\n",
       "      <td>193.0</td>\n",
       "      <td>Solam Susent</td>\n",
       "      <td>False</td>\n",
       "      <td>1.0</td>\n",
       "      <td>0</td>\n",
       "      <td>2.0</td>\n",
       "    </tr>\n",
       "    <tr>\n",
       "      <th>4</th>\n",
       "      <td>0004_01</td>\n",
       "      <td>1.0</td>\n",
       "      <td>False</td>\n",
       "      <td>F/1/S</td>\n",
       "      <td>1.0</td>\n",
       "      <td>16.0</td>\n",
       "      <td>False</td>\n",
       "      <td>303.0</td>\n",
       "      <td>70.0</td>\n",
       "      <td>151.0</td>\n",
       "      <td>565.0</td>\n",
       "      <td>2.0</td>\n",
       "      <td>Willy Santantines</td>\n",
       "      <td>True</td>\n",
       "      <td>6.0</td>\n",
       "      <td>1</td>\n",
       "      <td>2.0</td>\n",
       "    </tr>\n",
       "  </tbody>\n",
       "</table>\n",
       "</div>"
      ],
      "text/plain": [
       "  PassengerId  HomePlanet CryoSleep  Cabin  Destination   Age    VIP   \n",
       "0     0001_01         2.0     False  B/0/P          1.0  39.0  False  \\\n",
       "1     0002_01         1.0     False  F/0/S          1.0  24.0  False   \n",
       "2     0003_01         2.0     False  A/0/S          1.0  58.0   True   \n",
       "3     0003_02         2.0     False  A/0/S          1.0  33.0  False   \n",
       "4     0004_01         1.0     False  F/1/S          1.0  16.0  False   \n",
       "\n",
       "   RoomService  FoodCourt  ShoppingMall     Spa  VRDeck               Name   \n",
       "0          0.0        0.0           0.0     0.0     0.0    Maham Ofracculy  \\\n",
       "1        109.0        9.0          25.0   549.0    44.0       Juanna Vines   \n",
       "2         43.0     3576.0           0.0  6715.0    49.0      Altark Susent   \n",
       "3          0.0     1283.0         371.0  3329.0   193.0       Solam Susent   \n",
       "4        303.0       70.0         151.0   565.0     2.0  Willy Santantines   \n",
       "\n",
       "   Transported  Cabin Deck Cabin Number  Cabin Side  \n",
       "0        False         2.0            0         1.0  \n",
       "1         True         6.0            0         2.0  \n",
       "2        False         1.0            0         2.0  \n",
       "3        False         1.0            0         2.0  \n",
       "4         True         6.0            1         2.0  "
      ]
     },
     "execution_count": 187,
     "metadata": {},
     "output_type": "execute_result"
    }
   ],
   "source": [
    "train_data.head()"
   ]
  },
  {
   "cell_type": "code",
   "execution_count": 188,
   "id": "c04de7fb",
   "metadata": {
    "scrolled": true
   },
   "outputs": [
    {
     "data": {
      "text/html": [
       "<div>\n",
       "<style scoped>\n",
       "    .dataframe tbody tr th:only-of-type {\n",
       "        vertical-align: middle;\n",
       "    }\n",
       "\n",
       "    .dataframe tbody tr th {\n",
       "        vertical-align: top;\n",
       "    }\n",
       "\n",
       "    .dataframe thead th {\n",
       "        text-align: right;\n",
       "    }\n",
       "</style>\n",
       "<table border=\"1\" class=\"dataframe\">\n",
       "  <thead>\n",
       "    <tr style=\"text-align: right;\">\n",
       "      <th></th>\n",
       "      <th>HomePlanet</th>\n",
       "      <th>CryoSleep</th>\n",
       "      <th>Destination</th>\n",
       "      <th>Age</th>\n",
       "      <th>VIP</th>\n",
       "      <th>RoomService</th>\n",
       "      <th>FoodCourt</th>\n",
       "      <th>ShoppingMall</th>\n",
       "      <th>Spa</th>\n",
       "      <th>VRDeck</th>\n",
       "      <th>Transported</th>\n",
       "      <th>Cabin Deck</th>\n",
       "      <th>Cabin Side</th>\n",
       "    </tr>\n",
       "  </thead>\n",
       "  <tbody>\n",
       "    <tr>\n",
       "      <th>0</th>\n",
       "      <td>2.0</td>\n",
       "      <td>False</td>\n",
       "      <td>1.0</td>\n",
       "      <td>39.0</td>\n",
       "      <td>False</td>\n",
       "      <td>0.0</td>\n",
       "      <td>0.0</td>\n",
       "      <td>0.0</td>\n",
       "      <td>0.0</td>\n",
       "      <td>0.0</td>\n",
       "      <td>False</td>\n",
       "      <td>2.0</td>\n",
       "      <td>1.0</td>\n",
       "    </tr>\n",
       "    <tr>\n",
       "      <th>1</th>\n",
       "      <td>1.0</td>\n",
       "      <td>False</td>\n",
       "      <td>1.0</td>\n",
       "      <td>24.0</td>\n",
       "      <td>False</td>\n",
       "      <td>109.0</td>\n",
       "      <td>9.0</td>\n",
       "      <td>25.0</td>\n",
       "      <td>549.0</td>\n",
       "      <td>44.0</td>\n",
       "      <td>True</td>\n",
       "      <td>6.0</td>\n",
       "      <td>2.0</td>\n",
       "    </tr>\n",
       "    <tr>\n",
       "      <th>2</th>\n",
       "      <td>2.0</td>\n",
       "      <td>False</td>\n",
       "      <td>1.0</td>\n",
       "      <td>58.0</td>\n",
       "      <td>True</td>\n",
       "      <td>43.0</td>\n",
       "      <td>3576.0</td>\n",
       "      <td>0.0</td>\n",
       "      <td>6715.0</td>\n",
       "      <td>49.0</td>\n",
       "      <td>False</td>\n",
       "      <td>1.0</td>\n",
       "      <td>2.0</td>\n",
       "    </tr>\n",
       "    <tr>\n",
       "      <th>3</th>\n",
       "      <td>2.0</td>\n",
       "      <td>False</td>\n",
       "      <td>1.0</td>\n",
       "      <td>33.0</td>\n",
       "      <td>False</td>\n",
       "      <td>0.0</td>\n",
       "      <td>1283.0</td>\n",
       "      <td>371.0</td>\n",
       "      <td>3329.0</td>\n",
       "      <td>193.0</td>\n",
       "      <td>False</td>\n",
       "      <td>1.0</td>\n",
       "      <td>2.0</td>\n",
       "    </tr>\n",
       "    <tr>\n",
       "      <th>4</th>\n",
       "      <td>1.0</td>\n",
       "      <td>False</td>\n",
       "      <td>1.0</td>\n",
       "      <td>16.0</td>\n",
       "      <td>False</td>\n",
       "      <td>303.0</td>\n",
       "      <td>70.0</td>\n",
       "      <td>151.0</td>\n",
       "      <td>565.0</td>\n",
       "      <td>2.0</td>\n",
       "      <td>True</td>\n",
       "      <td>6.0</td>\n",
       "      <td>2.0</td>\n",
       "    </tr>\n",
       "    <tr>\n",
       "      <th>...</th>\n",
       "      <td>...</td>\n",
       "      <td>...</td>\n",
       "      <td>...</td>\n",
       "      <td>...</td>\n",
       "      <td>...</td>\n",
       "      <td>...</td>\n",
       "      <td>...</td>\n",
       "      <td>...</td>\n",
       "      <td>...</td>\n",
       "      <td>...</td>\n",
       "      <td>...</td>\n",
       "      <td>...</td>\n",
       "      <td>...</td>\n",
       "    </tr>\n",
       "    <tr>\n",
       "      <th>8688</th>\n",
       "      <td>2.0</td>\n",
       "      <td>False</td>\n",
       "      <td>3.0</td>\n",
       "      <td>41.0</td>\n",
       "      <td>True</td>\n",
       "      <td>0.0</td>\n",
       "      <td>6819.0</td>\n",
       "      <td>0.0</td>\n",
       "      <td>1643.0</td>\n",
       "      <td>74.0</td>\n",
       "      <td>False</td>\n",
       "      <td>1.0</td>\n",
       "      <td>1.0</td>\n",
       "    </tr>\n",
       "    <tr>\n",
       "      <th>8689</th>\n",
       "      <td>1.0</td>\n",
       "      <td>True</td>\n",
       "      <td>2.0</td>\n",
       "      <td>18.0</td>\n",
       "      <td>False</td>\n",
       "      <td>0.0</td>\n",
       "      <td>0.0</td>\n",
       "      <td>0.0</td>\n",
       "      <td>0.0</td>\n",
       "      <td>0.0</td>\n",
       "      <td>False</td>\n",
       "      <td>7.0</td>\n",
       "      <td>2.0</td>\n",
       "    </tr>\n",
       "    <tr>\n",
       "      <th>8690</th>\n",
       "      <td>1.0</td>\n",
       "      <td>False</td>\n",
       "      <td>1.0</td>\n",
       "      <td>26.0</td>\n",
       "      <td>False</td>\n",
       "      <td>0.0</td>\n",
       "      <td>0.0</td>\n",
       "      <td>1872.0</td>\n",
       "      <td>1.0</td>\n",
       "      <td>0.0</td>\n",
       "      <td>True</td>\n",
       "      <td>7.0</td>\n",
       "      <td>2.0</td>\n",
       "    </tr>\n",
       "    <tr>\n",
       "      <th>8691</th>\n",
       "      <td>2.0</td>\n",
       "      <td>False</td>\n",
       "      <td>3.0</td>\n",
       "      <td>32.0</td>\n",
       "      <td>False</td>\n",
       "      <td>0.0</td>\n",
       "      <td>1049.0</td>\n",
       "      <td>0.0</td>\n",
       "      <td>353.0</td>\n",
       "      <td>3235.0</td>\n",
       "      <td>False</td>\n",
       "      <td>5.0</td>\n",
       "      <td>2.0</td>\n",
       "    </tr>\n",
       "    <tr>\n",
       "      <th>8692</th>\n",
       "      <td>2.0</td>\n",
       "      <td>False</td>\n",
       "      <td>1.0</td>\n",
       "      <td>44.0</td>\n",
       "      <td>False</td>\n",
       "      <td>126.0</td>\n",
       "      <td>4688.0</td>\n",
       "      <td>0.0</td>\n",
       "      <td>0.0</td>\n",
       "      <td>12.0</td>\n",
       "      <td>True</td>\n",
       "      <td>5.0</td>\n",
       "      <td>2.0</td>\n",
       "    </tr>\n",
       "  </tbody>\n",
       "</table>\n",
       "<p>8693 rows × 13 columns</p>\n",
       "</div>"
      ],
      "text/plain": [
       "      HomePlanet CryoSleep  Destination   Age    VIP  RoomService  FoodCourt   \n",
       "0            2.0     False          1.0  39.0  False          0.0        0.0  \\\n",
       "1            1.0     False          1.0  24.0  False        109.0        9.0   \n",
       "2            2.0     False          1.0  58.0   True         43.0     3576.0   \n",
       "3            2.0     False          1.0  33.0  False          0.0     1283.0   \n",
       "4            1.0     False          1.0  16.0  False        303.0       70.0   \n",
       "...          ...       ...          ...   ...    ...          ...        ...   \n",
       "8688         2.0     False          3.0  41.0   True          0.0     6819.0   \n",
       "8689         1.0      True          2.0  18.0  False          0.0        0.0   \n",
       "8690         1.0     False          1.0  26.0  False          0.0        0.0   \n",
       "8691         2.0     False          3.0  32.0  False          0.0     1049.0   \n",
       "8692         2.0     False          1.0  44.0  False        126.0     4688.0   \n",
       "\n",
       "      ShoppingMall     Spa  VRDeck  Transported  Cabin Deck  Cabin Side  \n",
       "0              0.0     0.0     0.0        False         2.0         1.0  \n",
       "1             25.0   549.0    44.0         True         6.0         2.0  \n",
       "2              0.0  6715.0    49.0        False         1.0         2.0  \n",
       "3            371.0  3329.0   193.0        False         1.0         2.0  \n",
       "4            151.0   565.0     2.0         True         6.0         2.0  \n",
       "...            ...     ...     ...          ...         ...         ...  \n",
       "8688           0.0  1643.0    74.0        False         1.0         1.0  \n",
       "8689           0.0     0.0     0.0        False         7.0         2.0  \n",
       "8690        1872.0     1.0     0.0         True         7.0         2.0  \n",
       "8691           0.0   353.0  3235.0        False         5.0         2.0  \n",
       "8692           0.0     0.0    12.0         True         5.0         2.0  \n",
       "\n",
       "[8693 rows x 13 columns]"
      ]
     },
     "execution_count": 188,
     "metadata": {},
     "output_type": "execute_result"
    }
   ],
   "source": [
    "reduced_train_data=train_data.drop(columns=['PassengerId', 'Name', 'Cabin', 'Cabin Number'])\n",
    "reduced_train_data"
   ]
  },
  {
   "cell_type": "code",
   "execution_count": 189,
   "id": "60b5fdd7",
   "metadata": {
    "scrolled": true
   },
   "outputs": [
    {
     "data": {
      "text/plain": [
       "HomePlanet      float64\n",
       "CryoSleep        object\n",
       "Destination     float64\n",
       "Age             float64\n",
       "VIP              object\n",
       "RoomService     float64\n",
       "FoodCourt       float64\n",
       "ShoppingMall    float64\n",
       "Spa             float64\n",
       "VRDeck          float64\n",
       "Transported        bool\n",
       "Cabin Deck      float64\n",
       "Cabin Side      float64\n",
       "dtype: object"
      ]
     },
     "execution_count": 189,
     "metadata": {},
     "output_type": "execute_result"
    }
   ],
   "source": [
    "reduced_train_data.dtypes"
   ]
  },
  {
   "cell_type": "code",
   "execution_count": 191,
   "id": "73f9b8bd",
   "metadata": {},
   "outputs": [
    {
     "data": {
      "text/html": [
       "<div>\n",
       "<style scoped>\n",
       "    .dataframe tbody tr th:only-of-type {\n",
       "        vertical-align: middle;\n",
       "    }\n",
       "\n",
       "    .dataframe tbody tr th {\n",
       "        vertical-align: top;\n",
       "    }\n",
       "\n",
       "    .dataframe thead th {\n",
       "        text-align: right;\n",
       "    }\n",
       "</style>\n",
       "<table border=\"1\" class=\"dataframe\">\n",
       "  <thead>\n",
       "    <tr style=\"text-align: right;\">\n",
       "      <th></th>\n",
       "      <th>CryoSleep</th>\n",
       "      <th>VIP</th>\n",
       "      <th>Transported</th>\n",
       "    </tr>\n",
       "  </thead>\n",
       "  <tbody>\n",
       "    <tr>\n",
       "      <th>count</th>\n",
       "      <td>8476</td>\n",
       "      <td>8490</td>\n",
       "      <td>8693</td>\n",
       "    </tr>\n",
       "    <tr>\n",
       "      <th>unique</th>\n",
       "      <td>2</td>\n",
       "      <td>2</td>\n",
       "      <td>2</td>\n",
       "    </tr>\n",
       "    <tr>\n",
       "      <th>top</th>\n",
       "      <td>False</td>\n",
       "      <td>False</td>\n",
       "      <td>True</td>\n",
       "    </tr>\n",
       "    <tr>\n",
       "      <th>freq</th>\n",
       "      <td>5439</td>\n",
       "      <td>8291</td>\n",
       "      <td>4378</td>\n",
       "    </tr>\n",
       "  </tbody>\n",
       "</table>\n",
       "</div>"
      ],
      "text/plain": [
       "       CryoSleep    VIP Transported\n",
       "count       8476   8490        8693\n",
       "unique         2      2           2\n",
       "top        False  False        True\n",
       "freq        5439   8291        4378"
      ]
     },
     "execution_count": 191,
     "metadata": {},
     "output_type": "execute_result"
    }
   ],
   "source": [
    "reduced_train_data.describe(exclude='number')"
   ]
  },
  {
   "cell_type": "code",
   "execution_count": 190,
   "id": "992c5f56",
   "metadata": {
    "scrolled": true
   },
   "outputs": [
    {
     "data": {
      "text/html": [
       "<style type=\"text/css\">\n",
       "#T_cdfcd_row0_col0, #T_cdfcd_row1_col1, #T_cdfcd_row2_col2, #T_cdfcd_row3_col3, #T_cdfcd_row4_col4, #T_cdfcd_row5_col5, #T_cdfcd_row6_col6, #T_cdfcd_row7_col7, #T_cdfcd_row8_col8, #T_cdfcd_row9_col9, #T_cdfcd_row10_col10, #T_cdfcd_row11_col11, #T_cdfcd_row12_col12 {\n",
       "  background-color: #7f2704;\n",
       "  color: #f1f1f1;\n",
       "}\n",
       "#T_cdfcd_row0_col1, #T_cdfcd_row4_col3, #T_cdfcd_row7_col11, #T_cdfcd_row12_col11 {\n",
       "  background-color: #fdca99;\n",
       "  color: #000000;\n",
       "}\n",
       "#T_cdfcd_row0_col2 {\n",
       "  background-color: #fee6ce;\n",
       "  color: #000000;\n",
       "}\n",
       "#T_cdfcd_row0_col3, #T_cdfcd_row9_col8 {\n",
       "  background-color: #fdc088;\n",
       "  color: #000000;\n",
       "}\n",
       "#T_cdfcd_row0_col4, #T_cdfcd_row2_col9, #T_cdfcd_row6_col4 {\n",
       "  background-color: #fdcd9c;\n",
       "  color: #000000;\n",
       "}\n",
       "#T_cdfcd_row0_col5 {\n",
       "  background-color: #fdaf6c;\n",
       "  color: #000000;\n",
       "}\n",
       "#T_cdfcd_row0_col6, #T_cdfcd_row8_col3 {\n",
       "  background-color: #fdc38d;\n",
       "  color: #000000;\n",
       "}\n",
       "#T_cdfcd_row0_col7, #T_cdfcd_row9_col4, #T_cdfcd_row12_col6 {\n",
       "  background-color: #fdce9e;\n",
       "  color: #000000;\n",
       "}\n",
       "#T_cdfcd_row0_col8, #T_cdfcd_row2_col8, #T_cdfcd_row3_col4, #T_cdfcd_row5_col6, #T_cdfcd_row6_col10, #T_cdfcd_row7_col6 {\n",
       "  background-color: #fdd3a9;\n",
       "  color: #000000;\n",
       "}\n",
       "#T_cdfcd_row0_col9, #T_cdfcd_row4_col8 {\n",
       "  background-color: #fdd3a7;\n",
       "  color: #000000;\n",
       "}\n",
       "#T_cdfcd_row0_col10 {\n",
       "  background-color: #fdc590;\n",
       "  color: #000000;\n",
       "}\n",
       "#T_cdfcd_row0_col11, #T_cdfcd_row1_col5, #T_cdfcd_row1_col7, #T_cdfcd_row5_col1, #T_cdfcd_row5_col10, #T_cdfcd_row11_col0, #T_cdfcd_row11_col2, #T_cdfcd_row11_col3, #T_cdfcd_row11_col4, #T_cdfcd_row11_col6, #T_cdfcd_row11_col8, #T_cdfcd_row11_col9, #T_cdfcd_row11_col12 {\n",
       "  background-color: #fff5eb;\n",
       "  color: #000000;\n",
       "}\n",
       "#T_cdfcd_row0_col12, #T_cdfcd_row6_col1, #T_cdfcd_row7_col1 {\n",
       "  background-color: #fff1e4;\n",
       "  color: #000000;\n",
       "}\n",
       "#T_cdfcd_row1_col0 {\n",
       "  background-color: #fdb373;\n",
       "  color: #000000;\n",
       "}\n",
       "#T_cdfcd_row1_col2 {\n",
       "  background-color: #fdd2a6;\n",
       "  color: #000000;\n",
       "}\n",
       "#T_cdfcd_row1_col3, #T_cdfcd_row7_col2, #T_cdfcd_row10_col3 {\n",
       "  background-color: #fee4ca;\n",
       "  color: #000000;\n",
       "}\n",
       "#T_cdfcd_row1_col4 {\n",
       "  background-color: #feebd7;\n",
       "  color: #000000;\n",
       "}\n",
       "#T_cdfcd_row1_col6 {\n",
       "  background-color: #feebd8;\n",
       "  color: #000000;\n",
       "}\n",
       "#T_cdfcd_row1_col8, #T_cdfcd_row5_col12 {\n",
       "  background-color: #fff3e6;\n",
       "  color: #000000;\n",
       "}\n",
       "#T_cdfcd_row1_col9, #T_cdfcd_row2_col12, #T_cdfcd_row3_col12 {\n",
       "  background-color: #fff0e1;\n",
       "  color: #000000;\n",
       "}\n",
       "#T_cdfcd_row1_col10 {\n",
       "  background-color: #f67824;\n",
       "  color: #f1f1f1;\n",
       "}\n",
       "#T_cdfcd_row1_col11, #T_cdfcd_row4_col9 {\n",
       "  background-color: #fdc189;\n",
       "  color: #000000;\n",
       "}\n",
       "#T_cdfcd_row1_col12, #T_cdfcd_row6_col12 {\n",
       "  background-color: #ffefdf;\n",
       "  color: #000000;\n",
       "}\n",
       "#T_cdfcd_row2_col0 {\n",
       "  background-color: #fdcb9b;\n",
       "  color: #000000;\n",
       "}\n",
       "#T_cdfcd_row2_col1, #T_cdfcd_row9_col3, #T_cdfcd_row10_col6, #T_cdfcd_row12_col10 {\n",
       "  background-color: #fdc895;\n",
       "  color: #000000;\n",
       "}\n",
       "#T_cdfcd_row2_col3, #T_cdfcd_row5_col4, #T_cdfcd_row7_col10, #T_cdfcd_row8_col4 {\n",
       "  background-color: #fdd8b2;\n",
       "  color: #000000;\n",
       "}\n",
       "#T_cdfcd_row2_col4, #T_cdfcd_row5_col8, #T_cdfcd_row12_col5 {\n",
       "  background-color: #fddab6;\n",
       "  color: #000000;\n",
       "}\n",
       "#T_cdfcd_row2_col5, #T_cdfcd_row2_col11, #T_cdfcd_row6_col7 {\n",
       "  background-color: #fee0c1;\n",
       "  color: #000000;\n",
       "}\n",
       "#T_cdfcd_row2_col6 {\n",
       "  background-color: #fdba7f;\n",
       "  color: #000000;\n",
       "}\n",
       "#T_cdfcd_row2_col7 {\n",
       "  background-color: #fee1c4;\n",
       "  color: #000000;\n",
       "}\n",
       "#T_cdfcd_row2_col10, #T_cdfcd_row3_col9 {\n",
       "  background-color: #fdc794;\n",
       "  color: #000000;\n",
       "}\n",
       "#T_cdfcd_row3_col0 {\n",
       "  background-color: #fda965;\n",
       "  color: #000000;\n",
       "}\n",
       "#T_cdfcd_row3_col1 {\n",
       "  background-color: #fee3c8;\n",
       "  color: #000000;\n",
       "}\n",
       "#T_cdfcd_row3_col2, #T_cdfcd_row4_col10, #T_cdfcd_row4_col11 {\n",
       "  background-color: #fedfc0;\n",
       "  color: #000000;\n",
       "}\n",
       "#T_cdfcd_row3_col5 {\n",
       "  background-color: #fdcfa0;\n",
       "  color: #000000;\n",
       "}\n",
       "#T_cdfcd_row3_col6, #T_cdfcd_row4_col6 {\n",
       "  background-color: #fdb77a;\n",
       "  color: #000000;\n",
       "}\n",
       "#T_cdfcd_row3_col7 {\n",
       "  background-color: #fdd9b4;\n",
       "  color: #000000;\n",
       "}\n",
       "#T_cdfcd_row3_col8 {\n",
       "  background-color: #fdc692;\n",
       "  color: #000000;\n",
       "}\n",
       "#T_cdfcd_row3_col10, #T_cdfcd_row4_col1, #T_cdfcd_row8_col11, #T_cdfcd_row10_col12 {\n",
       "  background-color: #fee5cb;\n",
       "  color: #000000;\n",
       "}\n",
       "#T_cdfcd_row3_col11, #T_cdfcd_row5_col2 {\n",
       "  background-color: #fee7d0;\n",
       "  color: #000000;\n",
       "}\n",
       "#T_cdfcd_row4_col0, #T_cdfcd_row6_col9 {\n",
       "  background-color: #fdac67;\n",
       "  color: #000000;\n",
       "}\n",
       "#T_cdfcd_row4_col2, #T_cdfcd_row7_col8, #T_cdfcd_row7_col9, #T_cdfcd_row12_col9 {\n",
       "  background-color: #fdd9b5;\n",
       "  color: #000000;\n",
       "}\n",
       "#T_cdfcd_row4_col5 {\n",
       "  background-color: #fdd1a3;\n",
       "  color: #000000;\n",
       "}\n",
       "#T_cdfcd_row4_col7, #T_cdfcd_row5_col9, #T_cdfcd_row6_col5, #T_cdfcd_row12_col8 {\n",
       "  background-color: #fddbb8;\n",
       "  color: #000000;\n",
       "}\n",
       "#T_cdfcd_row4_col12, #T_cdfcd_row9_col12 {\n",
       "  background-color: #fff2e6;\n",
       "  color: #000000;\n",
       "}\n",
       "#T_cdfcd_row5_col0 {\n",
       "  background-color: #fd9b50;\n",
       "  color: #000000;\n",
       "}\n",
       "#T_cdfcd_row5_col3, #T_cdfcd_row6_col2, #T_cdfcd_row10_col2 {\n",
       "  background-color: #fdd0a2;\n",
       "  color: #000000;\n",
       "}\n",
       "#T_cdfcd_row5_col7, #T_cdfcd_row9_col2 {\n",
       "  background-color: #fdd5ad;\n",
       "  color: #000000;\n",
       "}\n",
       "#T_cdfcd_row5_col11 {\n",
       "  background-color: #fdc997;\n",
       "  color: #000000;\n",
       "}\n",
       "#T_cdfcd_row6_col0 {\n",
       "  background-color: #fdb678;\n",
       "  color: #000000;\n",
       "}\n",
       "#T_cdfcd_row6_col3 {\n",
       "  background-color: #fdc28b;\n",
       "  color: #000000;\n",
       "}\n",
       "#T_cdfcd_row6_col8 {\n",
       "  background-color: #fdb170;\n",
       "  color: #000000;\n",
       "}\n",
       "#T_cdfcd_row6_col11 {\n",
       "  background-color: #feeddc;\n",
       "  color: #000000;\n",
       "}\n",
       "#T_cdfcd_row7_col0 {\n",
       "  background-color: #fdb06e;\n",
       "  color: #000000;\n",
       "}\n",
       "#T_cdfcd_row7_col3 {\n",
       "  background-color: #fdd5ab;\n",
       "  color: #000000;\n",
       "}\n",
       "#T_cdfcd_row7_col4, #T_cdfcd_row9_col7, #T_cdfcd_row12_col2 {\n",
       "  background-color: #fedebf;\n",
       "  color: #000000;\n",
       "}\n",
       "#T_cdfcd_row7_col5 {\n",
       "  background-color: #fdd1a4;\n",
       "  color: #000000;\n",
       "}\n",
       "#T_cdfcd_row7_col12 {\n",
       "  background-color: #fff4e8;\n",
       "  color: #000000;\n",
       "}\n",
       "#T_cdfcd_row8_col0 {\n",
       "  background-color: #fdb97d;\n",
       "  color: #000000;\n",
       "}\n",
       "#T_cdfcd_row8_col1, #T_cdfcd_row8_col12 {\n",
       "  background-color: #fff1e3;\n",
       "  color: #000000;\n",
       "}\n",
       "#T_cdfcd_row8_col2, #T_cdfcd_row8_col5, #T_cdfcd_row12_col3 {\n",
       "  background-color: #fdd7b1;\n",
       "  color: #000000;\n",
       "}\n",
       "#T_cdfcd_row8_col6 {\n",
       "  background-color: #fda45d;\n",
       "  color: #000000;\n",
       "}\n",
       "#T_cdfcd_row8_col7, #T_cdfcd_row9_col5, #T_cdfcd_row10_col7 {\n",
       "  background-color: #fedcb9;\n",
       "  color: #000000;\n",
       "}\n",
       "#T_cdfcd_row8_col9 {\n",
       "  background-color: #fdbb81;\n",
       "  color: #000000;\n",
       "}\n",
       "#T_cdfcd_row8_col10 {\n",
       "  background-color: #fff3e7;\n",
       "  color: #000000;\n",
       "}\n",
       "#T_cdfcd_row9_col0 {\n",
       "  background-color: #fdbd83;\n",
       "  color: #000000;\n",
       "}\n",
       "#T_cdfcd_row9_col1, #T_cdfcd_row10_col9 {\n",
       "  background-color: #fff0e2;\n",
       "  color: #000000;\n",
       "}\n",
       "#T_cdfcd_row9_col6 {\n",
       "  background-color: #fda35c;\n",
       "  color: #000000;\n",
       "}\n",
       "#T_cdfcd_row9_col10 {\n",
       "  background-color: #fff2e5;\n",
       "  color: #000000;\n",
       "}\n",
       "#T_cdfcd_row9_col11 {\n",
       "  background-color: #fee7d1;\n",
       "  color: #000000;\n",
       "}\n",
       "#T_cdfcd_row10_col0 {\n",
       "  background-color: #fdae6a;\n",
       "  color: #000000;\n",
       "}\n",
       "#T_cdfcd_row10_col1 {\n",
       "  background-color: #f67723;\n",
       "  color: #f1f1f1;\n",
       "}\n",
       "#T_cdfcd_row10_col4 {\n",
       "  background-color: #fee6cf;\n",
       "  color: #000000;\n",
       "}\n",
       "#T_cdfcd_row10_col5, #T_cdfcd_row10_col8 {\n",
       "  background-color: #fff5ea;\n",
       "  color: #000000;\n",
       "}\n",
       "#T_cdfcd_row10_col11 {\n",
       "  background-color: #fdd7af;\n",
       "  color: #000000;\n",
       "}\n",
       "#T_cdfcd_row11_col1, #T_cdfcd_row12_col1 {\n",
       "  background-color: #fdd6ae;\n",
       "  color: #000000;\n",
       "}\n",
       "#T_cdfcd_row11_col5 {\n",
       "  background-color: #fedcbb;\n",
       "  color: #000000;\n",
       "}\n",
       "#T_cdfcd_row11_col7, #T_cdfcd_row12_col4 {\n",
       "  background-color: #fee2c7;\n",
       "  color: #000000;\n",
       "}\n",
       "#T_cdfcd_row11_col10 {\n",
       "  background-color: #fee9d3;\n",
       "  color: #000000;\n",
       "}\n",
       "#T_cdfcd_row12_col0 {\n",
       "  background-color: #fdc48f;\n",
       "  color: #000000;\n",
       "}\n",
       "#T_cdfcd_row12_col7 {\n",
       "  background-color: #fee0c3;\n",
       "  color: #000000;\n",
       "}\n",
       "</style>\n",
       "<table id=\"T_cdfcd\">\n",
       "  <thead>\n",
       "    <tr>\n",
       "      <th class=\"blank level0\" >&nbsp;</th>\n",
       "      <th id=\"T_cdfcd_level0_col0\" class=\"col_heading level0 col0\" >HomePlanet</th>\n",
       "      <th id=\"T_cdfcd_level0_col1\" class=\"col_heading level0 col1\" >CryoSleep</th>\n",
       "      <th id=\"T_cdfcd_level0_col2\" class=\"col_heading level0 col2\" >Destination</th>\n",
       "      <th id=\"T_cdfcd_level0_col3\" class=\"col_heading level0 col3\" >Age</th>\n",
       "      <th id=\"T_cdfcd_level0_col4\" class=\"col_heading level0 col4\" >VIP</th>\n",
       "      <th id=\"T_cdfcd_level0_col5\" class=\"col_heading level0 col5\" >RoomService</th>\n",
       "      <th id=\"T_cdfcd_level0_col6\" class=\"col_heading level0 col6\" >FoodCourt</th>\n",
       "      <th id=\"T_cdfcd_level0_col7\" class=\"col_heading level0 col7\" >ShoppingMall</th>\n",
       "      <th id=\"T_cdfcd_level0_col8\" class=\"col_heading level0 col8\" >Spa</th>\n",
       "      <th id=\"T_cdfcd_level0_col9\" class=\"col_heading level0 col9\" >VRDeck</th>\n",
       "      <th id=\"T_cdfcd_level0_col10\" class=\"col_heading level0 col10\" >Transported</th>\n",
       "      <th id=\"T_cdfcd_level0_col11\" class=\"col_heading level0 col11\" >Cabin Deck</th>\n",
       "      <th id=\"T_cdfcd_level0_col12\" class=\"col_heading level0 col12\" >Cabin Side</th>\n",
       "    </tr>\n",
       "  </thead>\n",
       "  <tbody>\n",
       "    <tr>\n",
       "      <th id=\"T_cdfcd_level0_row0\" class=\"row_heading level0 row0\" >HomePlanet</th>\n",
       "      <td id=\"T_cdfcd_row0_col0\" class=\"data row0 col0\" >1.000000</td>\n",
       "      <td id=\"T_cdfcd_row0_col1\" class=\"data row0 col1\" >0.088072</td>\n",
       "      <td id=\"T_cdfcd_row0_col2\" class=\"data row0 col2\" >-0.038559</td>\n",
       "      <td id=\"T_cdfcd_row0_col3\" class=\"data row0 col3\" >0.138058</td>\n",
       "      <td id=\"T_cdfcd_row0_col4\" class=\"data row0 col4\" >0.127844</td>\n",
       "      <td id=\"T_cdfcd_row0_col5\" class=\"data row0 col5\" >0.215963</td>\n",
       "      <td id=\"T_cdfcd_row0_col6\" class=\"data row0 col6\" >0.070782</td>\n",
       "      <td id=\"T_cdfcd_row0_col7\" class=\"data row0 col7\" >0.103070</td>\n",
       "      <td id=\"T_cdfcd_row0_col8\" class=\"data row0 col8\" >0.055232</td>\n",
       "      <td id=\"T_cdfcd_row0_col9\" class=\"data row0 col9\" >0.040292</td>\n",
       "      <td id=\"T_cdfcd_row0_col10\" class=\"data row0 col10\" >0.118101</td>\n",
       "      <td id=\"T_cdfcd_row0_col11\" class=\"data row0 col11\" >-0.418904</td>\n",
       "      <td id=\"T_cdfcd_row0_col12\" class=\"data row0 col12\" >0.000528</td>\n",
       "    </tr>\n",
       "    <tr>\n",
       "      <th id=\"T_cdfcd_level0_row1\" class=\"row_heading level0 row1\" >CryoSleep</th>\n",
       "      <td id=\"T_cdfcd_row1_col0\" class=\"data row1 col0\" >0.088072</td>\n",
       "      <td id=\"T_cdfcd_row1_col1\" class=\"data row1 col1\" >1.000000</td>\n",
       "      <td id=\"T_cdfcd_row1_col2\" class=\"data row1 col2\" >0.096722</td>\n",
       "      <td id=\"T_cdfcd_row1_col3\" class=\"data row1 col3\" >-0.074273</td>\n",
       "      <td id=\"T_cdfcd_row1_col4\" class=\"data row1 col4\" >-0.081402</td>\n",
       "      <td id=\"T_cdfcd_row1_col5\" class=\"data row1 col5\" >-0.252396</td>\n",
       "      <td id=\"T_cdfcd_row1_col6\" class=\"data row1 col6\" >-0.211510</td>\n",
       "      <td id=\"T_cdfcd_row1_col7\" class=\"data row1 col7\" >-0.212514</td>\n",
       "      <td id=\"T_cdfcd_row1_col8\" class=\"data row1 col8\" >-0.203991</td>\n",
       "      <td id=\"T_cdfcd_row1_col9\" class=\"data row1 col9\" >-0.198857</td>\n",
       "      <td id=\"T_cdfcd_row1_col10\" class=\"data row1 col10\" >0.468645</td>\n",
       "      <td id=\"T_cdfcd_row1_col11\" class=\"data row1 col11\" >0.017823</td>\n",
       "      <td id=\"T_cdfcd_row1_col12\" class=\"data row1 col12\" >0.019677</td>\n",
       "    </tr>\n",
       "    <tr>\n",
       "      <th id=\"T_cdfcd_level0_row2\" class=\"row_heading level0 row2\" >Destination</th>\n",
       "      <td id=\"T_cdfcd_row2_col0\" class=\"data row2 col0\" >-0.038559</td>\n",
       "      <td id=\"T_cdfcd_row2_col1\" class=\"data row2 col1\" >0.096722</td>\n",
       "      <td id=\"T_cdfcd_row2_col2\" class=\"data row2 col2\" >1.000000</td>\n",
       "      <td id=\"T_cdfcd_row2_col3\" class=\"data row2 col3\" >0.007978</td>\n",
       "      <td id=\"T_cdfcd_row2_col4\" class=\"data row2 col4\" >0.044722</td>\n",
       "      <td id=\"T_cdfcd_row2_col5\" class=\"data row2 col5\" >-0.047685</td>\n",
       "      <td id=\"T_cdfcd_row2_col6\" class=\"data row2 col6\" >0.112180</td>\n",
       "      <td id=\"T_cdfcd_row2_col7\" class=\"data row2 col7\" >-0.025433</td>\n",
       "      <td id=\"T_cdfcd_row2_col8\" class=\"data row2 col8\" >0.058329</td>\n",
       "      <td id=\"T_cdfcd_row2_col9\" class=\"data row2 col9\" >0.073707</td>\n",
       "      <td id=\"T_cdfcd_row2_col10\" class=\"data row2 col10\" >0.109806</td>\n",
       "      <td id=\"T_cdfcd_row2_col11\" class=\"data row2 col11\" >-0.189937</td>\n",
       "      <td id=\"T_cdfcd_row2_col12\" class=\"data row2 col12\" >0.011142</td>\n",
       "    </tr>\n",
       "    <tr>\n",
       "      <th id=\"T_cdfcd_level0_row3\" class=\"row_heading level0 row3\" >Age</th>\n",
       "      <td id=\"T_cdfcd_row3_col0\" class=\"data row3 col0\" >0.138058</td>\n",
       "      <td id=\"T_cdfcd_row3_col1\" class=\"data row3 col1\" >-0.074273</td>\n",
       "      <td id=\"T_cdfcd_row3_col2\" class=\"data row3 col2\" >0.007978</td>\n",
       "      <td id=\"T_cdfcd_row3_col3\" class=\"data row3 col3\" >1.000000</td>\n",
       "      <td id=\"T_cdfcd_row3_col4\" class=\"data row3 col4\" >0.092819</td>\n",
       "      <td id=\"T_cdfcd_row3_col5\" class=\"data row3 col5\" >0.068723</td>\n",
       "      <td id=\"T_cdfcd_row3_col6\" class=\"data row3 col6\" >0.130421</td>\n",
       "      <td id=\"T_cdfcd_row3_col7\" class=\"data row3 col7\" >0.033133</td>\n",
       "      <td id=\"T_cdfcd_row3_col8\" class=\"data row3 col8\" >0.123970</td>\n",
       "      <td id=\"T_cdfcd_row3_col9\" class=\"data row3 col9\" >0.101007</td>\n",
       "      <td id=\"T_cdfcd_row3_col10\" class=\"data row3 col10\" >-0.075026</td>\n",
       "      <td id=\"T_cdfcd_row3_col11\" class=\"data row3 col11\" >-0.248003</td>\n",
       "      <td id=\"T_cdfcd_row3_col12\" class=\"data row3 col12\" >0.011640</td>\n",
       "    </tr>\n",
       "    <tr>\n",
       "      <th id=\"T_cdfcd_level0_row4\" class=\"row_heading level0 row4\" >VIP</th>\n",
       "      <td id=\"T_cdfcd_row4_col0\" class=\"data row4 col0\" >0.127844</td>\n",
       "      <td id=\"T_cdfcd_row4_col1\" class=\"data row4 col1\" >-0.081402</td>\n",
       "      <td id=\"T_cdfcd_row4_col2\" class=\"data row4 col2\" >0.044722</td>\n",
       "      <td id=\"T_cdfcd_row4_col3\" class=\"data row4 col3\" >0.092819</td>\n",
       "      <td id=\"T_cdfcd_row4_col4\" class=\"data row4 col4\" >1.000000</td>\n",
       "      <td id=\"T_cdfcd_row4_col5\" class=\"data row4 col5\" >0.058785</td>\n",
       "      <td id=\"T_cdfcd_row4_col6\" class=\"data row4 col6\" >0.129799</td>\n",
       "      <td id=\"T_cdfcd_row4_col7\" class=\"data row4 col7\" >0.018295</td>\n",
       "      <td id=\"T_cdfcd_row4_col8\" class=\"data row4 col8\" >0.061059</td>\n",
       "      <td id=\"T_cdfcd_row4_col9\" class=\"data row4 col9\" >0.125974</td>\n",
       "      <td id=\"T_cdfcd_row4_col10\" class=\"data row4 col10\" >-0.037650</td>\n",
       "      <td id=\"T_cdfcd_row4_col11\" class=\"data row4 col11\" >-0.183393</td>\n",
       "      <td id=\"T_cdfcd_row4_col12\" class=\"data row4 col12\" >-0.010117</td>\n",
       "    </tr>\n",
       "    <tr>\n",
       "      <th id=\"T_cdfcd_level0_row5\" class=\"row_heading level0 row5\" >RoomService</th>\n",
       "      <td id=\"T_cdfcd_row5_col0\" class=\"data row5 col0\" >0.215963</td>\n",
       "      <td id=\"T_cdfcd_row5_col1\" class=\"data row5 col1\" >-0.252396</td>\n",
       "      <td id=\"T_cdfcd_row5_col2\" class=\"data row5 col2\" >-0.047685</td>\n",
       "      <td id=\"T_cdfcd_row5_col3\" class=\"data row5 col3\" >0.068723</td>\n",
       "      <td id=\"T_cdfcd_row5_col4\" class=\"data row5 col4\" >0.058785</td>\n",
       "      <td id=\"T_cdfcd_row5_col5\" class=\"data row5 col5\" >1.000000</td>\n",
       "      <td id=\"T_cdfcd_row5_col6\" class=\"data row5 col6\" >-0.015889</td>\n",
       "      <td id=\"T_cdfcd_row5_col7\" class=\"data row5 col7\" >0.054480</td>\n",
       "      <td id=\"T_cdfcd_row5_col8\" class=\"data row5 col8\" >0.010080</td>\n",
       "      <td id=\"T_cdfcd_row5_col9\" class=\"data row5 col9\" >-0.019581</td>\n",
       "      <td id=\"T_cdfcd_row5_col10\" class=\"data row5 col10\" >-0.244611</td>\n",
       "      <td id=\"T_cdfcd_row5_col11\" class=\"data row5 col11\" >-0.026783</td>\n",
       "      <td id=\"T_cdfcd_row5_col12\" class=\"data row5 col12\" >-0.012290</td>\n",
       "    </tr>\n",
       "    <tr>\n",
       "      <th id=\"T_cdfcd_level0_row6\" class=\"row_heading level0 row6\" >FoodCourt</th>\n",
       "      <td id=\"T_cdfcd_row6_col0\" class=\"data row6 col0\" >0.070782</td>\n",
       "      <td id=\"T_cdfcd_row6_col1\" class=\"data row6 col1\" >-0.211510</td>\n",
       "      <td id=\"T_cdfcd_row6_col2\" class=\"data row6 col2\" >0.112180</td>\n",
       "      <td id=\"T_cdfcd_row6_col3\" class=\"data row6 col3\" >0.130421</td>\n",
       "      <td id=\"T_cdfcd_row6_col4\" class=\"data row6 col4\" >0.129799</td>\n",
       "      <td id=\"T_cdfcd_row6_col5\" class=\"data row6 col5\" >-0.015889</td>\n",
       "      <td id=\"T_cdfcd_row6_col6\" class=\"data row6 col6\" >1.000000</td>\n",
       "      <td id=\"T_cdfcd_row6_col7\" class=\"data row6 col7\" >-0.014228</td>\n",
       "      <td id=\"T_cdfcd_row6_col8\" class=\"data row6 col8\" >0.221891</td>\n",
       "      <td id=\"T_cdfcd_row6_col9\" class=\"data row6 col9\" >0.227995</td>\n",
       "      <td id=\"T_cdfcd_row6_col10\" class=\"data row6 col10\" >0.046566</td>\n",
       "      <td id=\"T_cdfcd_row6_col11\" class=\"data row6 col11\" >-0.324348</td>\n",
       "      <td id=\"T_cdfcd_row6_col12\" class=\"data row6 col12\" >0.020149</td>\n",
       "    </tr>\n",
       "    <tr>\n",
       "      <th id=\"T_cdfcd_level0_row7\" class=\"row_heading level0 row7\" >ShoppingMall</th>\n",
       "      <td id=\"T_cdfcd_row7_col0\" class=\"data row7 col0\" >0.103070</td>\n",
       "      <td id=\"T_cdfcd_row7_col1\" class=\"data row7 col1\" >-0.212514</td>\n",
       "      <td id=\"T_cdfcd_row7_col2\" class=\"data row7 col2\" >-0.025433</td>\n",
       "      <td id=\"T_cdfcd_row7_col3\" class=\"data row7 col3\" >0.033133</td>\n",
       "      <td id=\"T_cdfcd_row7_col4\" class=\"data row7 col4\" >0.018295</td>\n",
       "      <td id=\"T_cdfcd_row7_col5\" class=\"data row7 col5\" >0.054480</td>\n",
       "      <td id=\"T_cdfcd_row7_col6\" class=\"data row7 col6\" >-0.014228</td>\n",
       "      <td id=\"T_cdfcd_row7_col7\" class=\"data row7 col7\" >1.000000</td>\n",
       "      <td id=\"T_cdfcd_row7_col8\" class=\"data row7 col8\" >0.013879</td>\n",
       "      <td id=\"T_cdfcd_row7_col9\" class=\"data row7 col9\" >-0.007322</td>\n",
       "      <td id=\"T_cdfcd_row7_col10\" class=\"data row7 col10\" >0.010141</td>\n",
       "      <td id=\"T_cdfcd_row7_col11\" class=\"data row7 col11\" >-0.032926</td>\n",
       "      <td id=\"T_cdfcd_row7_col12\" class=\"data row7 col12\" >-0.020983</td>\n",
       "    </tr>\n",
       "    <tr>\n",
       "      <th id=\"T_cdfcd_level0_row8\" class=\"row_heading level0 row8\" >Spa</th>\n",
       "      <td id=\"T_cdfcd_row8_col0\" class=\"data row8 col0\" >0.055232</td>\n",
       "      <td id=\"T_cdfcd_row8_col1\" class=\"data row8 col1\" >-0.203991</td>\n",
       "      <td id=\"T_cdfcd_row8_col2\" class=\"data row8 col2\" >0.058329</td>\n",
       "      <td id=\"T_cdfcd_row8_col3\" class=\"data row8 col3\" >0.123970</td>\n",
       "      <td id=\"T_cdfcd_row8_col4\" class=\"data row8 col4\" >0.061059</td>\n",
       "      <td id=\"T_cdfcd_row8_col5\" class=\"data row8 col5\" >0.010080</td>\n",
       "      <td id=\"T_cdfcd_row8_col6\" class=\"data row8 col6\" >0.221891</td>\n",
       "      <td id=\"T_cdfcd_row8_col7\" class=\"data row8 col7\" >0.013879</td>\n",
       "      <td id=\"T_cdfcd_row8_col8\" class=\"data row8 col8\" >1.000000</td>\n",
       "      <td id=\"T_cdfcd_row8_col9\" class=\"data row8 col9\" >0.153821</td>\n",
       "      <td id=\"T_cdfcd_row8_col10\" class=\"data row8 col10\" >-0.221131</td>\n",
       "      <td id=\"T_cdfcd_row8_col11\" class=\"data row8 col11\" >-0.229111</td>\n",
       "      <td id=\"T_cdfcd_row8_col12\" class=\"data row8 col12\" >0.002031</td>\n",
       "    </tr>\n",
       "    <tr>\n",
       "      <th id=\"T_cdfcd_level0_row9\" class=\"row_heading level0 row9\" >VRDeck</th>\n",
       "      <td id=\"T_cdfcd_row9_col0\" class=\"data row9 col0\" >0.040292</td>\n",
       "      <td id=\"T_cdfcd_row9_col1\" class=\"data row9 col1\" >-0.198857</td>\n",
       "      <td id=\"T_cdfcd_row9_col2\" class=\"data row9 col2\" >0.073707</td>\n",
       "      <td id=\"T_cdfcd_row9_col3\" class=\"data row9 col3\" >0.101007</td>\n",
       "      <td id=\"T_cdfcd_row9_col4\" class=\"data row9 col4\" >0.125974</td>\n",
       "      <td id=\"T_cdfcd_row9_col5\" class=\"data row9 col5\" >-0.019581</td>\n",
       "      <td id=\"T_cdfcd_row9_col6\" class=\"data row9 col6\" >0.227995</td>\n",
       "      <td id=\"T_cdfcd_row9_col7\" class=\"data row9 col7\" >-0.007322</td>\n",
       "      <td id=\"T_cdfcd_row9_col8\" class=\"data row9 col8\" >0.153821</td>\n",
       "      <td id=\"T_cdfcd_row9_col9\" class=\"data row9 col9\" >1.000000</td>\n",
       "      <td id=\"T_cdfcd_row9_col10\" class=\"data row9 col10\" >-0.207075</td>\n",
       "      <td id=\"T_cdfcd_row9_col11\" class=\"data row9 col11\" >-0.257326</td>\n",
       "      <td id=\"T_cdfcd_row9_col12\" class=\"data row9 col12\" >-0.008154</td>\n",
       "    </tr>\n",
       "    <tr>\n",
       "      <th id=\"T_cdfcd_level0_row10\" class=\"row_heading level0 row10\" >Transported</th>\n",
       "      <td id=\"T_cdfcd_row10_col0\" class=\"data row10 col0\" >0.118101</td>\n",
       "      <td id=\"T_cdfcd_row10_col1\" class=\"data row10 col1\" >0.468645</td>\n",
       "      <td id=\"T_cdfcd_row10_col2\" class=\"data row10 col2\" >0.109806</td>\n",
       "      <td id=\"T_cdfcd_row10_col3\" class=\"data row10 col3\" >-0.075026</td>\n",
       "      <td id=\"T_cdfcd_row10_col4\" class=\"data row10 col4\" >-0.037650</td>\n",
       "      <td id=\"T_cdfcd_row10_col5\" class=\"data row10 col5\" >-0.244611</td>\n",
       "      <td id=\"T_cdfcd_row10_col6\" class=\"data row10 col6\" >0.046566</td>\n",
       "      <td id=\"T_cdfcd_row10_col7\" class=\"data row10 col7\" >0.010141</td>\n",
       "      <td id=\"T_cdfcd_row10_col8\" class=\"data row10 col8\" >-0.221131</td>\n",
       "      <td id=\"T_cdfcd_row10_col9\" class=\"data row10 col9\" >-0.207075</td>\n",
       "      <td id=\"T_cdfcd_row10_col10\" class=\"data row10 col10\" >1.000000</td>\n",
       "      <td id=\"T_cdfcd_row10_col11\" class=\"data row10 col11\" >-0.116462</td>\n",
       "      <td id=\"T_cdfcd_row10_col12\" class=\"data row10 col12\" >0.103775</td>\n",
       "    </tr>\n",
       "    <tr>\n",
       "      <th id=\"T_cdfcd_level0_row11\" class=\"row_heading level0 row11\" >Cabin Deck</th>\n",
       "      <td id=\"T_cdfcd_row11_col0\" class=\"data row11 col0\" >-0.418904</td>\n",
       "      <td id=\"T_cdfcd_row11_col1\" class=\"data row11 col1\" >0.017823</td>\n",
       "      <td id=\"T_cdfcd_row11_col2\" class=\"data row11 col2\" >-0.189937</td>\n",
       "      <td id=\"T_cdfcd_row11_col3\" class=\"data row11 col3\" >-0.248003</td>\n",
       "      <td id=\"T_cdfcd_row11_col4\" class=\"data row11 col4\" >-0.183393</td>\n",
       "      <td id=\"T_cdfcd_row11_col5\" class=\"data row11 col5\" >-0.026783</td>\n",
       "      <td id=\"T_cdfcd_row11_col6\" class=\"data row11 col6\" >-0.324348</td>\n",
       "      <td id=\"T_cdfcd_row11_col7\" class=\"data row11 col7\" >-0.032926</td>\n",
       "      <td id=\"T_cdfcd_row11_col8\" class=\"data row11 col8\" >-0.229111</td>\n",
       "      <td id=\"T_cdfcd_row11_col9\" class=\"data row11 col9\" >-0.257326</td>\n",
       "      <td id=\"T_cdfcd_row11_col10\" class=\"data row11 col10\" >-0.116462</td>\n",
       "      <td id=\"T_cdfcd_row11_col11\" class=\"data row11 col11\" >1.000000</td>\n",
       "      <td id=\"T_cdfcd_row11_col12\" class=\"data row11 col12\" >-0.034500</td>\n",
       "    </tr>\n",
       "    <tr>\n",
       "      <th id=\"T_cdfcd_level0_row12\" class=\"row_heading level0 row12\" >Cabin Side</th>\n",
       "      <td id=\"T_cdfcd_row12_col0\" class=\"data row12 col0\" >0.000528</td>\n",
       "      <td id=\"T_cdfcd_row12_col1\" class=\"data row12 col1\" >0.019677</td>\n",
       "      <td id=\"T_cdfcd_row12_col2\" class=\"data row12 col2\" >0.011142</td>\n",
       "      <td id=\"T_cdfcd_row12_col3\" class=\"data row12 col3\" >0.011640</td>\n",
       "      <td id=\"T_cdfcd_row12_col4\" class=\"data row12 col4\" >-0.010117</td>\n",
       "      <td id=\"T_cdfcd_row12_col5\" class=\"data row12 col5\" >-0.012290</td>\n",
       "      <td id=\"T_cdfcd_row12_col6\" class=\"data row12 col6\" >0.020149</td>\n",
       "      <td id=\"T_cdfcd_row12_col7\" class=\"data row12 col7\" >-0.020983</td>\n",
       "      <td id=\"T_cdfcd_row12_col8\" class=\"data row12 col8\" >0.002031</td>\n",
       "      <td id=\"T_cdfcd_row12_col9\" class=\"data row12 col9\" >-0.008154</td>\n",
       "      <td id=\"T_cdfcd_row12_col10\" class=\"data row12 col10\" >0.103775</td>\n",
       "      <td id=\"T_cdfcd_row12_col11\" class=\"data row12 col11\" >-0.034500</td>\n",
       "      <td id=\"T_cdfcd_row12_col12\" class=\"data row12 col12\" >1.000000</td>\n",
       "    </tr>\n",
       "  </tbody>\n",
       "</table>\n"
      ],
      "text/plain": [
       "<pandas.io.formats.style.Styler at 0x15291f1e560>"
      ]
     },
     "execution_count": 190,
     "metadata": {},
     "output_type": "execute_result"
    }
   ],
   "source": [
    "reduced_train_data.corr().style.background_gradient(cmap='Oranges')\n"
   ]
  },
  {
   "cell_type": "markdown",
   "id": "f018dbd9",
   "metadata": {},
   "source": [
    "r-values greater than 0.7 indicate a strong correlation between two attributes. From the graph above, there doesn't appear to be any strong correlations. However, there seems to be link between the passengers who requested to be in cryo sleep and passengers who were transported, with an r-value of 0.46  "
   ]
  },
  {
   "cell_type": "code",
   "execution_count": 103,
   "id": "5e5eba73",
   "metadata": {
    "scrolled": false
   },
   "outputs": [
    {
     "data": {
      "text/plain": [
       "[<matplotlib.lines.Line2D at 0x1ee1dcfd4f0>]"
      ]
     },
     "execution_count": 103,
     "metadata": {},
     "output_type": "execute_result"
    },
    {
     "data": {
      "image/png": "[encoded data removed]",
      "text/plain": [
       "<Figure size 640x480 with 1 Axes>"
      ]
     },
     "metadata": {},
     "output_type": "display_data"
    }
   ],
   "source": [
    "x = train_data['CryoSleep']\n",
    "y = train_data['Transported']\n",
    "\n",
    "plt.title('Relationship between Cryo Sleep and Transported to Alternate Dimension')\n",
    "plt.xlabel('CryoSleep')\n",
    "plt.ylabel('Transported')\n",
    "plt.plot(x,y,'o')\n",
    "m, b = np.polyfit(x, y, 1)\n",
    "plt.plot(x, m*x+b)\n"
   ]
  },
  {
   "cell_type": "markdown",
   "id": "3f2cc076",
   "metadata": {},
   "source": [
    "Columns with integer values include:-\n",
    "-Age\n",
    "-Room Service (amount billed)\n",
    "-Food Court (amount billed)\n",
    "-Shopping mall (amount billed)\n",
    "-Spa (amount billed)\n",
    "-VR Deck (amount billed)\n"
   ]
  },
  {
   "cell_type": "markdown",
   "id": "3796b943",
   "metadata": {},
   "source": [
    "Non-integer value columns include:-\n",
    "-PassengerId \n",
    "-HomePlanet\n",
    "-CryoSleep\n",
    "-Cabin \n",
    "-Destination\n",
    "-VIP\n",
    "-Name\n",
    "-Transported\n"
   ]
  },
  {
   "cell_type": "markdown",
   "id": "58c13c01",
   "metadata": {},
   "source": [
    "Let's take a look at each non-integer column in more detail. "
   ]
  },
  {
   "cell_type": "code",
   "execution_count": 104,
   "id": "59579f3a",
   "metadata": {},
   "outputs": [
    {
     "data": {
      "text/plain": [
       "0.0    4274\n",
       "1.0    2332\n",
       "Name: CryoSleep, dtype: int64"
      ]
     },
     "execution_count": 104,
     "metadata": {},
     "output_type": "execute_result"
    }
   ],
   "source": [
    "train_data['CryoSleep'].value_counts()"
   ]
  },
  {
   "cell_type": "code",
   "execution_count": 105,
   "id": "784d1efb",
   "metadata": {},
   "outputs": [
    {
     "data": {
      "text/plain": [
       "PassengerId     0\n",
       "HomePlanet      0\n",
       "CryoSleep       0\n",
       "Cabin           0\n",
       "Destination     0\n",
       "Age             0\n",
       "VIP             0\n",
       "RoomService     0\n",
       "FoodCourt       0\n",
       "ShoppingMall    0\n",
       "Spa             0\n",
       "VRDeck          0\n",
       "Name            0\n",
       "Transported     0\n",
       "dtype: int64"
      ]
     },
     "execution_count": 105,
     "metadata": {},
     "output_type": "execute_result"
    }
   ],
   "source": [
    "train_data.isnull().sum()"
   ]
  },
  {
   "cell_type": "code",
   "execution_count": 106,
   "id": "60f5ff49",
   "metadata": {},
   "outputs": [],
   "source": [
    "#select the column we want to predict (i.e. the prediction target)\n",
    "y = train_data.Transported\n"
   ]
  },
  {
   "cell_type": "code",
   "execution_count": 107,
   "id": "ae8cc1c1",
   "metadata": {},
   "outputs": [],
   "source": [
    "#choose features (i.e. columns from data used to make predictions)\n",
    "train_data_features = ['CryoSleep']\n",
    "\n",
    "X = train_data[filt_train_data_features]"
   ]
  },
  {
   "cell_type": "code",
   "execution_count": 108,
   "id": "df38bf0a",
   "metadata": {
    "scrolled": true
   },
   "outputs": [
    {
     "data": {
      "text/html": [
       "<div>\n",
       "<style scoped>\n",
       "    .dataframe tbody tr th:only-of-type {\n",
       "        vertical-align: middle;\n",
       "    }\n",
       "\n",
       "    .dataframe tbody tr th {\n",
       "        vertical-align: top;\n",
       "    }\n",
       "\n",
       "    .dataframe thead th {\n",
       "        text-align: right;\n",
       "    }\n",
       "</style>\n",
       "<table border=\"1\" class=\"dataframe\">\n",
       "  <thead>\n",
       "    <tr style=\"text-align: right;\">\n",
       "      <th></th>\n",
       "      <th>CryoSleep</th>\n",
       "    </tr>\n",
       "  </thead>\n",
       "  <tbody>\n",
       "    <tr>\n",
       "      <th>count</th>\n",
       "      <td>6606.000000</td>\n",
       "    </tr>\n",
       "    <tr>\n",
       "      <th>mean</th>\n",
       "      <td>0.353012</td>\n",
       "    </tr>\n",
       "    <tr>\n",
       "      <th>std</th>\n",
       "      <td>0.477944</td>\n",
       "    </tr>\n",
       "    <tr>\n",
       "      <th>min</th>\n",
       "      <td>0.000000</td>\n",
       "    </tr>\n",
       "    <tr>\n",
       "      <th>25%</th>\n",
       "      <td>0.000000</td>\n",
       "    </tr>\n",
       "    <tr>\n",
       "      <th>50%</th>\n",
       "      <td>0.000000</td>\n",
       "    </tr>\n",
       "    <tr>\n",
       "      <th>75%</th>\n",
       "      <td>1.000000</td>\n",
       "    </tr>\n",
       "    <tr>\n",
       "      <th>max</th>\n",
       "      <td>1.000000</td>\n",
       "    </tr>\n",
       "  </tbody>\n",
       "</table>\n",
       "</div>"
      ],
      "text/plain": [
       "         CryoSleep\n",
       "count  6606.000000\n",
       "mean      0.353012\n",
       "std       0.477944\n",
       "min       0.000000\n",
       "25%       0.000000\n",
       "50%       0.000000\n",
       "75%       1.000000\n",
       "max       1.000000"
      ]
     },
     "execution_count": 108,
     "metadata": {},
     "output_type": "execute_result"
    }
   ],
   "source": [
    "#review data to be used to predic transportation\n",
    "X.describe()"
   ]
  },
  {
   "cell_type": "code",
   "execution_count": 109,
   "id": "e73a7d8e",
   "metadata": {
    "scrolled": true
   },
   "outputs": [
    {
     "data": {
      "text/html": [
       "<div>\n",
       "<style scoped>\n",
       "    .dataframe tbody tr th:only-of-type {\n",
       "        vertical-align: middle;\n",
       "    }\n",
       "\n",
       "    .dataframe tbody tr th {\n",
       "        vertical-align: top;\n",
       "    }\n",
       "\n",
       "    .dataframe thead th {\n",
       "        text-align: right;\n",
       "    }\n",
       "</style>\n",
       "<table border=\"1\" class=\"dataframe\">\n",
       "  <thead>\n",
       "    <tr style=\"text-align: right;\">\n",
       "      <th></th>\n",
       "      <th>CryoSleep</th>\n",
       "    </tr>\n",
       "  </thead>\n",
       "  <tbody>\n",
       "    <tr>\n",
       "      <th>0</th>\n",
       "      <td>0.0</td>\n",
       "    </tr>\n",
       "    <tr>\n",
       "      <th>1</th>\n",
       "      <td>0.0</td>\n",
       "    </tr>\n",
       "    <tr>\n",
       "      <th>2</th>\n",
       "      <td>0.0</td>\n",
       "    </tr>\n",
       "    <tr>\n",
       "      <th>3</th>\n",
       "      <td>0.0</td>\n",
       "    </tr>\n",
       "    <tr>\n",
       "      <th>4</th>\n",
       "      <td>0.0</td>\n",
       "    </tr>\n",
       "  </tbody>\n",
       "</table>\n",
       "</div>"
      ],
      "text/plain": [
       "   CryoSleep\n",
       "0        0.0\n",
       "1        0.0\n",
       "2        0.0\n",
       "3        0.0\n",
       "4        0.0"
      ]
     },
     "execution_count": 109,
     "metadata": {},
     "output_type": "execute_result"
    }
   ],
   "source": [
    "X.head()"
   ]
  },
  {
   "cell_type": "code",
   "execution_count": 110,
   "id": "c924a9b1",
   "metadata": {},
   "outputs": [
    {
     "data": {
      "text/plain": [
       "count     6606\n",
       "unique       2\n",
       "top       True\n",
       "freq      3327\n",
       "Name: Transported, dtype: object"
      ]
     },
     "execution_count": 110,
     "metadata": {},
     "output_type": "execute_result"
    }
   ],
   "source": [
    "y.describe()"
   ]
  },
  {
   "cell_type": "code",
   "execution_count": 111,
   "id": "6d2b671d",
   "metadata": {},
   "outputs": [
    {
     "data": {
      "text/plain": [
       "0    False\n",
       "1     True\n",
       "2    False\n",
       "3    False\n",
       "4     True\n",
       "Name: Transported, dtype: bool"
      ]
     },
     "execution_count": 111,
     "metadata": {},
     "output_type": "execute_result"
    }
   ],
   "source": [
    "y.head()"
   ]
  },
  {
   "cell_type": "code",
   "execution_count": 112,
   "id": "9ab0c905",
   "metadata": {
    "scrolled": true
   },
   "outputs": [
    {
     "data": {
      "text/plain": [
       "CryoSleep    0\n",
       "dtype: int64"
      ]
     },
     "execution_count": 112,
     "metadata": {},
     "output_type": "execute_result"
    }
   ],
   "source": [
    "X.isnull().sum()"
   ]
  },
  {
   "cell_type": "code",
   "execution_count": 113,
   "id": "45004522",
   "metadata": {},
   "outputs": [
    {
     "data": {
      "text/plain": [
       "0"
      ]
     },
     "execution_count": 113,
     "metadata": {},
     "output_type": "execute_result"
    }
   ],
   "source": [
    "y.isnull().sum()"
   ]
  },
  {
   "cell_type": "code",
   "execution_count": 114,
   "id": "774b590b",
   "metadata": {},
   "outputs": [
    {
     "data": {
      "text/plain": [
       "(6606,)"
      ]
     },
     "execution_count": 114,
     "metadata": {},
     "output_type": "execute_result"
    }
   ],
   "source": [
    "y.shape"
   ]
  },
  {
   "cell_type": "code",
   "execution_count": 89,
   "id": "03d26951",
   "metadata": {},
   "outputs": [],
   "source": [
    "#building an ML model\n",
    "#steps include\n",
    "#1. define - what type of model \n",
    "#2. fit - find patterns from data provided\n",
    "#3. predict \n",
    "#4. evaluate - determine accuracy of model using a metric\n"
   ]
  },
  {
   "cell_type": "code",
   "execution_count": 115,
   "id": "5228a658",
   "metadata": {},
   "outputs": [
    {
     "data": {
      "text/plain": [
       "DecisionTreeRegressor(random_state=1)"
      ]
     },
     "execution_count": 115,
     "metadata": {},
     "output_type": "execute_result"
    }
   ],
   "source": [
    "from sklearn.tree import DecisionTreeRegressor\n",
    "#define model and specify a number for random_state to ensure same results each time\n",
    "\n",
    "train_model = DecisionTreeRegressor(random_state=1)\n",
    "#fit model\n",
    "train_model.fit(X,y)\n"
   ]
  },
  {
   "cell_type": "code",
   "execution_count": 116,
   "id": "976a74c2",
   "metadata": {
    "scrolled": true
   },
   "outputs": [
    {
     "data": {
      "text/html": [
       "<div>\n",
       "<style scoped>\n",
       "    .dataframe tbody tr th:only-of-type {\n",
       "        vertical-align: middle;\n",
       "    }\n",
       "\n",
       "    .dataframe tbody tr th {\n",
       "        vertical-align: top;\n",
       "    }\n",
       "\n",
       "    .dataframe thead th {\n",
       "        text-align: right;\n",
       "    }\n",
       "</style>\n",
       "<table border=\"1\" class=\"dataframe\">\n",
       "  <thead>\n",
       "    <tr style=\"text-align: right;\">\n",
       "      <th></th>\n",
       "      <th>CryoSleep</th>\n",
       "    </tr>\n",
       "  </thead>\n",
       "  <tbody>\n",
       "    <tr>\n",
       "      <th>0</th>\n",
       "      <td>0.0</td>\n",
       "    </tr>\n",
       "    <tr>\n",
       "      <th>1</th>\n",
       "      <td>0.0</td>\n",
       "    </tr>\n",
       "    <tr>\n",
       "      <th>2</th>\n",
       "      <td>0.0</td>\n",
       "    </tr>\n",
       "    <tr>\n",
       "      <th>3</th>\n",
       "      <td>0.0</td>\n",
       "    </tr>\n",
       "    <tr>\n",
       "      <th>4</th>\n",
       "      <td>0.0</td>\n",
       "    </tr>\n",
       "  </tbody>\n",
       "</table>\n",
       "</div>"
      ],
      "text/plain": [
       "   CryoSleep\n",
       "0        0.0\n",
       "1        0.0\n",
       "2        0.0\n",
       "3        0.0\n",
       "4        0.0"
      ]
     },
     "execution_count": 116,
     "metadata": {},
     "output_type": "execute_result"
    }
   ],
   "source": [
    "X.head()"
   ]
  },
  {
   "cell_type": "code",
   "execution_count": 117,
   "id": "99b37c35",
   "metadata": {},
   "outputs": [
    {
     "name": "stdout",
     "output_type": "stream",
     "text": [
      "[0.33270941 0.33270941 0.33270941 0.33270941 0.33270941]\n"
     ]
    }
   ],
   "source": [
    "print(filt_train_model.predict(X.head()))"
   ]
  },
  {
   "cell_type": "code",
   "execution_count": 118,
   "id": "e3e7ad4f",
   "metadata": {},
   "outputs": [
    {
     "ename": "NameError",
     "evalue": "name 'actual' is not defined",
     "output_type": "error",
     "traceback": [
      "\u001b[1;31m---------------------------------------------------------------------------\u001b[0m",
      "\u001b[1;31mNameError\u001b[0m                                 Traceback (most recent call last)",
      "\u001b[1;32m~\\AppData\\Local\\Temp\\ipykernel_16696\\1497499913.py\u001b[0m in \u001b[0;36m<module>\u001b[1;34m\u001b[0m\n\u001b[0;32m      1\u001b[0m \u001b[1;31m#using Mean Absolute Error (MAE) we can summarise the model quality\u001b[0m\u001b[1;33m\u001b[0m\u001b[1;33m\u001b[0m\u001b[0m\n\u001b[0;32m      2\u001b[0m \u001b[1;33m\u001b[0m\u001b[0m\n\u001b[1;32m----> 3\u001b[1;33m \u001b[0merror\u001b[0m \u001b[1;33m=\u001b[0m \u001b[0mactual\u001b[0m\u001b[1;33m-\u001b[0m\u001b[0mpredicted\u001b[0m\u001b[1;33m\u001b[0m\u001b[1;33m\u001b[0m\u001b[0m\n\u001b[0m",
      "\u001b[1;31mNameError\u001b[0m: name 'actual' is not defined"
     ]
    }
   ],
   "source": [
    "#using Mean Absolute Error (MAE) we can summarise the model quality\n",
    "\n",
    "error = actual-predicted"
   ]
  },
  {
   "cell_type": "code",
   "execution_count": 44,
   "id": "024fb764",
   "metadata": {},
   "outputs": [
    {
     "data": {
      "text/plain": [
       "DecisionTreeRegressor()"
      ]
     },
     "execution_count": 44,
     "metadata": {},
     "output_type": "execute_result"
    }
   ],
   "source": [
    "#we need a model to caluclate MAE \n",
    "filt_train_model = DecisionTreeRegressor()\n",
    "#fit model\n",
    "filt_train_model.fit(X,y)\n"
   ]
  },
  {
   "cell_type": "code",
   "execution_count": 45,
   "id": "3a814d16",
   "metadata": {},
   "outputs": [
    {
     "data": {
      "text/plain": [
       "0.39288572435721275"
      ]
     },
     "execution_count": 45,
     "metadata": {},
     "output_type": "execute_result"
    }
   ],
   "source": [
    "from sklearn.metrics import mean_absolute_error\n",
    "\n",
    "predicted_outcome = filt_train_model.predict(X)\n",
    "mean_absolute_error(y, predicted_outcome)"
   ]
  },
  {
   "cell_type": "code",
   "execution_count": 41,
   "id": "2d62e469",
   "metadata": {},
   "outputs": [
    {
     "data": {
      "text/plain": [
       "array([0., 1., 0., ..., 1., 0., 1.])"
      ]
     },
     "execution_count": 41,
     "metadata": {},
     "output_type": "execute_result"
    }
   ],
   "source": []
  },
  {
   "cell_type": "code",
   "execution_count": null,
   "id": "5800c679",
   "metadata": {},
   "outputs": [],
   "source": []
  },
  {
   "cell_type": "code",
   "execution_count": null,
   "id": "d3282de3",
   "metadata": {},
   "outputs": [],
   "source": []
  },
  {
   "cell_type": "code",
   "execution_count": null,
   "id": "82b8e6a5",
   "metadata": {},
   "outputs": [],
   "source": []
  },
  {
   "cell_type": "code",
   "execution_count": null,
   "id": "acfcda66",
   "metadata": {},
   "outputs": [],
   "source": []
  },
  {
   "cell_type": "code",
   "execution_count": null,
   "id": "b50af98c",
   "metadata": {},
   "outputs": [],
   "source": []
  },
  {
   "cell_type": "code",
   "execution_count": null,
   "id": "a1be2736",
   "metadata": {},
   "outputs": [],
   "source": []
  },
  {
   "cell_type": "markdown",
   "id": "73f6575a",
   "metadata": {},
   "source": [
    "The next question is, which data is important and will have an influence on our final prediction (attribute- Transported). "
   ]
  },
  {
   "cell_type": "code",
   "execution_count": null,
   "id": "b105efe3",
   "metadata": {},
   "outputs": [],
   "source": []
  },
  {
   "cell_type": "code",
   "execution_count": 27,
   "id": "2f4a2a85",
   "metadata": {},
   "outputs": [],
   "source": []
  },
  {
   "cell_type": "code",
   "execution_count": null,
   "id": "449887ee",
   "metadata": {},
   "outputs": [],
   "source": []
  },
  {
   "cell_type": "code",
   "execution_count": 28,
   "id": "12c3842f",
   "metadata": {},
   "outputs": [
    {
     "data": {
      "text/html": [
       "<div>\n",
       "<style scoped>\n",
       "    .dataframe tbody tr th:only-of-type {\n",
       "        vertical-align: middle;\n",
       "    }\n",
       "\n",
       "    .dataframe tbody tr th {\n",
       "        vertical-align: top;\n",
       "    }\n",
       "\n",
       "    .dataframe thead th {\n",
       "        text-align: right;\n",
       "    }\n",
       "</style>\n",
       "<table border=\"1\" class=\"dataframe\">\n",
       "  <thead>\n",
       "    <tr style=\"text-align: right;\">\n",
       "      <th></th>\n",
       "      <th>PassengerId</th>\n",
       "      <th>HomePlanet</th>\n",
       "      <th>CryoSleep</th>\n",
       "      <th>Cabin</th>\n",
       "      <th>Destination</th>\n",
       "      <th>Age</th>\n",
       "      <th>VIP</th>\n",
       "      <th>RoomService</th>\n",
       "      <th>FoodCourt</th>\n",
       "      <th>ShoppingMall</th>\n",
       "      <th>Spa</th>\n",
       "      <th>VRDeck</th>\n",
       "      <th>Name</th>\n",
       "    </tr>\n",
       "  </thead>\n",
       "  <tbody>\n",
       "    <tr>\n",
       "      <th>0</th>\n",
       "      <td>0013_01</td>\n",
       "      <td>Earth</td>\n",
       "      <td>True</td>\n",
       "      <td>G/3/S</td>\n",
       "      <td>TRAPPIST-1e</td>\n",
       "      <td>27.0</td>\n",
       "      <td>False</td>\n",
       "      <td>0.0</td>\n",
       "      <td>0.0</td>\n",
       "      <td>0.0</td>\n",
       "      <td>0.0</td>\n",
       "      <td>0.0</td>\n",
       "      <td>Nelly Carsoning</td>\n",
       "    </tr>\n",
       "    <tr>\n",
       "      <th>1</th>\n",
       "      <td>0018_01</td>\n",
       "      <td>Earth</td>\n",
       "      <td>False</td>\n",
       "      <td>F/4/S</td>\n",
       "      <td>TRAPPIST-1e</td>\n",
       "      <td>19.0</td>\n",
       "      <td>False</td>\n",
       "      <td>0.0</td>\n",
       "      <td>9.0</td>\n",
       "      <td>0.0</td>\n",
       "      <td>2823.0</td>\n",
       "      <td>0.0</td>\n",
       "      <td>Lerome Peckers</td>\n",
       "    </tr>\n",
       "    <tr>\n",
       "      <th>2</th>\n",
       "      <td>0019_01</td>\n",
       "      <td>Europa</td>\n",
       "      <td>True</td>\n",
       "      <td>C/0/S</td>\n",
       "      <td>55 Cancri e</td>\n",
       "      <td>31.0</td>\n",
       "      <td>False</td>\n",
       "      <td>0.0</td>\n",
       "      <td>0.0</td>\n",
       "      <td>0.0</td>\n",
       "      <td>0.0</td>\n",
       "      <td>0.0</td>\n",
       "      <td>Sabih Unhearfus</td>\n",
       "    </tr>\n",
       "    <tr>\n",
       "      <th>3</th>\n",
       "      <td>0021_01</td>\n",
       "      <td>Europa</td>\n",
       "      <td>False</td>\n",
       "      <td>C/1/S</td>\n",
       "      <td>TRAPPIST-1e</td>\n",
       "      <td>38.0</td>\n",
       "      <td>False</td>\n",
       "      <td>0.0</td>\n",
       "      <td>6652.0</td>\n",
       "      <td>0.0</td>\n",
       "      <td>181.0</td>\n",
       "      <td>585.0</td>\n",
       "      <td>Meratz Caltilter</td>\n",
       "    </tr>\n",
       "    <tr>\n",
       "      <th>4</th>\n",
       "      <td>0023_01</td>\n",
       "      <td>Earth</td>\n",
       "      <td>False</td>\n",
       "      <td>F/5/S</td>\n",
       "      <td>TRAPPIST-1e</td>\n",
       "      <td>20.0</td>\n",
       "      <td>False</td>\n",
       "      <td>10.0</td>\n",
       "      <td>0.0</td>\n",
       "      <td>635.0</td>\n",
       "      <td>0.0</td>\n",
       "      <td>0.0</td>\n",
       "      <td>Brence Harperez</td>\n",
       "    </tr>\n",
       "  </tbody>\n",
       "</table>\n",
       "</div>"
      ],
      "text/plain": [
       "  PassengerId HomePlanet CryoSleep  Cabin  Destination   Age    VIP  \\\n",
       "0     0013_01      Earth      True  G/3/S  TRAPPIST-1e  27.0  False   \n",
       "1     0018_01      Earth     False  F/4/S  TRAPPIST-1e  19.0  False   \n",
       "2     0019_01     Europa      True  C/0/S  55 Cancri e  31.0  False   \n",
       "3     0021_01     Europa     False  C/1/S  TRAPPIST-1e  38.0  False   \n",
       "4     0023_01      Earth     False  F/5/S  TRAPPIST-1e  20.0  False   \n",
       "\n",
       "   RoomService  FoodCourt  ShoppingMall     Spa  VRDeck              Name  \n",
       "0          0.0        0.0           0.0     0.0     0.0   Nelly Carsoning  \n",
       "1          0.0        9.0           0.0  2823.0     0.0    Lerome Peckers  \n",
       "2          0.0        0.0           0.0     0.0     0.0   Sabih Unhearfus  \n",
       "3          0.0     6652.0           0.0   181.0   585.0  Meratz Caltilter  \n",
       "4         10.0        0.0         635.0     0.0     0.0   Brence Harperez  "
      ]
     },
     "execution_count": 28,
     "metadata": {},
     "output_type": "execute_result"
    }
   ],
   "source": [
    "test_data = pd.read_csv(r\"C:\\Users\\krupa\\OneDrive\\Desktop\\Titanic_ship_ML\\data\\test.csv\")\n",
    "\n",
    "test_data.head()"
   ]
  },
  {
   "cell_type": "code",
   "execution_count": 29,
   "id": "08f535c8",
   "metadata": {},
   "outputs": [
    {
     "data": {
      "text/plain": [
       "Index(['PassengerId', 'HomePlanet', 'CryoSleep', 'Cabin', 'Destination', 'Age',\n",
       "       'VIP', 'RoomService', 'FoodCourt', 'ShoppingMall', 'Spa', 'VRDeck',\n",
       "       'Name'],\n",
       "      dtype='object')"
      ]
     },
     "execution_count": 29,
     "metadata": {},
     "output_type": "execute_result"
    }
   ],
   "source": [
    "test_data.columns"
   ]
  }
 ],
 "metadata": {
  "kernelspec": {
   "display_name": "Python 3 (ipykernel)",
   "language": "python",
   "name": "python3"
  },
  "language_info": {
   "codemirror_mode": {
    "name": "ipython",
    "version": 3
   },
   "file_extension": ".py",
   "mimetype": "text/x-python",
   "name": "python",
   "nbconvert_exporter": "python",
   "pygments_lexer": "ipython3",
   "version": "3.10.10"
  }
 },
 "nbformat": 4,
 "nbformat_minor": 5
}
