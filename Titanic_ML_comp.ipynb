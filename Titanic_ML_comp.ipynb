{
 "cells": [
  {
   "cell_type": "code",
   "execution_count": 83,
   "id": "54501386",
   "metadata": {},
   "outputs": [],
   "source": [
    "#import libs\n",
    "import matplotlib.pyplot as plt\n",
    "\n",
    "import plotly as py\n",
    "import plotly.express as px\n",
    "\n",
    "import pandas as pd\n",
    "import numpy as np\n",
    "import sklearn\n",
    "from sklearn import linear_model\n",
    "from sklearn.utils import shuffle"
   ]
  },
  {
   "cell_type": "markdown",
   "id": "ad3eb6c3",
   "metadata": {},
   "source": [
    "Task of competition is to predict whether a passenger was transported to an alternate dimension during the Spaceship Titanic's collision with the spacetime anomaly. \n",
    "\n",
    "Training data has been provided in the file train.csv - Personal records for about two-thirds (~8700) of the passengers, to be used as training data.\n",
    "\n",
    "Testing data has been provided in the file test.csv - Personal records for the remaining one-third (~4300) of the passengers, to be used as test data. \n",
    "\n",
    "Your task is to predict the value of Transported for the passengers in this set."
   ]
  },
  {
   "cell_type": "code",
   "execution_count": 84,
   "id": "63844b52",
   "metadata": {
    "scrolled": true
   },
   "outputs": [
    {
     "data": {
      "text/html": [
       "<div>\n",
       "<style scoped>\n",
       "    .dataframe tbody tr th:only-of-type {\n",
       "        vertical-align: middle;\n",
       "    }\n",
       "\n",
       "    .dataframe tbody tr th {\n",
       "        vertical-align: top;\n",
       "    }\n",
       "\n",
       "    .dataframe thead th {\n",
       "        text-align: right;\n",
       "    }\n",
       "</style>\n",
       "<table border=\"1\" class=\"dataframe\">\n",
       "  <thead>\n",
       "    <tr style=\"text-align: right;\">\n",
       "      <th></th>\n",
       "      <th>PassengerId</th>\n",
       "      <th>HomePlanet</th>\n",
       "      <th>CryoSleep</th>\n",
       "      <th>Cabin</th>\n",
       "      <th>Destination</th>\n",
       "      <th>Age</th>\n",
       "      <th>VIP</th>\n",
       "      <th>RoomService</th>\n",
       "      <th>FoodCourt</th>\n",
       "      <th>ShoppingMall</th>\n",
       "      <th>Spa</th>\n",
       "      <th>VRDeck</th>\n",
       "      <th>Name</th>\n",
       "      <th>Transported</th>\n",
       "    </tr>\n",
       "  </thead>\n",
       "  <tbody>\n",
       "    <tr>\n",
       "      <th>0</th>\n",
       "      <td>0001_01</td>\n",
       "      <td>Europa</td>\n",
       "      <td>False</td>\n",
       "      <td>B/0/P</td>\n",
       "      <td>TRAPPIST-1e</td>\n",
       "      <td>39.0</td>\n",
       "      <td>False</td>\n",
       "      <td>0.0</td>\n",
       "      <td>0.0</td>\n",
       "      <td>0.0</td>\n",
       "      <td>0.0</td>\n",
       "      <td>0.0</td>\n",
       "      <td>Maham Ofracculy</td>\n",
       "      <td>False</td>\n",
       "    </tr>\n",
       "    <tr>\n",
       "      <th>1</th>\n",
       "      <td>0002_01</td>\n",
       "      <td>Earth</td>\n",
       "      <td>False</td>\n",
       "      <td>F/0/S</td>\n",
       "      <td>TRAPPIST-1e</td>\n",
       "      <td>24.0</td>\n",
       "      <td>False</td>\n",
       "      <td>109.0</td>\n",
       "      <td>9.0</td>\n",
       "      <td>25.0</td>\n",
       "      <td>549.0</td>\n",
       "      <td>44.0</td>\n",
       "      <td>Juanna Vines</td>\n",
       "      <td>True</td>\n",
       "    </tr>\n",
       "    <tr>\n",
       "      <th>2</th>\n",
       "      <td>0003_01</td>\n",
       "      <td>Europa</td>\n",
       "      <td>False</td>\n",
       "      <td>A/0/S</td>\n",
       "      <td>TRAPPIST-1e</td>\n",
       "      <td>58.0</td>\n",
       "      <td>True</td>\n",
       "      <td>43.0</td>\n",
       "      <td>3576.0</td>\n",
       "      <td>0.0</td>\n",
       "      <td>6715.0</td>\n",
       "      <td>49.0</td>\n",
       "      <td>Altark Susent</td>\n",
       "      <td>False</td>\n",
       "    </tr>\n",
       "    <tr>\n",
       "      <th>3</th>\n",
       "      <td>0003_02</td>\n",
       "      <td>Europa</td>\n",
       "      <td>False</td>\n",
       "      <td>A/0/S</td>\n",
       "      <td>TRAPPIST-1e</td>\n",
       "      <td>33.0</td>\n",
       "      <td>False</td>\n",
       "      <td>0.0</td>\n",
       "      <td>1283.0</td>\n",
       "      <td>371.0</td>\n",
       "      <td>3329.0</td>\n",
       "      <td>193.0</td>\n",
       "      <td>Solam Susent</td>\n",
       "      <td>False</td>\n",
       "    </tr>\n",
       "    <tr>\n",
       "      <th>4</th>\n",
       "      <td>0004_01</td>\n",
       "      <td>Earth</td>\n",
       "      <td>False</td>\n",
       "      <td>F/1/S</td>\n",
       "      <td>TRAPPIST-1e</td>\n",
       "      <td>16.0</td>\n",
       "      <td>False</td>\n",
       "      <td>303.0</td>\n",
       "      <td>70.0</td>\n",
       "      <td>151.0</td>\n",
       "      <td>565.0</td>\n",
       "      <td>2.0</td>\n",
       "      <td>Willy Santantines</td>\n",
       "      <td>True</td>\n",
       "    </tr>\n",
       "  </tbody>\n",
       "</table>\n",
       "</div>"
      ],
      "text/plain": [
       "  PassengerId HomePlanet CryoSleep  Cabin  Destination   Age    VIP  \\\n",
       "0     0001_01     Europa     False  B/0/P  TRAPPIST-1e  39.0  False   \n",
       "1     0002_01      Earth     False  F/0/S  TRAPPIST-1e  24.0  False   \n",
       "2     0003_01     Europa     False  A/0/S  TRAPPIST-1e  58.0   True   \n",
       "3     0003_02     Europa     False  A/0/S  TRAPPIST-1e  33.0  False   \n",
       "4     0004_01      Earth     False  F/1/S  TRAPPIST-1e  16.0  False   \n",
       "\n",
       "   RoomService  FoodCourt  ShoppingMall     Spa  VRDeck               Name  \\\n",
       "0          0.0        0.0           0.0     0.0     0.0    Maham Ofracculy   \n",
       "1        109.0        9.0          25.0   549.0    44.0       Juanna Vines   \n",
       "2         43.0     3576.0           0.0  6715.0    49.0      Altark Susent   \n",
       "3          0.0     1283.0         371.0  3329.0   193.0       Solam Susent   \n",
       "4        303.0       70.0         151.0   565.0     2.0  Willy Santantines   \n",
       "\n",
       "   Transported  \n",
       "0        False  \n",
       "1         True  \n",
       "2        False  \n",
       "3        False  \n",
       "4         True  "
      ]
     },
     "execution_count": 84,
     "metadata": {},
     "output_type": "execute_result"
    }
   ],
   "source": [
    "train_data = pd.read_csv(r'C:\\Users\\krupa\\OneDrive\\Desktop\\Titanic_ship_ML\\data\\train.csv')\n",
    "\n",
    "train_data.head()"
   ]
  },
  {
   "cell_type": "code",
   "execution_count": 85,
   "id": "a2e26f73",
   "metadata": {},
   "outputs": [
    {
     "data": {
      "text/plain": [
       "Index(['PassengerId', 'HomePlanet', 'CryoSleep', 'Cabin', 'Destination', 'Age',\n",
       "       'VIP', 'RoomService', 'FoodCourt', 'ShoppingMall', 'Spa', 'VRDeck',\n",
       "       'Name', 'Transported'],\n",
       "      dtype='object')"
      ]
     },
     "execution_count": 85,
     "metadata": {},
     "output_type": "execute_result"
    }
   ],
   "source": [
    "train_data.columns"
   ]
  },
  {
   "cell_type": "code",
   "execution_count": 86,
   "id": "2151580d",
   "metadata": {},
   "outputs": [
    {
     "data": {
      "text/plain": [
       "(8693, 14)"
      ]
     },
     "execution_count": 86,
     "metadata": {},
     "output_type": "execute_result"
    }
   ],
   "source": [
    "train_data.shape"
   ]
  },
  {
   "cell_type": "code",
   "execution_count": 87,
   "id": "b2665e97",
   "metadata": {
    "scrolled": true
   },
   "outputs": [
    {
     "data": {
      "text/html": [
       "<div>\n",
       "<style scoped>\n",
       "    .dataframe tbody tr th:only-of-type {\n",
       "        vertical-align: middle;\n",
       "    }\n",
       "\n",
       "    .dataframe tbody tr th {\n",
       "        vertical-align: top;\n",
       "    }\n",
       "\n",
       "    .dataframe thead th {\n",
       "        text-align: right;\n",
       "    }\n",
       "</style>\n",
       "<table border=\"1\" class=\"dataframe\">\n",
       "  <thead>\n",
       "    <tr style=\"text-align: right;\">\n",
       "      <th></th>\n",
       "      <th>Age</th>\n",
       "      <th>RoomService</th>\n",
       "      <th>FoodCourt</th>\n",
       "      <th>ShoppingMall</th>\n",
       "      <th>Spa</th>\n",
       "      <th>VRDeck</th>\n",
       "    </tr>\n",
       "  </thead>\n",
       "  <tbody>\n",
       "    <tr>\n",
       "      <th>count</th>\n",
       "      <td>8514.000000</td>\n",
       "      <td>8512.000000</td>\n",
       "      <td>8510.000000</td>\n",
       "      <td>8485.000000</td>\n",
       "      <td>8510.000000</td>\n",
       "      <td>8505.000000</td>\n",
       "    </tr>\n",
       "    <tr>\n",
       "      <th>mean</th>\n",
       "      <td>28.827930</td>\n",
       "      <td>224.687617</td>\n",
       "      <td>458.077203</td>\n",
       "      <td>173.729169</td>\n",
       "      <td>311.138778</td>\n",
       "      <td>304.854791</td>\n",
       "    </tr>\n",
       "    <tr>\n",
       "      <th>std</th>\n",
       "      <td>14.489021</td>\n",
       "      <td>666.717663</td>\n",
       "      <td>1611.489240</td>\n",
       "      <td>604.696458</td>\n",
       "      <td>1136.705535</td>\n",
       "      <td>1145.717189</td>\n",
       "    </tr>\n",
       "    <tr>\n",
       "      <th>min</th>\n",
       "      <td>0.000000</td>\n",
       "      <td>0.000000</td>\n",
       "      <td>0.000000</td>\n",
       "      <td>0.000000</td>\n",
       "      <td>0.000000</td>\n",
       "      <td>0.000000</td>\n",
       "    </tr>\n",
       "    <tr>\n",
       "      <th>25%</th>\n",
       "      <td>19.000000</td>\n",
       "      <td>0.000000</td>\n",
       "      <td>0.000000</td>\n",
       "      <td>0.000000</td>\n",
       "      <td>0.000000</td>\n",
       "      <td>0.000000</td>\n",
       "    </tr>\n",
       "    <tr>\n",
       "      <th>50%</th>\n",
       "      <td>27.000000</td>\n",
       "      <td>0.000000</td>\n",
       "      <td>0.000000</td>\n",
       "      <td>0.000000</td>\n",
       "      <td>0.000000</td>\n",
       "      <td>0.000000</td>\n",
       "    </tr>\n",
       "    <tr>\n",
       "      <th>75%</th>\n",
       "      <td>38.000000</td>\n",
       "      <td>47.000000</td>\n",
       "      <td>76.000000</td>\n",
       "      <td>27.000000</td>\n",
       "      <td>59.000000</td>\n",
       "      <td>46.000000</td>\n",
       "    </tr>\n",
       "    <tr>\n",
       "      <th>max</th>\n",
       "      <td>79.000000</td>\n",
       "      <td>14327.000000</td>\n",
       "      <td>29813.000000</td>\n",
       "      <td>23492.000000</td>\n",
       "      <td>22408.000000</td>\n",
       "      <td>24133.000000</td>\n",
       "    </tr>\n",
       "  </tbody>\n",
       "</table>\n",
       "</div>"
      ],
      "text/plain": [
       "               Age   RoomService     FoodCourt  ShoppingMall           Spa  \\\n",
       "count  8514.000000   8512.000000   8510.000000   8485.000000   8510.000000   \n",
       "mean     28.827930    224.687617    458.077203    173.729169    311.138778   \n",
       "std      14.489021    666.717663   1611.489240    604.696458   1136.705535   \n",
       "min       0.000000      0.000000      0.000000      0.000000      0.000000   \n",
       "25%      19.000000      0.000000      0.000000      0.000000      0.000000   \n",
       "50%      27.000000      0.000000      0.000000      0.000000      0.000000   \n",
       "75%      38.000000     47.000000     76.000000     27.000000     59.000000   \n",
       "max      79.000000  14327.000000  29813.000000  23492.000000  22408.000000   \n",
       "\n",
       "             VRDeck  \n",
       "count   8505.000000  \n",
       "mean     304.854791  \n",
       "std     1145.717189  \n",
       "min        0.000000  \n",
       "25%        0.000000  \n",
       "50%        0.000000  \n",
       "75%       46.000000  \n",
       "max    24133.000000  "
      ]
     },
     "execution_count": 87,
     "metadata": {},
     "output_type": "execute_result"
    }
   ],
   "source": [
    "train_data.describe()"
   ]
  },
  {
   "cell_type": "code",
   "execution_count": 88,
   "id": "f6bf3436",
   "metadata": {
    "scrolled": false
   },
   "outputs": [
    {
     "name": "stdout",
     "output_type": "stream",
     "text": [
      "missing values (%) per column: \n",
      " PassengerId     0.000000\n",
      "HomePlanet      2.312205\n",
      "CryoSleep       2.496261\n",
      "Cabin           2.289198\n",
      "Destination     2.093639\n",
      "Age             2.059128\n",
      "VIP             2.335212\n",
      "RoomService     2.082135\n",
      "FoodCourt       2.105142\n",
      "ShoppingMall    2.392730\n",
      "Spa             2.105142\n",
      "VRDeck          2.162660\n",
      "Name            2.300702\n",
      "Transported     0.000000\n",
      "dtype: float64\n"
     ]
    }
   ],
   "source": [
    "#check for missing values\n",
    "print('missing values (%) per column: \\n', 100*train_data.isnull().mean())"
   ]
  },
  {
   "cell_type": "code",
   "execution_count": 89,
   "id": "981e0e1a",
   "metadata": {
    "scrolled": true
   },
   "outputs": [
    {
     "name": "stdout",
     "output_type": "stream",
     "text": [
      "Overall percentage of missing values in dataset:  1.91 %\n"
     ]
    }
   ],
   "source": [
    "#overall percentage of missing values \n",
    "total_cells = np.product(train_data.shape)\n",
    "missing_vals = train_data.isnull().sum()\n",
    "total_missing_vals = missing_vals.sum()\n",
    "percent_missing_vals = ((total_missing_vals/total_cells)*100).round(2)\n",
    "print('Overall percentage of missing values in dataset: ', percent_missing_vals,'%')\n"
   ]
  },
  {
   "cell_type": "code",
   "execution_count": 90,
   "id": "4dc6f10d",
   "metadata": {},
   "outputs": [
    {
     "data": {
      "text/plain": [
       "(8693, 14)"
      ]
     },
     "execution_count": 90,
     "metadata": {},
     "output_type": "execute_result"
    }
   ],
   "source": [
    "train_data.shape"
   ]
  },
  {
   "cell_type": "code",
   "execution_count": 91,
   "id": "4dce4d4b",
   "metadata": {
    "scrolled": true
   },
   "outputs": [
    {
     "data": {
      "text/plain": [
       "PassengerId      object\n",
       "HomePlanet       object\n",
       "CryoSleep        object\n",
       "Cabin            object\n",
       "Destination      object\n",
       "Age             float64\n",
       "VIP              object\n",
       "RoomService     float64\n",
       "FoodCourt       float64\n",
       "ShoppingMall    float64\n",
       "Spa             float64\n",
       "VRDeck          float64\n",
       "Name             object\n",
       "Transported        bool\n",
       "dtype: object"
      ]
     },
     "execution_count": 91,
     "metadata": {},
     "output_type": "execute_result"
    }
   ],
   "source": [
    "train_data.dtypes"
   ]
  },
  {
   "cell_type": "code",
   "execution_count": 92,
   "id": "f000033b",
   "metadata": {},
   "outputs": [],
   "source": [
    "#non-int data"
   ]
  },
  {
   "cell_type": "code",
   "execution_count": 93,
   "id": "29aa4dc2",
   "metadata": {
    "scrolled": true
   },
   "outputs": [
    {
     "data": {
      "text/plain": [
       "Earth     4602\n",
       "Europa    2131\n",
       "Mars      1759\n",
       "Name: HomePlanet, dtype: int64"
      ]
     },
     "execution_count": 93,
     "metadata": {},
     "output_type": "execute_result"
    }
   ],
   "source": [
    "train_data['HomePlanet'].value_counts()"
   ]
  },
  {
   "cell_type": "code",
   "execution_count": 94,
   "id": "1b699cae",
   "metadata": {},
   "outputs": [
    {
     "data": {
      "text/plain": [
       "False    5439\n",
       "True     3037\n",
       "Name: CryoSleep, dtype: int64"
      ]
     },
     "execution_count": 94,
     "metadata": {},
     "output_type": "execute_result"
    }
   ],
   "source": [
    "train_data['CryoSleep'].value_counts()"
   ]
  },
  {
   "cell_type": "code",
   "execution_count": 95,
   "id": "f90d226a",
   "metadata": {},
   "outputs": [
    {
     "data": {
      "text/plain": [
       "G/734/S     8\n",
       "G/109/P     7\n",
       "B/201/P     7\n",
       "G/1368/P    7\n",
       "G/981/S     7\n",
       "           ..\n",
       "G/556/P     1\n",
       "E/231/S     1\n",
       "G/545/S     1\n",
       "G/543/S     1\n",
       "F/947/P     1\n",
       "Name: Cabin, Length: 6560, dtype: int64"
      ]
     },
     "execution_count": 95,
     "metadata": {},
     "output_type": "execute_result"
    }
   ],
   "source": [
    "train_data['Cabin'].value_counts()"
   ]
  },
  {
   "cell_type": "code",
   "execution_count": 96,
   "id": "306f2551",
   "metadata": {},
   "outputs": [
    {
     "data": {
      "text/plain": [
       "TRAPPIST-1e      5915\n",
       "55 Cancri e      1800\n",
       "PSO J318.5-22     796\n",
       "Name: Destination, dtype: int64"
      ]
     },
     "execution_count": 96,
     "metadata": {},
     "output_type": "execute_result"
    }
   ],
   "source": [
    "train_data['Destination'].value_counts()"
   ]
  },
  {
   "cell_type": "code",
   "execution_count": 97,
   "id": "838cd64f",
   "metadata": {
    "scrolled": true
   },
   "outputs": [
    {
     "data": {
      "text/plain": [
       "False    8291\n",
       "True      199\n",
       "Name: VIP, dtype: int64"
      ]
     },
     "execution_count": 97,
     "metadata": {},
     "output_type": "execute_result"
    }
   ],
   "source": [
    "train_data['VIP'].value_counts()"
   ]
  },
  {
   "cell_type": "code",
   "execution_count": 98,
   "id": "077b00db",
   "metadata": {},
   "outputs": [],
   "source": [
    "train_data = train_data.dropna()"
   ]
  },
  {
   "cell_type": "code",
   "execution_count": 99,
   "id": "9ee822bf",
   "metadata": {},
   "outputs": [
    {
     "data": {
      "text/plain": [
       "PassengerId     0\n",
       "HomePlanet      0\n",
       "CryoSleep       0\n",
       "Cabin           0\n",
       "Destination     0\n",
       "Age             0\n",
       "VIP             0\n",
       "RoomService     0\n",
       "FoodCourt       0\n",
       "ShoppingMall    0\n",
       "Spa             0\n",
       "VRDeck          0\n",
       "Name            0\n",
       "Transported     0\n",
       "dtype: int64"
      ]
     },
     "execution_count": 99,
     "metadata": {},
     "output_type": "execute_result"
    }
   ],
   "source": [
    "train_data.isnull().sum()"
   ]
  },
  {
   "cell_type": "code",
   "execution_count": 100,
   "id": "35e8b1e5",
   "metadata": {},
   "outputs": [],
   "source": [
    "#change to dtype float32\n",
    "#HomePlanet       object\n",
    "#CryoSleep (bool)   object\n",
    "#Cabin            object\n",
    "#Destination      object\n",
    "#VIP (bool)\n",
    "\n",
    "mapping_dict1 = {'Earth':1, 'Europa':2, 'Mars':3}\n",
    "train_data['HomePlanet'] = train_data['HomePlanet'].map(mapping_dict1)\n",
    "\n",
    "mapping_dict3 = {'TRAPPIST-1e': 1, 'PSO J318.5-22': 2, '55 Cancri e': 3}\n",
    "train_data['Destination'] = train_data['Destination'].map(mapping_dict3)\n",
    "\n",
    "train_data['CryoSleep'] = train_data['CryoSleep'].astype('float32')\n",
    "train_data['VIP'] = train_data['VIP'].fillna(0).astype('float32')\n"
   ]
  },
  {
   "cell_type": "code",
   "execution_count": 101,
   "id": "97f0f8af",
   "metadata": {},
   "outputs": [
    {
     "data": {
      "text/html": [
       "<div>\n",
       "<style scoped>\n",
       "    .dataframe tbody tr th:only-of-type {\n",
       "        vertical-align: middle;\n",
       "    }\n",
       "\n",
       "    .dataframe tbody tr th {\n",
       "        vertical-align: top;\n",
       "    }\n",
       "\n",
       "    .dataframe thead th {\n",
       "        text-align: right;\n",
       "    }\n",
       "</style>\n",
       "<table border=\"1\" class=\"dataframe\">\n",
       "  <thead>\n",
       "    <tr style=\"text-align: right;\">\n",
       "      <th></th>\n",
       "      <th>PassengerId</th>\n",
       "      <th>HomePlanet</th>\n",
       "      <th>CryoSleep</th>\n",
       "      <th>Cabin</th>\n",
       "      <th>Destination</th>\n",
       "      <th>Age</th>\n",
       "      <th>VIP</th>\n",
       "      <th>RoomService</th>\n",
       "      <th>FoodCourt</th>\n",
       "      <th>ShoppingMall</th>\n",
       "      <th>Spa</th>\n",
       "      <th>VRDeck</th>\n",
       "      <th>Name</th>\n",
       "      <th>Transported</th>\n",
       "    </tr>\n",
       "  </thead>\n",
       "  <tbody>\n",
       "    <tr>\n",
       "      <th>0</th>\n",
       "      <td>0001_01</td>\n",
       "      <td>2</td>\n",
       "      <td>0.0</td>\n",
       "      <td>B/0/P</td>\n",
       "      <td>1</td>\n",
       "      <td>39.0</td>\n",
       "      <td>0.0</td>\n",
       "      <td>0.0</td>\n",
       "      <td>0.0</td>\n",
       "      <td>0.0</td>\n",
       "      <td>0.0</td>\n",
       "      <td>0.0</td>\n",
       "      <td>Maham Ofracculy</td>\n",
       "      <td>False</td>\n",
       "    </tr>\n",
       "    <tr>\n",
       "      <th>1</th>\n",
       "      <td>0002_01</td>\n",
       "      <td>1</td>\n",
       "      <td>0.0</td>\n",
       "      <td>F/0/S</td>\n",
       "      <td>1</td>\n",
       "      <td>24.0</td>\n",
       "      <td>0.0</td>\n",
       "      <td>109.0</td>\n",
       "      <td>9.0</td>\n",
       "      <td>25.0</td>\n",
       "      <td>549.0</td>\n",
       "      <td>44.0</td>\n",
       "      <td>Juanna Vines</td>\n",
       "      <td>True</td>\n",
       "    </tr>\n",
       "    <tr>\n",
       "      <th>2</th>\n",
       "      <td>0003_01</td>\n",
       "      <td>2</td>\n",
       "      <td>0.0</td>\n",
       "      <td>A/0/S</td>\n",
       "      <td>1</td>\n",
       "      <td>58.0</td>\n",
       "      <td>1.0</td>\n",
       "      <td>43.0</td>\n",
       "      <td>3576.0</td>\n",
       "      <td>0.0</td>\n",
       "      <td>6715.0</td>\n",
       "      <td>49.0</td>\n",
       "      <td>Altark Susent</td>\n",
       "      <td>False</td>\n",
       "    </tr>\n",
       "    <tr>\n",
       "      <th>3</th>\n",
       "      <td>0003_02</td>\n",
       "      <td>2</td>\n",
       "      <td>0.0</td>\n",
       "      <td>A/0/S</td>\n",
       "      <td>1</td>\n",
       "      <td>33.0</td>\n",
       "      <td>0.0</td>\n",
       "      <td>0.0</td>\n",
       "      <td>1283.0</td>\n",
       "      <td>371.0</td>\n",
       "      <td>3329.0</td>\n",
       "      <td>193.0</td>\n",
       "      <td>Solam Susent</td>\n",
       "      <td>False</td>\n",
       "    </tr>\n",
       "    <tr>\n",
       "      <th>4</th>\n",
       "      <td>0004_01</td>\n",
       "      <td>1</td>\n",
       "      <td>0.0</td>\n",
       "      <td>F/1/S</td>\n",
       "      <td>1</td>\n",
       "      <td>16.0</td>\n",
       "      <td>0.0</td>\n",
       "      <td>303.0</td>\n",
       "      <td>70.0</td>\n",
       "      <td>151.0</td>\n",
       "      <td>565.0</td>\n",
       "      <td>2.0</td>\n",
       "      <td>Willy Santantines</td>\n",
       "      <td>True</td>\n",
       "    </tr>\n",
       "  </tbody>\n",
       "</table>\n",
       "</div>"
      ],
      "text/plain": [
       "  PassengerId  HomePlanet  CryoSleep  Cabin  Destination   Age  VIP  \\\n",
       "0     0001_01           2        0.0  B/0/P            1  39.0  0.0   \n",
       "1     0002_01           1        0.0  F/0/S            1  24.0  0.0   \n",
       "2     0003_01           2        0.0  A/0/S            1  58.0  1.0   \n",
       "3     0003_02           2        0.0  A/0/S            1  33.0  0.0   \n",
       "4     0004_01           1        0.0  F/1/S            1  16.0  0.0   \n",
       "\n",
       "   RoomService  FoodCourt  ShoppingMall     Spa  VRDeck               Name  \\\n",
       "0          0.0        0.0           0.0     0.0     0.0    Maham Ofracculy   \n",
       "1        109.0        9.0          25.0   549.0    44.0       Juanna Vines   \n",
       "2         43.0     3576.0           0.0  6715.0    49.0      Altark Susent   \n",
       "3          0.0     1283.0         371.0  3329.0   193.0       Solam Susent   \n",
       "4        303.0       70.0         151.0   565.0     2.0  Willy Santantines   \n",
       "\n",
       "   Transported  \n",
       "0        False  \n",
       "1         True  \n",
       "2        False  \n",
       "3        False  \n",
       "4         True  "
      ]
     },
     "execution_count": 101,
     "metadata": {},
     "output_type": "execute_result"
    }
   ],
   "source": [
    "train_data.head()"
   ]
  },
  {
   "cell_type": "code",
   "execution_count": 102,
   "id": "edde76e7",
   "metadata": {
    "scrolled": true
   },
   "outputs": [
    {
     "data": {
      "text/html": [
       "<style type=\"text/css\">\n",
       "#T_4e47c_row0_col0, #T_4e47c_row1_col1, #T_4e47c_row2_col2, #T_4e47c_row3_col3, #T_4e47c_row4_col4, #T_4e47c_row5_col5, #T_4e47c_row6_col6, #T_4e47c_row7_col7, #T_4e47c_row8_col8, #T_4e47c_row9_col9, #T_4e47c_row10_col10 {\n",
       "  background-color: #7f2704;\n",
       "  color: #f1f1f1;\n",
       "}\n",
       "#T_4e47c_row0_col1 {\n",
       "  background-color: #fdcb9b;\n",
       "  color: #000000;\n",
       "}\n",
       "#T_4e47c_row0_col2 {\n",
       "  background-color: #fff4e9;\n",
       "  color: #000000;\n",
       "}\n",
       "#T_4e47c_row0_col3, #T_4e47c_row7_col10 {\n",
       "  background-color: #fdd7b1;\n",
       "  color: #000000;\n",
       "}\n",
       "#T_4e47c_row0_col4, #T_4e47c_row4_col7, #T_4e47c_row7_col8, #T_4e47c_row9_col4, #T_4e47c_row10_col7 {\n",
       "  background-color: #fdd9b5;\n",
       "  color: #000000;\n",
       "}\n",
       "#T_4e47c_row0_col5 {\n",
       "  background-color: #fdad69;\n",
       "  color: #000000;\n",
       "}\n",
       "#T_4e47c_row0_col6, #T_4e47c_row2_col9, #T_4e47c_row4_col8 {\n",
       "  background-color: #fdd3a9;\n",
       "  color: #000000;\n",
       "}\n",
       "#T_4e47c_row0_col7, #T_4e47c_row2_col1, #T_4e47c_row4_col9 {\n",
       "  background-color: #fdc895;\n",
       "  color: #000000;\n",
       "}\n",
       "#T_4e47c_row0_col8, #T_4e47c_row4_col5 {\n",
       "  background-color: #fdd5ab;\n",
       "  color: #000000;\n",
       "}\n",
       "#T_4e47c_row0_col9, #T_4e47c_row6_col3, #T_4e47c_row8_col7 {\n",
       "  background-color: #fdd8b2;\n",
       "  color: #000000;\n",
       "}\n",
       "#T_4e47c_row0_col10, #T_4e47c_row3_col6, #T_4e47c_row4_col6 {\n",
       "  background-color: #fdc692;\n",
       "  color: #000000;\n",
       "}\n",
       "#T_4e47c_row1_col0, #T_4e47c_row7_col3 {\n",
       "  background-color: #fee7d0;\n",
       "  color: #000000;\n",
       "}\n",
       "#T_4e47c_row1_col2 {\n",
       "  background-color: #fee3c8;\n",
       "  color: #000000;\n",
       "}\n",
       "#T_4e47c_row1_col3, #T_4e47c_row1_col4, #T_4e47c_row1_col5, #T_4e47c_row1_col6, #T_4e47c_row1_col7, #T_4e47c_row2_col0, #T_4e47c_row5_col1, #T_4e47c_row5_col2, #T_4e47c_row5_col10, #T_4e47c_row10_col3, #T_4e47c_row10_col8, #T_4e47c_row10_col9 {\n",
       "  background-color: #fff5eb;\n",
       "  color: #000000;\n",
       "}\n",
       "#T_4e47c_row1_col8 {\n",
       "  background-color: #fff4e8;\n",
       "  color: #000000;\n",
       "}\n",
       "#T_4e47c_row1_col9, #T_4e47c_row10_col5 {\n",
       "  background-color: #fff5ea;\n",
       "  color: #000000;\n",
       "}\n",
       "#T_4e47c_row1_col10 {\n",
       "  background-color: #f67925;\n",
       "  color: #f1f1f1;\n",
       "}\n",
       "#T_4e47c_row2_col3, #T_4e47c_row7_col4 {\n",
       "  background-color: #feebd7;\n",
       "  color: #000000;\n",
       "}\n",
       "#T_4e47c_row2_col4 {\n",
       "  background-color: #fee7d1;\n",
       "  color: #000000;\n",
       "}\n",
       "#T_4e47c_row2_col5 {\n",
       "  background-color: #fee0c3;\n",
       "  color: #000000;\n",
       "}\n",
       "#T_4e47c_row2_col6, #T_4e47c_row3_col5 {\n",
       "  background-color: #fdcd9c;\n",
       "  color: #000000;\n",
       "}\n",
       "#T_4e47c_row2_col7, #T_4e47c_row4_col3, #T_4e47c_row10_col2 {\n",
       "  background-color: #fedebf;\n",
       "  color: #000000;\n",
       "}\n",
       "#T_4e47c_row2_col8 {\n",
       "  background-color: #fdd4aa;\n",
       "  color: #000000;\n",
       "}\n",
       "#T_4e47c_row2_col10 {\n",
       "  background-color: #fdc38d;\n",
       "  color: #000000;\n",
       "}\n",
       "#T_4e47c_row3_col0, #T_4e47c_row6_col7 {\n",
       "  background-color: #feddbc;\n",
       "  color: #000000;\n",
       "}\n",
       "#T_4e47c_row3_col1, #T_4e47c_row8_col4 {\n",
       "  background-color: #fee5cb;\n",
       "  color: #000000;\n",
       "}\n",
       "#T_4e47c_row3_col2 {\n",
       "  background-color: #ffeedd;\n",
       "  color: #000000;\n",
       "}\n",
       "#T_4e47c_row3_col4, #T_4e47c_row4_col0, #T_4e47c_row4_col10 {\n",
       "  background-color: #fedfc0;\n",
       "  color: #000000;\n",
       "}\n",
       "#T_4e47c_row3_col7, #T_4e47c_row10_col6 {\n",
       "  background-color: #fdd5ad;\n",
       "  color: #000000;\n",
       "}\n",
       "#T_4e47c_row3_col8 {\n",
       "  background-color: #fdc794;\n",
       "  color: #000000;\n",
       "}\n",
       "#T_4e47c_row3_col9 {\n",
       "  background-color: #fdce9e;\n",
       "  color: #000000;\n",
       "}\n",
       "#T_4e47c_row3_col10 {\n",
       "  background-color: #fee5cc;\n",
       "  color: #000000;\n",
       "}\n",
       "#T_4e47c_row4_col1 {\n",
       "  background-color: #fee4ca;\n",
       "  color: #000000;\n",
       "}\n",
       "#T_4e47c_row4_col2 {\n",
       "  background-color: #feead6;\n",
       "  color: #000000;\n",
       "}\n",
       "#T_4e47c_row5_col0 {\n",
       "  background-color: #fdcfa0;\n",
       "  color: #000000;\n",
       "}\n",
       "#T_4e47c_row5_col3, #T_4e47c_row10_col0 {\n",
       "  background-color: #fee2c7;\n",
       "  color: #000000;\n",
       "}\n",
       "#T_4e47c_row5_col4 {\n",
       "  background-color: #fee9d3;\n",
       "  color: #000000;\n",
       "}\n",
       "#T_4e47c_row5_col6, #T_4e47c_row7_col6 {\n",
       "  background-color: #fee0c1;\n",
       "  color: #000000;\n",
       "}\n",
       "#T_4e47c_row5_col7 {\n",
       "  background-color: #fdd3a7;\n",
       "  color: #000000;\n",
       "}\n",
       "#T_4e47c_row5_col8 {\n",
       "  background-color: #fddbb8;\n",
       "  color: #000000;\n",
       "}\n",
       "#T_4e47c_row5_col9 {\n",
       "  background-color: #fee2c6;\n",
       "  color: #000000;\n",
       "}\n",
       "#T_4e47c_row6_col0, #T_4e47c_row8_col2 {\n",
       "  background-color: #fee8d2;\n",
       "  color: #000000;\n",
       "}\n",
       "#T_4e47c_row6_col1, #T_4e47c_row10_col4 {\n",
       "  background-color: #fff1e3;\n",
       "  color: #000000;\n",
       "}\n",
       "#T_4e47c_row6_col2, #T_4e47c_row7_col0 {\n",
       "  background-color: #fee1c4;\n",
       "  color: #000000;\n",
       "}\n",
       "#T_4e47c_row6_col4 {\n",
       "  background-color: #fdd9b4;\n",
       "  color: #000000;\n",
       "}\n",
       "#T_4e47c_row6_col5, #T_4e47c_row8_col3 {\n",
       "  background-color: #fddab6;\n",
       "  color: #000000;\n",
       "}\n",
       "#T_4e47c_row6_col8 {\n",
       "  background-color: #fdb373;\n",
       "  color: #000000;\n",
       "}\n",
       "#T_4e47c_row6_col9, #T_4e47c_row8_col6, #T_4e47c_row9_col6 {\n",
       "  background-color: #fdb475;\n",
       "  color: #000000;\n",
       "}\n",
       "#T_4e47c_row6_col10 {\n",
       "  background-color: #fdd1a4;\n",
       "  color: #000000;\n",
       "}\n",
       "#T_4e47c_row7_col1, #T_4e47c_row8_col10 {\n",
       "  background-color: #fff3e6;\n",
       "  color: #000000;\n",
       "}\n",
       "#T_4e47c_row7_col2, #T_4e47c_row9_col10 {\n",
       "  background-color: #fff1e4;\n",
       "  color: #000000;\n",
       "}\n",
       "#T_4e47c_row7_col5 {\n",
       "  background-color: #fdd0a2;\n",
       "  color: #000000;\n",
       "}\n",
       "#T_4e47c_row7_col9, #T_4e47c_row9_col3 {\n",
       "  background-color: #fedebd;\n",
       "  color: #000000;\n",
       "}\n",
       "#T_4e47c_row8_col0 {\n",
       "  background-color: #feead5;\n",
       "  color: #000000;\n",
       "}\n",
       "#T_4e47c_row8_col1 {\n",
       "  background-color: #fff0e2;\n",
       "  color: #000000;\n",
       "}\n",
       "#T_4e47c_row8_col5 {\n",
       "  background-color: #fdd7af;\n",
       "  color: #000000;\n",
       "}\n",
       "#T_4e47c_row8_col9 {\n",
       "  background-color: #fdc48f;\n",
       "  color: #000000;\n",
       "}\n",
       "#T_4e47c_row9_col0 {\n",
       "  background-color: #feecd9;\n",
       "  color: #000000;\n",
       "}\n",
       "#T_4e47c_row9_col1 {\n",
       "  background-color: #fff0e1;\n",
       "  color: #000000;\n",
       "}\n",
       "#T_4e47c_row9_col2 {\n",
       "  background-color: #fee6cf;\n",
       "  color: #000000;\n",
       "}\n",
       "#T_4e47c_row9_col5 {\n",
       "  background-color: #fedcbb;\n",
       "  color: #000000;\n",
       "}\n",
       "#T_4e47c_row9_col7 {\n",
       "  background-color: #fedcb9;\n",
       "  color: #000000;\n",
       "}\n",
       "#T_4e47c_row9_col8 {\n",
       "  background-color: #fdc28b;\n",
       "  color: #000000;\n",
       "}\n",
       "#T_4e47c_row10_col1 {\n",
       "  background-color: #f67824;\n",
       "  color: #f1f1f1;\n",
       "}\n",
       "</style>\n",
       "<table id=\"T_4e47c\">\n",
       "  <thead>\n",
       "    <tr>\n",
       "      <th class=\"blank level0\" >&nbsp;</th>\n",
       "      <th id=\"T_4e47c_level0_col0\" class=\"col_heading level0 col0\" >HomePlanet</th>\n",
       "      <th id=\"T_4e47c_level0_col1\" class=\"col_heading level0 col1\" >CryoSleep</th>\n",
       "      <th id=\"T_4e47c_level0_col2\" class=\"col_heading level0 col2\" >Destination</th>\n",
       "      <th id=\"T_4e47c_level0_col3\" class=\"col_heading level0 col3\" >Age</th>\n",
       "      <th id=\"T_4e47c_level0_col4\" class=\"col_heading level0 col4\" >VIP</th>\n",
       "      <th id=\"T_4e47c_level0_col5\" class=\"col_heading level0 col5\" >RoomService</th>\n",
       "      <th id=\"T_4e47c_level0_col6\" class=\"col_heading level0 col6\" >FoodCourt</th>\n",
       "      <th id=\"T_4e47c_level0_col7\" class=\"col_heading level0 col7\" >ShoppingMall</th>\n",
       "      <th id=\"T_4e47c_level0_col8\" class=\"col_heading level0 col8\" >Spa</th>\n",
       "      <th id=\"T_4e47c_level0_col9\" class=\"col_heading level0 col9\" >VRDeck</th>\n",
       "      <th id=\"T_4e47c_level0_col10\" class=\"col_heading level0 col10\" >Transported</th>\n",
       "    </tr>\n",
       "  </thead>\n",
       "  <tbody>\n",
       "    <tr>\n",
       "      <th id=\"T_4e47c_level0_row0\" class=\"row_heading level0 row0\" >HomePlanet</th>\n",
       "      <td id=\"T_4e47c_row0_col0\" class=\"data row0 col0\" >1.000000</td>\n",
       "      <td id=\"T_4e47c_row0_col1\" class=\"data row0 col1\" >0.081138</td>\n",
       "      <td id=\"T_4e47c_row0_col2\" class=\"data row0 col2\" >-0.042933</td>\n",
       "      <td id=\"T_4e47c_row0_col3\" class=\"data row0 col3\" >0.140432</td>\n",
       "      <td id=\"T_4e47c_row0_col4\" class=\"data row0 col4\" >0.130006</td>\n",
       "      <td id=\"T_4e47c_row0_col5\" class=\"data row0 col5\" >0.224376</td>\n",
       "      <td id=\"T_4e47c_row0_col6\" class=\"data row0 col6\" >0.071919</td>\n",
       "      <td id=\"T_4e47c_row0_col7\" class=\"data row0 col7\" >0.116066</td>\n",
       "      <td id=\"T_4e47c_row0_col8\" class=\"data row0 col8\" >0.055204</td>\n",
       "      <td id=\"T_4e47c_row0_col9\" class=\"data row0 col9\" >0.040253</td>\n",
       "      <td id=\"T_4e47c_row0_col10\" class=\"data row0 col10\" >0.111806</td>\n",
       "    </tr>\n",
       "    <tr>\n",
       "      <th id=\"T_4e47c_level0_row1\" class=\"row_heading level0 row1\" >CryoSleep</th>\n",
       "      <td id=\"T_4e47c_row1_col0\" class=\"data row1 col0\" >0.081138</td>\n",
       "      <td id=\"T_4e47c_row1_col1\" class=\"data row1 col1\" >1.000000</td>\n",
       "      <td id=\"T_4e47c_row1_col2\" class=\"data row1 col2\" >0.096612</td>\n",
       "      <td id=\"T_4e47c_row1_col3\" class=\"data row1 col3\" >-0.085701</td>\n",
       "      <td id=\"T_4e47c_row1_col4\" class=\"data row1 col4\" >-0.082303</td>\n",
       "      <td id=\"T_4e47c_row1_col5\" class=\"data row1 col5\" >-0.255398</td>\n",
       "      <td id=\"T_4e47c_row1_col6\" class=\"data row1 col6\" >-0.210782</td>\n",
       "      <td id=\"T_4e47c_row1_col7\" class=\"data row1 col7\" >-0.228612</td>\n",
       "      <td id=\"T_4e47c_row1_col8\" class=\"data row1 col8\" >-0.202216</td>\n",
       "      <td id=\"T_4e47c_row1_col9\" class=\"data row1 col9\" >-0.199095</td>\n",
       "      <td id=\"T_4e47c_row1_col10\" class=\"data row1 col10\" >0.462803</td>\n",
       "    </tr>\n",
       "    <tr>\n",
       "      <th id=\"T_4e47c_level0_row2\" class=\"row_heading level0 row2\" >Destination</th>\n",
       "      <td id=\"T_4e47c_row2_col0\" class=\"data row2 col0\" >-0.042933</td>\n",
       "      <td id=\"T_4e47c_row2_col1\" class=\"data row2 col1\" >0.096612</td>\n",
       "      <td id=\"T_4e47c_row2_col2\" class=\"data row2 col2\" >1.000000</td>\n",
       "      <td id=\"T_4e47c_row2_col3\" class=\"data row2 col3\" >0.010014</td>\n",
       "      <td id=\"T_4e47c_row2_col4\" class=\"data row2 col4\" >0.043718</td>\n",
       "      <td id=\"T_4e47c_row2_col5\" class=\"data row2 col5\" >-0.055151</td>\n",
       "      <td id=\"T_4e47c_row2_col6\" class=\"data row2 col6\" >0.108887</td>\n",
       "      <td id=\"T_4e47c_row2_col7\" class=\"data row2 col7\" >-0.021464</td>\n",
       "      <td id=\"T_4e47c_row2_col8\" class=\"data row2 col8\" >0.057562</td>\n",
       "      <td id=\"T_4e47c_row2_col9\" class=\"data row2 col9\" >0.073714</td>\n",
       "      <td id=\"T_4e47c_row2_col10\" class=\"data row2 col10\" >0.123773</td>\n",
       "    </tr>\n",
       "    <tr>\n",
       "      <th id=\"T_4e47c_level0_row3\" class=\"row_heading level0 row3\" >Age</th>\n",
       "      <td id=\"T_4e47c_row3_col0\" class=\"data row3 col0\" >0.140432</td>\n",
       "      <td id=\"T_4e47c_row3_col1\" class=\"data row3 col1\" >-0.085701</td>\n",
       "      <td id=\"T_4e47c_row3_col2\" class=\"data row3 col2\" >0.010014</td>\n",
       "      <td id=\"T_4e47c_row3_col3\" class=\"data row3 col3\" >1.000000</td>\n",
       "      <td id=\"T_4e47c_row3_col4\" class=\"data row3 col4\" >0.098138</td>\n",
       "      <td id=\"T_4e47c_row3_col5\" class=\"data row3 col5\" >0.074783</td>\n",
       "      <td id=\"T_4e47c_row3_col6\" class=\"data row3 col6\" >0.135844</td>\n",
       "      <td id=\"T_4e47c_row3_col7\" class=\"data row3 col7\" >0.042314</td>\n",
       "      <td id=\"T_4e47c_row3_col8\" class=\"data row3 col8\" >0.123820</td>\n",
       "      <td id=\"T_4e47c_row3_col9\" class=\"data row3 col9\" >0.105031</td>\n",
       "      <td id=\"T_4e47c_row3_col10\" class=\"data row3 col10\" >-0.082553</td>\n",
       "    </tr>\n",
       "    <tr>\n",
       "      <th id=\"T_4e47c_level0_row4\" class=\"row_heading level0 row4\" >VIP</th>\n",
       "      <td id=\"T_4e47c_row4_col0\" class=\"data row4 col0\" >0.130006</td>\n",
       "      <td id=\"T_4e47c_row4_col1\" class=\"data row4 col1\" >-0.082303</td>\n",
       "      <td id=\"T_4e47c_row4_col2\" class=\"data row4 col2\" >0.043718</td>\n",
       "      <td id=\"T_4e47c_row4_col3\" class=\"data row4 col3\" >0.098138</td>\n",
       "      <td id=\"T_4e47c_row4_col4\" class=\"data row4 col4\" >1.000000</td>\n",
       "      <td id=\"T_4e47c_row4_col5\" class=\"data row4 col5\" >0.029009</td>\n",
       "      <td id=\"T_4e47c_row4_col6\" class=\"data row4 col6\" >0.135386</td>\n",
       "      <td id=\"T_4e47c_row4_col7\" class=\"data row4 col7\" >0.013660</td>\n",
       "      <td id=\"T_4e47c_row4_col8\" class=\"data row4 col8\" >0.064792</td>\n",
       "      <td id=\"T_4e47c_row4_col9\" class=\"data row4 col9\" >0.130061</td>\n",
       "      <td id=\"T_4e47c_row4_col10\" class=\"data row4 col10\" >-0.042260</td>\n",
       "    </tr>\n",
       "    <tr>\n",
       "      <th id=\"T_4e47c_level0_row5\" class=\"row_heading level0 row5\" >RoomService</th>\n",
       "      <td id=\"T_4e47c_row5_col0\" class=\"data row5 col0\" >0.224376</td>\n",
       "      <td id=\"T_4e47c_row5_col1\" class=\"data row5 col1\" >-0.255398</td>\n",
       "      <td id=\"T_4e47c_row5_col2\" class=\"data row5 col2\" >-0.055151</td>\n",
       "      <td id=\"T_4e47c_row5_col3\" class=\"data row5 col3\" >0.074783</td>\n",
       "      <td id=\"T_4e47c_row5_col4\" class=\"data row5 col4\" >0.029009</td>\n",
       "      <td id=\"T_4e47c_row5_col5\" class=\"data row5 col5\" >1.000000</td>\n",
       "      <td id=\"T_4e47c_row5_col6\" class=\"data row5 col6\" >-0.013614</td>\n",
       "      <td id=\"T_4e47c_row5_col7\" class=\"data row5 col7\" >0.060478</td>\n",
       "      <td id=\"T_4e47c_row5_col8\" class=\"data row5 col8\" >0.012472</td>\n",
       "      <td id=\"T_4e47c_row5_col9\" class=\"data row5 col9\" >-0.026002</td>\n",
       "      <td id=\"T_4e47c_row5_col10\" class=\"data row5 col10\" >-0.247291</td>\n",
       "    </tr>\n",
       "    <tr>\n",
       "      <th id=\"T_4e47c_level0_row6\" class=\"row_heading level0 row6\" >FoodCourt</th>\n",
       "      <td id=\"T_4e47c_row6_col0\" class=\"data row6 col0\" >0.071919</td>\n",
       "      <td id=\"T_4e47c_row6_col1\" class=\"data row6 col1\" >-0.210782</td>\n",
       "      <td id=\"T_4e47c_row6_col2\" class=\"data row6 col2\" >0.108887</td>\n",
       "      <td id=\"T_4e47c_row6_col3\" class=\"data row6 col3\" >0.135844</td>\n",
       "      <td id=\"T_4e47c_row6_col4\" class=\"data row6 col4\" >0.135386</td>\n",
       "      <td id=\"T_4e47c_row6_col5\" class=\"data row6 col5\" >-0.013614</td>\n",
       "      <td id=\"T_4e47c_row6_col6\" class=\"data row6 col6\" >1.000000</td>\n",
       "      <td id=\"T_4e47c_row6_col7\" class=\"data row6 col7\" >-0.012320</td>\n",
       "      <td id=\"T_4e47c_row6_col8\" class=\"data row6 col8\" >0.215995</td>\n",
       "      <td id=\"T_4e47c_row6_col9\" class=\"data row6 col9\" >0.216997</td>\n",
       "      <td id=\"T_4e47c_row6_col10\" class=\"data row6 col10\" >0.055025</td>\n",
       "    </tr>\n",
       "    <tr>\n",
       "      <th id=\"T_4e47c_level0_row7\" class=\"row_heading level0 row7\" >ShoppingMall</th>\n",
       "      <td id=\"T_4e47c_row7_col0\" class=\"data row7 col0\" >0.116066</td>\n",
       "      <td id=\"T_4e47c_row7_col1\" class=\"data row7 col1\" >-0.228612</td>\n",
       "      <td id=\"T_4e47c_row7_col2\" class=\"data row7 col2\" >-0.021464</td>\n",
       "      <td id=\"T_4e47c_row7_col3\" class=\"data row7 col3\" >0.042314</td>\n",
       "      <td id=\"T_4e47c_row7_col4\" class=\"data row7 col4\" >0.013660</td>\n",
       "      <td id=\"T_4e47c_row7_col5\" class=\"data row7 col5\" >0.060478</td>\n",
       "      <td id=\"T_4e47c_row7_col6\" class=\"data row7 col6\" >-0.012320</td>\n",
       "      <td id=\"T_4e47c_row7_col7\" class=\"data row7 col7\" >1.000000</td>\n",
       "      <td id=\"T_4e47c_row7_col8\" class=\"data row7 col8\" >0.022168</td>\n",
       "      <td id=\"T_4e47c_row7_col9\" class=\"data row7 col9\" >0.000383</td>\n",
       "      <td id=\"T_4e47c_row7_col10\" class=\"data row7 col10\" >0.011602</td>\n",
       "    </tr>\n",
       "    <tr>\n",
       "      <th id=\"T_4e47c_level0_row8\" class=\"row_heading level0 row8\" >Spa</th>\n",
       "      <td id=\"T_4e47c_row8_col0\" class=\"data row8 col0\" >0.055204</td>\n",
       "      <td id=\"T_4e47c_row8_col1\" class=\"data row8 col1\" >-0.202216</td>\n",
       "      <td id=\"T_4e47c_row8_col2\" class=\"data row8 col2\" >0.057562</td>\n",
       "      <td id=\"T_4e47c_row8_col3\" class=\"data row8 col3\" >0.123820</td>\n",
       "      <td id=\"T_4e47c_row8_col4\" class=\"data row8 col4\" >0.064792</td>\n",
       "      <td id=\"T_4e47c_row8_col5\" class=\"data row8 col5\" >0.012472</td>\n",
       "      <td id=\"T_4e47c_row8_col6\" class=\"data row8 col6\" >0.215995</td>\n",
       "      <td id=\"T_4e47c_row8_col7\" class=\"data row8 col7\" >0.022168</td>\n",
       "      <td id=\"T_4e47c_row8_col8\" class=\"data row8 col8\" >1.000000</td>\n",
       "      <td id=\"T_4e47c_row8_col9\" class=\"data row8 col9\" >0.149447</td>\n",
       "      <td id=\"T_4e47c_row8_col10\" class=\"data row8 col10\" >-0.219854</td>\n",
       "    </tr>\n",
       "    <tr>\n",
       "      <th id=\"T_4e47c_level0_row9\" class=\"row_heading level0 row9\" >VRDeck</th>\n",
       "      <td id=\"T_4e47c_row9_col0\" class=\"data row9 col0\" >0.040253</td>\n",
       "      <td id=\"T_4e47c_row9_col1\" class=\"data row9 col1\" >-0.199095</td>\n",
       "      <td id=\"T_4e47c_row9_col2\" class=\"data row9 col2\" >0.073714</td>\n",
       "      <td id=\"T_4e47c_row9_col3\" class=\"data row9 col3\" >0.105031</td>\n",
       "      <td id=\"T_4e47c_row9_col4\" class=\"data row9 col4\" >0.130061</td>\n",
       "      <td id=\"T_4e47c_row9_col5\" class=\"data row9 col5\" >-0.026002</td>\n",
       "      <td id=\"T_4e47c_row9_col6\" class=\"data row9 col6\" >0.216997</td>\n",
       "      <td id=\"T_4e47c_row9_col7\" class=\"data row9 col7\" >0.000383</td>\n",
       "      <td id=\"T_4e47c_row9_col8\" class=\"data row9 col8\" >0.149447</td>\n",
       "      <td id=\"T_4e47c_row9_col9\" class=\"data row9 col9\" >1.000000</td>\n",
       "      <td id=\"T_4e47c_row9_col10\" class=\"data row9 col10\" >-0.207950</td>\n",
       "    </tr>\n",
       "    <tr>\n",
       "      <th id=\"T_4e47c_level0_row10\" class=\"row_heading level0 row10\" >Transported</th>\n",
       "      <td id=\"T_4e47c_row10_col0\" class=\"data row10 col0\" >0.111806</td>\n",
       "      <td id=\"T_4e47c_row10_col1\" class=\"data row10 col1\" >0.462803</td>\n",
       "      <td id=\"T_4e47c_row10_col2\" class=\"data row10 col2\" >0.123773</td>\n",
       "      <td id=\"T_4e47c_row10_col3\" class=\"data row10 col3\" >-0.082553</td>\n",
       "      <td id=\"T_4e47c_row10_col4\" class=\"data row10 col4\" >-0.042260</td>\n",
       "      <td id=\"T_4e47c_row10_col5\" class=\"data row10 col5\" >-0.247291</td>\n",
       "      <td id=\"T_4e47c_row10_col6\" class=\"data row10 col6\" >0.055025</td>\n",
       "      <td id=\"T_4e47c_row10_col7\" class=\"data row10 col7\" >0.011602</td>\n",
       "      <td id=\"T_4e47c_row10_col8\" class=\"data row10 col8\" >-0.219854</td>\n",
       "      <td id=\"T_4e47c_row10_col9\" class=\"data row10 col9\" >-0.207950</td>\n",
       "      <td id=\"T_4e47c_row10_col10\" class=\"data row10 col10\" >1.000000</td>\n",
       "    </tr>\n",
       "  </tbody>\n",
       "</table>\n"
      ],
      "text/plain": [
       "<pandas.io.formats.style.Styler at 0x1ee1dcb9610>"
      ]
     },
     "execution_count": 102,
     "metadata": {},
     "output_type": "execute_result"
    }
   ],
   "source": [
    "train_data.corr().style.background_gradient(cmap='Oranges')\n"
   ]
  },
  {
   "cell_type": "markdown",
   "id": "f018dbd9",
   "metadata": {},
   "source": [
    "r-values greater than 0.7 indicate a strong correlation between two attributes. From the graph above, there doesn't appear to be any strong correlations. However, there seems to be link between the passengers who requested to be in cryo sleep and passengers who were transported, with an r-value of 0.46  "
   ]
  },
  {
   "cell_type": "code",
   "execution_count": 103,
   "id": "5e5eba73",
   "metadata": {
    "scrolled": false
   },
   "outputs": [
    {
     "data": {
      "text/plain": [
       "[<matplotlib.lines.Line2D at 0x1ee1dcfd4f0>]"
      ]
     },
     "execution_count": 103,
     "metadata": {},
     "output_type": "execute_result"
    },
    {
     "data": {
      "image/png": "[encoded data removed]",
      "text/plain": [
       "<Figure size 640x480 with 1 Axes>"
      ]
     },
     "metadata": {},
     "output_type": "display_data"
    }
   ],
   "source": [
    "x = train_data['CryoSleep']\n",
    "y = train_data['Transported']\n",
    "\n",
    "plt.title('Relationship between Cryo Sleep and Transported to Alternate Dimension')\n",
    "plt.xlabel('CryoSleep')\n",
    "plt.ylabel('Transported')\n",
    "plt.plot(x,y,'o')\n",
    "m, b = np.polyfit(x, y, 1)\n",
    "plt.plot(x, m*x+b)\n"
   ]
  },
  {
   "cell_type": "markdown",
   "id": "3f2cc076",
   "metadata": {},
   "source": [
    "Columns with integer values include:-\n",
    "-Age\n",
    "-Room Service (amount billed)\n",
    "-Food Court (amount billed)\n",
    "-Shopping mall (amount billed)\n",
    "-Spa (amount billed)\n",
    "-VR Deck (amount billed)\n"
   ]
  },
  {
   "cell_type": "markdown",
   "id": "3796b943",
   "metadata": {},
   "source": [
    "Non-integer value columns include:-\n",
    "-PassengerId \n",
    "-HomePlanet\n",
    "-CryoSleep\n",
    "-Cabin \n",
    "-Destination\n",
    "-VIP\n",
    "-Name\n",
    "-Transported\n"
   ]
  },
  {
   "cell_type": "markdown",
   "id": "58c13c01",
   "metadata": {},
   "source": [
    "Let's take a look at each non-integer column in more detail. "
   ]
  },
  {
   "cell_type": "code",
   "execution_count": 104,
   "id": "59579f3a",
   "metadata": {},
   "outputs": [
    {
     "data": {
      "text/plain": [
       "0.0    4274\n",
       "1.0    2332\n",
       "Name: CryoSleep, dtype: int64"
      ]
     },
     "execution_count": 104,
     "metadata": {},
     "output_type": "execute_result"
    }
   ],
   "source": [
    "train_data['CryoSleep'].value_counts()"
   ]
  },
  {
   "cell_type": "code",
   "execution_count": 105,
   "id": "784d1efb",
   "metadata": {},
   "outputs": [
    {
     "data": {
      "text/plain": [
       "PassengerId     0\n",
       "HomePlanet      0\n",
       "CryoSleep       0\n",
       "Cabin           0\n",
       "Destination     0\n",
       "Age             0\n",
       "VIP             0\n",
       "RoomService     0\n",
       "FoodCourt       0\n",
       "ShoppingMall    0\n",
       "Spa             0\n",
       "VRDeck          0\n",
       "Name            0\n",
       "Transported     0\n",
       "dtype: int64"
      ]
     },
     "execution_count": 105,
     "metadata": {},
     "output_type": "execute_result"
    }
   ],
   "source": [
    "train_data.isnull().sum()"
   ]
  },
  {
   "cell_type": "code",
   "execution_count": 106,
   "id": "60f5ff49",
   "metadata": {},
   "outputs": [],
   "source": [
    "#select the column we want to predict (i.e. the prediction target)\n",
    "y = train_data.Transported\n"
   ]
  },
  {
   "cell_type": "code",
   "execution_count": 107,
   "id": "ae8cc1c1",
   "metadata": {},
   "outputs": [],
   "source": [
    "#choose features (i.e. columns from data used to make predictions)\n",
    "train_data_features = ['CryoSleep']\n",
    "\n",
    "X = train_data[filt_train_data_features]"
   ]
  },
  {
   "cell_type": "code",
   "execution_count": 108,
   "id": "df38bf0a",
   "metadata": {
    "scrolled": true
   },
   "outputs": [
    {
     "data": {
      "text/html": [
       "<div>\n",
       "<style scoped>\n",
       "    .dataframe tbody tr th:only-of-type {\n",
       "        vertical-align: middle;\n",
       "    }\n",
       "\n",
       "    .dataframe tbody tr th {\n",
       "        vertical-align: top;\n",
       "    }\n",
       "\n",
       "    .dataframe thead th {\n",
       "        text-align: right;\n",
       "    }\n",
       "</style>\n",
       "<table border=\"1\" class=\"dataframe\">\n",
       "  <thead>\n",
       "    <tr style=\"text-align: right;\">\n",
       "      <th></th>\n",
       "      <th>CryoSleep</th>\n",
       "    </tr>\n",
       "  </thead>\n",
       "  <tbody>\n",
       "    <tr>\n",
       "      <th>count</th>\n",
       "      <td>6606.000000</td>\n",
       "    </tr>\n",
       "    <tr>\n",
       "      <th>mean</th>\n",
       "      <td>0.353012</td>\n",
       "    </tr>\n",
       "    <tr>\n",
       "      <th>std</th>\n",
       "      <td>0.477944</td>\n",
       "    </tr>\n",
       "    <tr>\n",
       "      <th>min</th>\n",
       "      <td>0.000000</td>\n",
       "    </tr>\n",
       "    <tr>\n",
       "      <th>25%</th>\n",
       "      <td>0.000000</td>\n",
       "    </tr>\n",
       "    <tr>\n",
       "      <th>50%</th>\n",
       "      <td>0.000000</td>\n",
       "    </tr>\n",
       "    <tr>\n",
       "      <th>75%</th>\n",
       "      <td>1.000000</td>\n",
       "    </tr>\n",
       "    <tr>\n",
       "      <th>max</th>\n",
       "      <td>1.000000</td>\n",
       "    </tr>\n",
       "  </tbody>\n",
       "</table>\n",
       "</div>"
      ],
      "text/plain": [
       "         CryoSleep\n",
       "count  6606.000000\n",
       "mean      0.353012\n",
       "std       0.477944\n",
       "min       0.000000\n",
       "25%       0.000000\n",
       "50%       0.000000\n",
       "75%       1.000000\n",
       "max       1.000000"
      ]
     },
     "execution_count": 108,
     "metadata": {},
     "output_type": "execute_result"
    }
   ],
   "source": [
    "#review data to be used to predic transportation\n",
    "X.describe()"
   ]
  },
  {
   "cell_type": "code",
   "execution_count": 109,
   "id": "e73a7d8e",
   "metadata": {
    "scrolled": true
   },
   "outputs": [
    {
     "data": {
      "text/html": [
       "<div>\n",
       "<style scoped>\n",
       "    .dataframe tbody tr th:only-of-type {\n",
       "        vertical-align: middle;\n",
       "    }\n",
       "\n",
       "    .dataframe tbody tr th {\n",
       "        vertical-align: top;\n",
       "    }\n",
       "\n",
       "    .dataframe thead th {\n",
       "        text-align: right;\n",
       "    }\n",
       "</style>\n",
       "<table border=\"1\" class=\"dataframe\">\n",
       "  <thead>\n",
       "    <tr style=\"text-align: right;\">\n",
       "      <th></th>\n",
       "      <th>CryoSleep</th>\n",
       "    </tr>\n",
       "  </thead>\n",
       "  <tbody>\n",
       "    <tr>\n",
       "      <th>0</th>\n",
       "      <td>0.0</td>\n",
       "    </tr>\n",
       "    <tr>\n",
       "      <th>1</th>\n",
       "      <td>0.0</td>\n",
       "    </tr>\n",
       "    <tr>\n",
       "      <th>2</th>\n",
       "      <td>0.0</td>\n",
       "    </tr>\n",
       "    <tr>\n",
       "      <th>3</th>\n",
       "      <td>0.0</td>\n",
       "    </tr>\n",
       "    <tr>\n",
       "      <th>4</th>\n",
       "      <td>0.0</td>\n",
       "    </tr>\n",
       "  </tbody>\n",
       "</table>\n",
       "</div>"
      ],
      "text/plain": [
       "   CryoSleep\n",
       "0        0.0\n",
       "1        0.0\n",
       "2        0.0\n",
       "3        0.0\n",
       "4        0.0"
      ]
     },
     "execution_count": 109,
     "metadata": {},
     "output_type": "execute_result"
    }
   ],
   "source": [
    "X.head()"
   ]
  },
  {
   "cell_type": "code",
   "execution_count": 110,
   "id": "c924a9b1",
   "metadata": {},
   "outputs": [
    {
     "data": {
      "text/plain": [
       "count     6606\n",
       "unique       2\n",
       "top       True\n",
       "freq      3327\n",
       "Name: Transported, dtype: object"
      ]
     },
     "execution_count": 110,
     "metadata": {},
     "output_type": "execute_result"
    }
   ],
   "source": [
    "y.describe()"
   ]
  },
  {
   "cell_type": "code",
   "execution_count": 111,
   "id": "6d2b671d",
   "metadata": {},
   "outputs": [
    {
     "data": {
      "text/plain": [
       "0    False\n",
       "1     True\n",
       "2    False\n",
       "3    False\n",
       "4     True\n",
       "Name: Transported, dtype: bool"
      ]
     },
     "execution_count": 111,
     "metadata": {},
     "output_type": "execute_result"
    }
   ],
   "source": [
    "y.head()"
   ]
  },
  {
   "cell_type": "code",
   "execution_count": 112,
   "id": "9ab0c905",
   "metadata": {
    "scrolled": true
   },
   "outputs": [
    {
     "data": {
      "text/plain": [
       "CryoSleep    0\n",
       "dtype: int64"
      ]
     },
     "execution_count": 112,
     "metadata": {},
     "output_type": "execute_result"
    }
   ],
   "source": [
    "X.isnull().sum()"
   ]
  },
  {
   "cell_type": "code",
   "execution_count": 113,
   "id": "45004522",
   "metadata": {},
   "outputs": [
    {
     "data": {
      "text/plain": [
       "0"
      ]
     },
     "execution_count": 113,
     "metadata": {},
     "output_type": "execute_result"
    }
   ],
   "source": [
    "y.isnull().sum()"
   ]
  },
  {
   "cell_type": "code",
   "execution_count": 114,
   "id": "774b590b",
   "metadata": {},
   "outputs": [
    {
     "data": {
      "text/plain": [
       "(6606,)"
      ]
     },
     "execution_count": 114,
     "metadata": {},
     "output_type": "execute_result"
    }
   ],
   "source": [
    "y.shape"
   ]
  },
  {
   "cell_type": "code",
   "execution_count": 89,
   "id": "03d26951",
   "metadata": {},
   "outputs": [],
   "source": [
    "#building an ML model\n",
    "#steps include\n",
    "#1. define - what type of model \n",
    "#2. fit - find patterns from data provided\n",
    "#3. predict \n",
    "#4. evaluate - determine accuracy of model using a metric\n"
   ]
  },
  {
   "cell_type": "code",
   "execution_count": 115,
   "id": "5228a658",
   "metadata": {},
   "outputs": [
    {
     "data": {
      "text/plain": [
       "DecisionTreeRegressor(random_state=1)"
      ]
     },
     "execution_count": 115,
     "metadata": {},
     "output_type": "execute_result"
    }
   ],
   "source": [
    "from sklearn.tree import DecisionTreeRegressor\n",
    "#define model and specify a number for random_state to ensure same results each time\n",
    "\n",
    "train_model = DecisionTreeRegressor(random_state=1)\n",
    "#fit model\n",
    "train_model.fit(X,y)\n"
   ]
  },
  {
   "cell_type": "code",
   "execution_count": 116,
   "id": "976a74c2",
   "metadata": {
    "scrolled": true
   },
   "outputs": [
    {
     "data": {
      "text/html": [
       "<div>\n",
       "<style scoped>\n",
       "    .dataframe tbody tr th:only-of-type {\n",
       "        vertical-align: middle;\n",
       "    }\n",
       "\n",
       "    .dataframe tbody tr th {\n",
       "        vertical-align: top;\n",
       "    }\n",
       "\n",
       "    .dataframe thead th {\n",
       "        text-align: right;\n",
       "    }\n",
       "</style>\n",
       "<table border=\"1\" class=\"dataframe\">\n",
       "  <thead>\n",
       "    <tr style=\"text-align: right;\">\n",
       "      <th></th>\n",
       "      <th>CryoSleep</th>\n",
       "    </tr>\n",
       "  </thead>\n",
       "  <tbody>\n",
       "    <tr>\n",
       "      <th>0</th>\n",
       "      <td>0.0</td>\n",
       "    </tr>\n",
       "    <tr>\n",
       "      <th>1</th>\n",
       "      <td>0.0</td>\n",
       "    </tr>\n",
       "    <tr>\n",
       "      <th>2</th>\n",
       "      <td>0.0</td>\n",
       "    </tr>\n",
       "    <tr>\n",
       "      <th>3</th>\n",
       "      <td>0.0</td>\n",
       "    </tr>\n",
       "    <tr>\n",
       "      <th>4</th>\n",
       "      <td>0.0</td>\n",
       "    </tr>\n",
       "  </tbody>\n",
       "</table>\n",
       "</div>"
      ],
      "text/plain": [
       "   CryoSleep\n",
       "0        0.0\n",
       "1        0.0\n",
       "2        0.0\n",
       "3        0.0\n",
       "4        0.0"
      ]
     },
     "execution_count": 116,
     "metadata": {},
     "output_type": "execute_result"
    }
   ],
   "source": [
    "X.head()"
   ]
  },
  {
   "cell_type": "code",
   "execution_count": 117,
   "id": "99b37c35",
   "metadata": {},
   "outputs": [
    {
     "name": "stdout",
     "output_type": "stream",
     "text": [
      "[0.33270941 0.33270941 0.33270941 0.33270941 0.33270941]\n"
     ]
    }
   ],
   "source": [
    "print(filt_train_model.predict(X.head()))"
   ]
  },
  {
   "cell_type": "code",
   "execution_count": 118,
   "id": "e3e7ad4f",
   "metadata": {},
   "outputs": [
    {
     "ename": "NameError",
     "evalue": "name 'actual' is not defined",
     "output_type": "error",
     "traceback": [
      "\u001b[1;31m---------------------------------------------------------------------------\u001b[0m",
      "\u001b[1;31mNameError\u001b[0m                                 Traceback (most recent call last)",
      "\u001b[1;32m~\\AppData\\Local\\Temp\\ipykernel_16696\\1497499913.py\u001b[0m in \u001b[0;36m<module>\u001b[1;34m\u001b[0m\n\u001b[0;32m      1\u001b[0m \u001b[1;31m#using Mean Absolute Error (MAE) we can summarise the model quality\u001b[0m\u001b[1;33m\u001b[0m\u001b[1;33m\u001b[0m\u001b[0m\n\u001b[0;32m      2\u001b[0m \u001b[1;33m\u001b[0m\u001b[0m\n\u001b[1;32m----> 3\u001b[1;33m \u001b[0merror\u001b[0m \u001b[1;33m=\u001b[0m \u001b[0mactual\u001b[0m\u001b[1;33m-\u001b[0m\u001b[0mpredicted\u001b[0m\u001b[1;33m\u001b[0m\u001b[1;33m\u001b[0m\u001b[0m\n\u001b[0m",
      "\u001b[1;31mNameError\u001b[0m: name 'actual' is not defined"
     ]
    }
   ],
   "source": [
    "#using Mean Absolute Error (MAE) we can summarise the model quality\n",
    "\n",
    "error = actual-predicted"
   ]
  },
  {
   "cell_type": "code",
   "execution_count": 44,
   "id": "024fb764",
   "metadata": {},
   "outputs": [
    {
     "data": {
      "text/plain": [
       "DecisionTreeRegressor()"
      ]
     },
     "execution_count": 44,
     "metadata": {},
     "output_type": "execute_result"
    }
   ],
   "source": [
    "#we need a model to caluclate MAE \n",
    "filt_train_model = DecisionTreeRegressor()\n",
    "#fit model\n",
    "filt_train_model.fit(X,y)\n"
   ]
  },
  {
   "cell_type": "code",
   "execution_count": 45,
   "id": "3a814d16",
   "metadata": {},
   "outputs": [
    {
     "data": {
      "text/plain": [
       "0.39288572435721275"
      ]
     },
     "execution_count": 45,
     "metadata": {},
     "output_type": "execute_result"
    }
   ],
   "source": [
    "from sklearn.metrics import mean_absolute_error\n",
    "\n",
    "predicted_outcome = filt_train_model.predict(X)\n",
    "mean_absolute_error(y, predicted_outcome)"
   ]
  },
  {
   "cell_type": "code",
   "execution_count": 41,
   "id": "2d62e469",
   "metadata": {},
   "outputs": [
    {
     "data": {
      "text/plain": [
       "array([0., 1., 0., ..., 1., 0., 1.])"
      ]
     },
     "execution_count": 41,
     "metadata": {},
     "output_type": "execute_result"
    }
   ],
   "source": []
  },
  {
   "cell_type": "code",
   "execution_count": null,
   "id": "5800c679",
   "metadata": {},
   "outputs": [],
   "source": []
  },
  {
   "cell_type": "code",
   "execution_count": null,
   "id": "d3282de3",
   "metadata": {},
   "outputs": [],
   "source": []
  },
  {
   "cell_type": "code",
   "execution_count": null,
   "id": "82b8e6a5",
   "metadata": {},
   "outputs": [],
   "source": []
  },
  {
   "cell_type": "code",
   "execution_count": null,
   "id": "acfcda66",
   "metadata": {},
   "outputs": [],
   "source": []
  },
  {
   "cell_type": "code",
   "execution_count": null,
   "id": "b50af98c",
   "metadata": {},
   "outputs": [],
   "source": []
  },
  {
   "cell_type": "code",
   "execution_count": null,
   "id": "a1be2736",
   "metadata": {},
   "outputs": [],
   "source": []
  },
  {
   "cell_type": "markdown",
   "id": "73f6575a",
   "metadata": {},
   "source": [
    "The next question is, which data is important and will have an influence on our final prediction (attribute- Transported). "
   ]
  },
  {
   "cell_type": "code",
   "execution_count": null,
   "id": "b105efe3",
   "metadata": {},
   "outputs": [],
   "source": []
  },
  {
   "cell_type": "code",
   "execution_count": 27,
   "id": "2f4a2a85",
   "metadata": {},
   "outputs": [],
   "source": []
  },
  {
   "cell_type": "code",
   "execution_count": null,
   "id": "449887ee",
   "metadata": {},
   "outputs": [],
   "source": []
  },
  {
   "cell_type": "code",
   "execution_count": 28,
   "id": "12c3842f",
   "metadata": {},
   "outputs": [
    {
     "data": {
      "text/html": [
       "<div>\n",
       "<style scoped>\n",
       "    .dataframe tbody tr th:only-of-type {\n",
       "        vertical-align: middle;\n",
       "    }\n",
       "\n",
       "    .dataframe tbody tr th {\n",
       "        vertical-align: top;\n",
       "    }\n",
       "\n",
       "    .dataframe thead th {\n",
       "        text-align: right;\n",
       "    }\n",
       "</style>\n",
       "<table border=\"1\" class=\"dataframe\">\n",
       "  <thead>\n",
       "    <tr style=\"text-align: right;\">\n",
       "      <th></th>\n",
       "      <th>PassengerId</th>\n",
       "      <th>HomePlanet</th>\n",
       "      <th>CryoSleep</th>\n",
       "      <th>Cabin</th>\n",
       "      <th>Destination</th>\n",
       "      <th>Age</th>\n",
       "      <th>VIP</th>\n",
       "      <th>RoomService</th>\n",
       "      <th>FoodCourt</th>\n",
       "      <th>ShoppingMall</th>\n",
       "      <th>Spa</th>\n",
       "      <th>VRDeck</th>\n",
       "      <th>Name</th>\n",
       "    </tr>\n",
       "  </thead>\n",
       "  <tbody>\n",
       "    <tr>\n",
       "      <th>0</th>\n",
       "      <td>0013_01</td>\n",
       "      <td>Earth</td>\n",
       "      <td>True</td>\n",
       "      <td>G/3/S</td>\n",
       "      <td>TRAPPIST-1e</td>\n",
       "      <td>27.0</td>\n",
       "      <td>False</td>\n",
       "      <td>0.0</td>\n",
       "      <td>0.0</td>\n",
       "      <td>0.0</td>\n",
       "      <td>0.0</td>\n",
       "      <td>0.0</td>\n",
       "      <td>Nelly Carsoning</td>\n",
       "    </tr>\n",
       "    <tr>\n",
       "      <th>1</th>\n",
       "      <td>0018_01</td>\n",
       "      <td>Earth</td>\n",
       "      <td>False</td>\n",
       "      <td>F/4/S</td>\n",
       "      <td>TRAPPIST-1e</td>\n",
       "      <td>19.0</td>\n",
       "      <td>False</td>\n",
       "      <td>0.0</td>\n",
       "      <td>9.0</td>\n",
       "      <td>0.0</td>\n",
       "      <td>2823.0</td>\n",
       "      <td>0.0</td>\n",
       "      <td>Lerome Peckers</td>\n",
       "    </tr>\n",
       "    <tr>\n",
       "      <th>2</th>\n",
       "      <td>0019_01</td>\n",
       "      <td>Europa</td>\n",
       "      <td>True</td>\n",
       "      <td>C/0/S</td>\n",
       "      <td>55 Cancri e</td>\n",
       "      <td>31.0</td>\n",
       "      <td>False</td>\n",
       "      <td>0.0</td>\n",
       "      <td>0.0</td>\n",
       "      <td>0.0</td>\n",
       "      <td>0.0</td>\n",
       "      <td>0.0</td>\n",
       "      <td>Sabih Unhearfus</td>\n",
       "    </tr>\n",
       "    <tr>\n",
       "      <th>3</th>\n",
       "      <td>0021_01</td>\n",
       "      <td>Europa</td>\n",
       "      <td>False</td>\n",
       "      <td>C/1/S</td>\n",
       "      <td>TRAPPIST-1e</td>\n",
       "      <td>38.0</td>\n",
       "      <td>False</td>\n",
       "      <td>0.0</td>\n",
       "      <td>6652.0</td>\n",
       "      <td>0.0</td>\n",
       "      <td>181.0</td>\n",
       "      <td>585.0</td>\n",
       "      <td>Meratz Caltilter</td>\n",
       "    </tr>\n",
       "    <tr>\n",
       "      <th>4</th>\n",
       "      <td>0023_01</td>\n",
       "      <td>Earth</td>\n",
       "      <td>False</td>\n",
       "      <td>F/5/S</td>\n",
       "      <td>TRAPPIST-1e</td>\n",
       "      <td>20.0</td>\n",
       "      <td>False</td>\n",
       "      <td>10.0</td>\n",
       "      <td>0.0</td>\n",
       "      <td>635.0</td>\n",
       "      <td>0.0</td>\n",
       "      <td>0.0</td>\n",
       "      <td>Brence Harperez</td>\n",
       "    </tr>\n",
       "  </tbody>\n",
       "</table>\n",
       "</div>"
      ],
      "text/plain": [
       "  PassengerId HomePlanet CryoSleep  Cabin  Destination   Age    VIP  \\\n",
       "0     0013_01      Earth      True  G/3/S  TRAPPIST-1e  27.0  False   \n",
       "1     0018_01      Earth     False  F/4/S  TRAPPIST-1e  19.0  False   \n",
       "2     0019_01     Europa      True  C/0/S  55 Cancri e  31.0  False   \n",
       "3     0021_01     Europa     False  C/1/S  TRAPPIST-1e  38.0  False   \n",
       "4     0023_01      Earth     False  F/5/S  TRAPPIST-1e  20.0  False   \n",
       "\n",
       "   RoomService  FoodCourt  ShoppingMall     Spa  VRDeck              Name  \n",
       "0          0.0        0.0           0.0     0.0     0.0   Nelly Carsoning  \n",
       "1          0.0        9.0           0.0  2823.0     0.0    Lerome Peckers  \n",
       "2          0.0        0.0           0.0     0.0     0.0   Sabih Unhearfus  \n",
       "3          0.0     6652.0           0.0   181.0   585.0  Meratz Caltilter  \n",
       "4         10.0        0.0         635.0     0.0     0.0   Brence Harperez  "
      ]
     },
     "execution_count": 28,
     "metadata": {},
     "output_type": "execute_result"
    }
   ],
   "source": [
    "test_data = pd.read_csv(r\"C:\\Users\\krupa\\OneDrive\\Desktop\\Titanic_ship_ML\\data\\test.csv\")\n",
    "\n",
    "test_data.head()"
   ]
  },
  {
   "cell_type": "code",
   "execution_count": 29,
   "id": "08f535c8",
   "metadata": {},
   "outputs": [
    {
     "data": {
      "text/plain": [
       "Index(['PassengerId', 'HomePlanet', 'CryoSleep', 'Cabin', 'Destination', 'Age',\n",
       "       'VIP', 'RoomService', 'FoodCourt', 'ShoppingMall', 'Spa', 'VRDeck',\n",
       "       'Name'],\n",
       "      dtype='object')"
      ]
     },
     "execution_count": 29,
     "metadata": {},
     "output_type": "execute_result"
    }
   ],
   "source": [
    "test_data.columns"
   ]
  }
 ],
 "metadata": {
  "kernelspec": {
   "display_name": "Python 3 (ipykernel)",
   "language": "python",
   "name": "python3"
  },
  "language_info": {
   "codemirror_mode": {
    "name": "ipython",
    "version": 3
   },
   "file_extension": ".py",
   "mimetype": "text/x-python",
   "name": "python",
   "nbconvert_exporter": "python",
   "pygments_lexer": "ipython3",
   "version": "3.9.13"
  }
 },
 "nbformat": 4,
 "nbformat_minor": 5
}
